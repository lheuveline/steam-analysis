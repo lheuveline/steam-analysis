{
 "cells": [
  {
   "cell_type": "code",
   "execution_count": 2,
   "metadata": {},
   "outputs": [
    {
     "data": {
      "text/html": [
       "<style>.container { width:100% !important; }</style>"
      ],
      "text/plain": [
       "<IPython.core.display.HTML object>"
      ]
     },
     "metadata": {},
     "output_type": "display_data"
    }
   ],
   "source": [
    "# Just take all width for viz if you have a wide screen like me.\n",
    "from IPython.core.display import display, HTML\n",
    "display(HTML(\"<style>.container { width:100% !important; }</style>\"))\n",
    "\n",
    "# Use findspark to set Pyspark in sys.path\n",
    "import findspark\n",
    "findspark.init()\n",
    "\n",
    "# import pyspark dependencies\n",
    "from pyspark.sql import SparkSession\n",
    "import pyspark.sql.functions as F\n",
    "from pyspark.sql.types import *\n",
    "from pyspark.sql import Window\n",
    "\n",
    "import os"
   ]
  },
  {
   "cell_type": "code",
   "execution_count": 3,
   "metadata": {},
   "outputs": [],
   "source": [
    "spark = SparkSession \\\n",
    "    .builder \\\n",
    "    .master('local[*]') \\\n",
    "    .config(\"spark.driver.memory\", \"10g\") \\\n",
    "    .appName(\"steam-analysis-eda\") \\\n",
    "    .getOrCreate()"
   ]
  },
  {
   "cell_type": "code",
   "execution_count": 92,
   "metadata": {},
   "outputs": [
    {
     "name": "stdout",
     "output_type": "stream",
     "text": [
      "[main a981db2] compare arstechnica and steam-dataset computed owners\n",
      " 5 files changed, 738 insertions(+), 6 deletions(-)\n",
      " create mode 100644 notebooks/.ipynb_checkpoints/Compare_datasets-checkpoint.ipynb\n",
      " create mode 100644 notebooks/.ipynb_checkpoints/Untitled-checkpoint.ipynb\n",
      " create mode 100644 notebooks/Compare_datasets.ipynb\n",
      " create mode 100644 notebooks/Untitled.ipynb\n"
     ]
    },
    {
     "name": "stderr",
     "output_type": "stream",
     "text": [
      "To github.com:lheuveline/steam-analysis.git\n",
      "   4d6e787..a981db2  main -> main\n"
     ]
    }
   ],
   "source": [
    "%%bash\n",
    "# Just a cell to allow bash interactions without bash in webui\n",
    "\n",
    "git add . && git commit -m \"compare arstechnica and steam-dataset computed owners\" && git push origin main"
   ]
  },
  {
   "cell_type": "code",
   "execution_count": 4,
   "metadata": {},
   "outputs": [
    {
     "data": {
      "text/html": [
       "\n",
       "            <div>\n",
       "                <p><b>SparkSession - in-memory</b></p>\n",
       "                \n",
       "        <div>\n",
       "            <p><b>SparkContext</b></p>\n",
       "\n",
       "            <p><a href=\"http://neadex-xps-13-9380.home:4041\">Spark UI</a></p>\n",
       "\n",
       "            <dl>\n",
       "              <dt>Version</dt>\n",
       "                <dd><code>v3.0.0-preview2</code></dd>\n",
       "              <dt>Master</dt>\n",
       "                <dd><code>local[*]</code></dd>\n",
       "              <dt>AppName</dt>\n",
       "                <dd><code>steam-analysis-eda</code></dd>\n",
       "            </dl>\n",
       "        </div>\n",
       "        \n",
       "            </div>\n",
       "        "
      ],
      "text/plain": [
       "<pyspark.sql.session.SparkSession at 0x7f6fed2dadd0>"
      ]
     },
     "execution_count": 4,
     "metadata": {},
     "output_type": "execute_result"
    }
   ],
   "source": [
    "spark"
   ]
  },
  {
   "cell_type": "code",
   "execution_count": 14,
   "metadata": {},
   "outputs": [],
   "source": [
    "dataset_path = os.path.join(os.path.dirname(os.path.realpath(\"\")), \"data/\")\n",
    "\n",
    "ars_dataset = \"arstechnica/arstechnica_games_sales_1.csv\"\n",
    "ars_dataset_schema = StructType([\n",
    "    StructField('#', IntegerType()),\n",
    "    StructField('appid', IntegerType()),\n",
    "    StructField('title', StringType()),\n",
    "    StructField('release', DateType()),\n",
    "    StructField('players', IntegerType()),\n",
    "    StructField('owners', IntegerType()),\n",
    "    StructField('total_hours', StringType()),\n",
    "    StructField('developer', StringType()),\n",
    "    StructField('publisher', StringType())\n",
    "])\n",
    "\n",
    "ars_df = spark.read.csv(\"file://\" + dataset_path + base_dataset, header = True, schema = base_dataset_schema)"
   ]
  },
  {
   "cell_type": "code",
   "execution_count": 15,
   "metadata": {},
   "outputs": [
    {
     "name": "stdout",
     "output_type": "stream",
     "text": [
      "+---+------+--------------------+-------+-------+--------+-----------+--------------------+--------------------+\n",
      "|  #| appid|               title|release|players|  owners|total_hours|           developer|           publisher|\n",
      "+---+------+--------------------+-------+-------+--------+-----------+--------------------+--------------------+\n",
      "|  1|304930|            Unturned|   null|9099669|12226095|  100073000|       Nelson Sexton|Smartly Dressed G...|\n",
      "|  2|301520|           Robocraft|   null|3549730| 5344712|   56569900|             Freejam|             Freejam|\n",
      "|  3|227940|   Heroes & Generals|   null|2779196| 4442318|   22875900|           Reto-Moto|           Reto-Moto|\n",
      "|  4|208090|             Loadout|   null|1993110| 3312720|   17126300|     Edge of Reality|     Edge of Reality|\n",
      "|  5|222900|Dead Island: Epid...|   null|1713161| 3900679|    7806700|    Stunlock Studios|         Deep Silver|\n",
      "|  6|314060|Counter-Strike Ne...|   null|1439637| 2674384|   12633200|               Nexon|Nexon Europe S.a.r.l|\n",
      "|  7|265930|      Goat Simulator|   null|1383174| 1478519|    8526140|Coffee Stain Studios|Coffee Stain Studios|\n",
      "|  8|291480|             Warface|   null|1365931| 2377193|   11710200|              Crytek|              Crytek|\n",
      "|  9|222880|          Insurgency|   null|1191808| 1608012|   14349900|New World Interac...|New World Interac...|\n",
      "| 10|200110|             Nosgoth|   null|1183018| 2121250|    6551330|             Psyonix|         Square Enix|\n",
      "| 11|242760|          The Forest|   null|1126893| 1170846|    9611450|  Endnight Games Ltd|  Endnight Games Ltd|\n",
      "| 12|322330|Don't Starve Toge...|   null|1044058| 1190118|   11593600|  Klei Entertainment|  Klei Entertainment|\n",
      "| 13|227700|            Firefall|   null| 958856| 1964033|   12948500|       Red 5 Studios|       Red 5 Studios|\n",
      "| 14|241930|Middle-earth™: Sh...|   null| 916256|  977790|   20158100|Monolith Producti...|            WB Games|\n",
      "| 15|242920|            Banished|   null| 891236|  958518|   20322200|Shining Rock Soft...|Shining Rock Soft...|\n",
      "| 16|282440|         Quake Live™|   null| 891236| 1749338|    3631170|         id Software|  Bethesda Softworks|\n",
      "| 17|374320|      DARK SOULS™ II|   null| 887517|  964266|   70448700|   FromSoftware, Inc|BANDAI NAMCO Game...|\n",
      "| 18|224600|            Defiance|   null| 886165| 1844345|   20619000|  Trion Worlds, Inc.|  Trion Worlds, Inc.|\n",
      "| 19|302830|         BLOCKADE 3D|   null| 858440| 1207699|    4084370|     Shumkov Dmitriy|     Shumkov Dmitriy|\n",
      "| 20|213670|South Park™: The ...|   null| 855397|  929442|   14157000|Obsidian Entertai...|             Ubisoft|\n",
      "+---+------+--------------------+-------+-------+--------+-----------+--------------------+--------------------+\n",
      "only showing top 20 rows\n",
      "\n"
     ]
    }
   ],
   "source": [
    "ars_df.show()"
   ]
  },
  {
   "cell_type": "code",
   "execution_count": 22,
   "metadata": {},
   "outputs": [
    {
     "name": "stdout",
     "output_type": "stream",
     "text": [
      "Base dataset schema :\n",
      "root\n",
      " |-- steamid: decimal(20,0) (nullable = true)\n",
      " |-- appid: long (nullable = true)\n",
      " |-- playtime_2weeks: long (nullable = true)\n",
      " |-- playtime_forever: long (nullable = true)\n",
      " |-- dateretrieved: timestamp (nullable = true)\n",
      "\n"
     ]
    }
   ],
   "source": [
    "steam_df = spark.read.parquet(\"file://\" + dataset_path + \"steam-dataset/steam_analysis.Games_Daily\")\n",
    "print('Base dataset schema :')\n",
    "steam_df.printSchema()\n",
    "\n",
    "steam_df = steam_df \\\n",
    "    .groupby('appid') \\\n",
    "    .count() \\\n",
    "    .sort(F.col('count').desc())"
   ]
  },
  {
   "cell_type": "code",
   "execution_count": 89,
   "metadata": {},
   "outputs": [
    {
     "name": "stdout",
     "output_type": "stream",
     "text": [
      "Corr: 0.8470632906074657\n"
     ]
    },
    {
     "data": {
      "image/png": "[encoded data removed]",
      "text/plain": [
       "<Figure size 1440x720 with 1 Axes>"
      ]
     },
     "metadata": {
      "needs_background": "light"
     },
     "output_type": "display_data"
    }
   ],
   "source": [
    "ars_steam_pddf = ars_df \\\n",
    "    .join(steam_df, on = ['appid']) \\\n",
    "    .select('appid', 'title', 'players', 'owners', 'total_hours', 'count') \\\n",
    "    .toPandas()\n",
    "\n",
    "owners_quantile_1 = ars_steam_pddf['owners'].quantile(0.01)\n",
    "owners_quantile_9 = ars_steam_pddf['owners'].quantile(0.99)\n",
    "\n",
    "count_quantile_1 = ars_steam_pddf['count'].quantile(0.01)\n",
    "count_quantile_9 = ars_steam_pddf['count'].quantile(0.99)\n",
    "\n",
    "\n",
    "# Apply cleaning filters\n",
    "clean_df = ars_steam_pddf \\\n",
    "    .loc[ars_steam_pddf['owners'] <= owners_quantile_9] \\\n",
    "    .loc[ars_steam_pddf['count'] <= count_quantile_9] \\\n",
    "    .loc[ars_steam_pddf['owners'] >= owners_quantile_1] \\\n",
    "    .loc[ars_steam_pddf['count'] >= count_quantile_1]\n",
    "\n",
    "clean_df.plot.scatter(x = 'owners', y = 'count', figsize = (20, 10), title = \"Owners and Count correlation\")\n",
    "print('Corr:', clean_df.corr()['owners']['count'])"
   ]
  },
  {
   "cell_type": "code",
   "execution_count": 56,
   "metadata": {},
   "outputs": [
    {
     "data": {
      "text/plain": [
       "272444.4868035191"
      ]
     },
     "execution_count": 56,
     "metadata": {},
     "output_type": "execute_result"
    }
   ],
   "source": [
    "import numpy as np\n",
    "\n",
    "np.mean(np.sqrt(clean_df.owners - clean_df['count']) ** 2)"
   ]
  },
  {
   "cell_type": "code",
   "execution_count": 91,
   "metadata": {},
   "outputs": [
    {
     "name": "stdout",
     "output_type": "stream",
     "text": [
      "RMSE : 0.044881811759729544\n"
     ]
    },
    {
     "name": "stderr",
     "output_type": "stream",
     "text": [
      "/home/neadex/steam-analysis/venv/lib/python3.7/site-packages/pandas/core/series.py:726: RuntimeWarning: invalid value encountered in sqrt\n",
      "  result = getattr(ufunc, method)(*inputs, **kwargs)\n"
     ]
    },
    {
     "data": {
      "text/html": [
       "<div>\n",
       "<style scoped>\n",
       "    .dataframe tbody tr th:only-of-type {\n",
       "        vertical-align: middle;\n",
       "    }\n",
       "\n",
       "    .dataframe tbody tr th {\n",
       "        vertical-align: top;\n",
       "    }\n",
       "\n",
       "    .dataframe thead th {\n",
       "        text-align: right;\n",
       "    }\n",
       "</style>\n",
       "<table border=\"1\" class=\"dataframe\">\n",
       "  <thead>\n",
       "    <tr style=\"text-align: right;\">\n",
       "      <th></th>\n",
       "      <th>appid</th>\n",
       "      <th>players</th>\n",
       "      <th>owners</th>\n",
       "      <th>count</th>\n",
       "      <th>scaled_count</th>\n",
       "      <th>scaled_owners</th>\n",
       "    </tr>\n",
       "  </thead>\n",
       "  <tbody>\n",
       "    <tr>\n",
       "      <th>count</th>\n",
       "      <td>341.000000</td>\n",
       "      <td>3.410000e+02</td>\n",
       "      <td>3.410000e+02</td>\n",
       "      <td>341.000000</td>\n",
       "      <td>341.000000</td>\n",
       "      <td>341.000000</td>\n",
       "    </tr>\n",
       "    <tr>\n",
       "      <th>mean</th>\n",
       "      <td>261997.653959</td>\n",
       "      <td>1.779019e+05</td>\n",
       "      <td>2.822445e+05</td>\n",
       "      <td>9800.055718</td>\n",
       "      <td>0.095994</td>\n",
       "      <td>0.076434</td>\n",
       "    </tr>\n",
       "    <tr>\n",
       "      <th>std</th>\n",
       "      <td>36777.702561</td>\n",
       "      <td>2.490084e+05</td>\n",
       "      <td>3.932509e+05</td>\n",
       "      <td>13002.456930</td>\n",
       "      <td>0.128542</td>\n",
       "      <td>0.119847</td>\n",
       "    </tr>\n",
       "    <tr>\n",
       "      <th>min</th>\n",
       "      <td>10270.000000</td>\n",
       "      <td>2.434300e+04</td>\n",
       "      <td>3.144300e+04</td>\n",
       "      <td>90.000000</td>\n",
       "      <td>0.000000</td>\n",
       "      <td>0.000000</td>\n",
       "    </tr>\n",
       "    <tr>\n",
       "      <th>25%</th>\n",
       "      <td>244430.000000</td>\n",
       "      <td>4.293900e+04</td>\n",
       "      <td>7.505900e+04</td>\n",
       "      <td>2793.000000</td>\n",
       "      <td>0.026722</td>\n",
       "      <td>0.013292</td>\n",
       "    </tr>\n",
       "    <tr>\n",
       "      <th>50%</th>\n",
       "      <td>263620.000000</td>\n",
       "      <td>8.858300e+04</td>\n",
       "      <td>1.609360e+05</td>\n",
       "      <td>5279.000000</td>\n",
       "      <td>0.051299</td>\n",
       "      <td>0.039464</td>\n",
       "    </tr>\n",
       "    <tr>\n",
       "      <th>75%</th>\n",
       "      <td>286100.000000</td>\n",
       "      <td>1.852800e+05</td>\n",
       "      <td>2.978680e+05</td>\n",
       "      <td>11088.000000</td>\n",
       "      <td>0.108726</td>\n",
       "      <td>0.081196</td>\n",
       "    </tr>\n",
       "    <tr>\n",
       "      <th>max</th>\n",
       "      <td>329020.000000</td>\n",
       "      <td>1.993110e+06</td>\n",
       "      <td>3.312720e+06</td>\n",
       "      <td>101243.000000</td>\n",
       "      <td>1.000000</td>\n",
       "      <td>1.000000</td>\n",
       "    </tr>\n",
       "  </tbody>\n",
       "</table>\n",
       "</div>"
      ],
      "text/plain": [
       "               appid       players        owners          count  scaled_count  \\\n",
       "count     341.000000  3.410000e+02  3.410000e+02     341.000000    341.000000   \n",
       "mean   261997.653959  1.779019e+05  2.822445e+05    9800.055718      0.095994   \n",
       "std     36777.702561  2.490084e+05  3.932509e+05   13002.456930      0.128542   \n",
       "min     10270.000000  2.434300e+04  3.144300e+04      90.000000      0.000000   \n",
       "25%    244430.000000  4.293900e+04  7.505900e+04    2793.000000      0.026722   \n",
       "50%    263620.000000  8.858300e+04  1.609360e+05    5279.000000      0.051299   \n",
       "75%    286100.000000  1.852800e+05  2.978680e+05   11088.000000      0.108726   \n",
       "max    329020.000000  1.993110e+06  3.312720e+06  101243.000000      1.000000   \n",
       "\n",
       "       scaled_owners  \n",
       "count     341.000000  \n",
       "mean        0.076434  \n",
       "std         0.119847  \n",
       "min         0.000000  \n",
       "25%         0.013292  \n",
       "50%         0.039464  \n",
       "75%         0.081196  \n",
       "max         1.000000  "
      ]
     },
     "metadata": {},
     "output_type": "display_data"
    },
    {
     "data": {
      "text/plain": [
       "<AxesSubplot:title={'center':'Scaled count and scaled owners KDE plot'}, ylabel='Density'>"
      ]
     },
     "execution_count": 91,
     "metadata": {},
     "output_type": "execute_result"
    },
    {
     "data": {
      "image/png": "[encoded data removed]",
      "text/plain": [
       "<Figure size 1440x720 with 1 Axes>"
      ]
     },
     "metadata": {
      "needs_background": "light"
     },
     "output_type": "display_data"
    }
   ],
   "source": [
    "from sklearn.preprocessing import MinMaxScaler\n",
    "\n",
    "scaler = MinMaxScaler()\n",
    "clean_df['scaled_count'] = scaler.fit_transform(clean_df['count'].values.reshape(-1, 1))\n",
    "clean_df['scaled_owners'] = scaler.fit_transform(clean_df['owners'].values.reshape(-1, 1))\n",
    "\n",
    "print(\"RMSE :\", np.mean(np.sqrt(clean_df.scaled_count - clean_df.scaled_owners) ** 2))\n",
    "\n",
    "display(clean_df.describe())\n",
    "\n",
    "clean_df['scaled_count'].plot.kde(figsize=(20, 10), legend = True, title = \"Scaled count and scaled owners KDE plot\")\n",
    "clean_df['scaled_owners'].plot.kde(legend = True)"
   ]
  },
  {
   "cell_type": "code",
   "execution_count": null,
   "metadata": {},
   "outputs": [],
   "source": []
  }
 ],
 "metadata": {
  "kernelspec": {
   "display_name": "steam-analysis",
   "language": "python",
   "name": "steam-analysis"
  },
  "language_info": {
   "codemirror_mode": {
    "name": "ipython",
    "version": 3
   },
   "file_extension": ".py",
   "mimetype": "text/x-python",
   "name": "python",
   "nbconvert_exporter": "python",
   "pygments_lexer": "ipython3",
   "version": "3.7.5"
  }
 },
 "nbformat": 4,
 "nbformat_minor": 4
}
