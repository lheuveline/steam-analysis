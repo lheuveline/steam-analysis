{
 "cells": [
  {
   "cell_type": "markdown",
   "metadata": {},
   "source": [
    "# Steam EDA"
   ]
  },
  {
   "cell_type": "code",
   "execution_count": 8,
   "metadata": {},
   "outputs": [
    {
     "data": {
      "text/html": [
       "<style>.container { width:100% !important; }</style>"
      ],
      "text/plain": [
       "<IPython.core.display.HTML object>"
      ]
     },
     "metadata": {},
     "output_type": "display_data"
    }
   ],
   "source": [
    "# Just take all width for viz\n",
    "from IPython.core.display import display, HTML\n",
    "display(HTML(\"<style>.container { width:100% !important; }</style>\"))"
   ]
  },
  {
   "cell_type": "markdown",
   "metadata": {},
   "source": [
    "#### Import packages"
   ]
  },
  {
   "cell_type": "code",
   "execution_count": 61,
   "metadata": {},
   "outputs": [],
   "source": [
    "import findspark\n",
    "findspark.init()\n",
    "\n",
    "import pyspark\n",
    "from pyspark.sql import SparkSession\n",
    "import pyspark.sql.functions as F\n",
    "from pyspark.sql.types import *\n",
    "\n",
    "import os\n",
    "import sys\n",
    "\n",
    "os.environ['PYSPARK_PYTHON'] = sys.executable\n",
    "os.environ['PYSPARK_DRIVER_PYTHON'] = sys.executable"
   ]
  },
  {
   "cell_type": "markdown",
   "metadata": {},
   "source": [
    "#### Create SparkSession"
   ]
  },
  {
   "cell_type": "code",
   "execution_count": 2,
   "metadata": {},
   "outputs": [],
   "source": [
    "spark = SparkSession \\\n",
    "    .builder \\\n",
    "    .master('local[*]') \\\n",
    "    .appName(\"steam-analysis-eda\") \\\n",
    "    .getOrCreate()"
   ]
  },
  {
   "cell_type": "markdown",
   "metadata": {},
   "source": [
    "#### Display full datasets structure"
   ]
  },
  {
   "cell_type": "code",
   "execution_count": 3,
   "metadata": {},
   "outputs": [
    {
     "name": "stdout",
     "output_type": "stream",
     "text": [
      "../data\n",
      "├── steam-dataset\n",
      "│   ├── steam_analysis.Achievements_Percentages\n",
      "│   ├── steam_analysis.App_ID_Info\n",
      "│   ├── steam_analysis.App_ID_Info_Old\n",
      "│   ├── steam_analysis.Friends\n",
      "│   ├── steam_analysis.Games_1\n",
      "│   ├── steam_analysis.Games_2\n",
      "│   ├── steam_analysis.Games_Daily\n",
      "│   ├── steam_analysis.Games_Developers\n",
      "│   ├── steam_analysis.Games_Developers_Old\n",
      "│   ├── steam_analysis.Games_Genres\n",
      "│   ├── steam_analysis.Games_Genres_Old\n",
      "│   ├── steam_analysis.Games_Publishers\n",
      "│   ├── steam_analysis.Games_Publishers_Old\n",
      "│   ├── steam_analysis.Groups\n",
      "│   └── steam_analysis.Player_Summaries\n",
      "├── steam-review\n",
      "│   └── steam-review.csv\n",
      "├── steam-store-games\n",
      "│   ├── steam.csv\n",
      "│   ├── steam_description_data.csv\n",
      "│   ├── steam_media_data.csv\n",
      "│   ├── steam_requirements_data.csv\n",
      "│   ├── steamspy_tag_data.csv\n",
      "│   └── steam_support_info.csv\n",
      "└── video-games-sales\n",
      "    └── vgsales.csv\n",
      "\n",
      "19 directories, 8 files\n"
     ]
    }
   ],
   "source": [
    "%%bash\n",
    "\n",
    "tree ../data -L 2"
   ]
  },
  {
   "cell_type": "markdown",
   "metadata": {},
   "source": [
    "#### Load global steam store dataset"
   ]
  },
  {
   "cell_type": "code",
   "execution_count": 9,
   "metadata": {
    "scrolled": false
   },
   "outputs": [
    {
     "name": "stdout",
     "output_type": "stream",
     "text": [
      "root\n",
      " |-- appid: string (nullable = true)\n",
      " |-- name: string (nullable = true)\n",
      " |-- release_date: string (nullable = true)\n",
      " |-- english: string (nullable = true)\n",
      " |-- developer: string (nullable = true)\n",
      " |-- publisher: string (nullable = true)\n",
      " |-- platforms: string (nullable = true)\n",
      " |-- required_age: string (nullable = true)\n",
      " |-- categories: string (nullable = true)\n",
      " |-- genres: string (nullable = true)\n",
      " |-- steamspy_tags: string (nullable = true)\n",
      " |-- achievements: string (nullable = true)\n",
      " |-- positive_ratings: string (nullable = true)\n",
      " |-- negative_ratings: string (nullable = true)\n",
      " |-- average_playtime: string (nullable = true)\n",
      " |-- median_playtime: string (nullable = true)\n",
      " |-- owners: string (nullable = true)\n",
      " |-- price: string (nullable = true)\n",
      "\n"
     ]
    }
   ],
   "source": [
    "games_dataset_path = \"file:///home/neadex/steam-analysis/data/steam-store-games/steam.csv\"\n",
    "\n",
    "games_df = spark.read.csv(games_dataset_path, header=True)\n",
    "games_df.printSchema()"
   ]
  },
  {
   "cell_type": "markdown",
   "metadata": {},
   "source": [
    "#### Display some rows"
   ]
  },
  {
   "cell_type": "code",
   "execution_count": 29,
   "metadata": {},
   "outputs": [
    {
     "name": "stdout",
     "output_type": "stream",
     "text": [
      "+-----+--------------------+------------+-------+----------------+---------+-----------------+------------+--------------------+-------------------+--------------------+------------+----------------+----------------+----------------+---------------+-----------------+-----+\n",
      "|appid|                name|release_date|english|       developer|publisher|        platforms|required_age|          categories|             genres|       steamspy_tags|achievements|positive_ratings|negative_ratings|average_playtime|median_playtime|           owners|price|\n",
      "+-----+--------------------+------------+-------+----------------+---------+-----------------+------------+--------------------+-------------------+--------------------+------------+----------------+----------------+----------------+---------------+-----------------+-----+\n",
      "|   10|      Counter-Strike|  2000-11-01|      1|           Valve|    Valve|windows;mac;linux|           0|Multi-player;Onli...|             Action|Action;FPS;Multip...|           0|          124534|            3339|           17612|            317|10000000-20000000| 7.19|\n",
      "|   20|Team Fortress Cla...|  1999-04-01|      1|           Valve|    Valve|windows;mac;linux|           0|Multi-player;Onli...|             Action|Action;FPS;Multip...|           0|            3318|             633|             277|             62| 5000000-10000000| 3.99|\n",
      "|   30|       Day of Defeat|  2003-05-01|      1|           Valve|    Valve|windows;mac;linux|           0|Multi-player;Valv...|             Action|FPS;World War II;...|           0|            3416|             398|             187|             34| 5000000-10000000| 3.99|\n",
      "|   40|  Deathmatch Classic|  2001-06-01|      1|           Valve|    Valve|windows;mac;linux|           0|Multi-player;Onli...|             Action|Action;FPS;Multip...|           0|            1273|             267|             258|            184| 5000000-10000000| 3.99|\n",
      "|   50|Half-Life: Opposi...|  1999-11-01|      1|Gearbox Software|    Valve|windows;mac;linux|           0|Single-player;Mul...|             Action|   FPS;Action;Sci-fi|           0|            5250|             288|             624|            415| 5000000-10000000| 3.99|\n",
      "|   60|            Ricochet|  2000-11-01|      1|           Valve|    Valve|windows;mac;linux|           0|Multi-player;Onli...|             Action|Action;FPS;Multip...|           0|            2758|             684|             175|             10| 5000000-10000000| 3.99|\n",
      "|   70|           Half-Life|  1998-11-08|      1|           Valve|    Valve|windows;mac;linux|           0|Single-player;Mul...|             Action|  FPS;Classic;Action|           0|           27755|            1100|            1300|             83| 5000000-10000000| 7.19|\n",
      "|   80|Counter-Strike: C...|  2004-03-01|      1|           Valve|    Valve|windows;mac;linux|           0|Single-player;Mul...|             Action|Action;FPS;Multip...|           0|           12120|            1439|             427|             43|10000000-20000000| 7.19|\n",
      "|  130|Half-Life: Blue S...|  2001-06-01|      1|Gearbox Software|    Valve|windows;mac;linux|           0|       Single-player|             Action|   FPS;Action;Sci-fi|           0|            3822|             420|             361|            205| 5000000-10000000| 3.99|\n",
      "|  220|         Half-Life 2|  2004-11-16|      1|           Valve|    Valve|windows;mac;linux|           0|Single-player;Ste...|             Action|   FPS;Action;Sci-fi|          33|           67902|            2419|             691|            402|10000000-20000000| 7.19|\n",
      "|  240|Counter-Strike: S...|  2004-11-01|      1|           Valve|    Valve|windows;mac;linux|           0|Multi-player;Cros...|             Action|Action;FPS;Multip...|         147|           76640|            3497|            6842|            400|10000000-20000000| 7.19|\n",
      "|  280|   Half-Life: Source|  2004-06-01|      1|           Valve|    Valve|windows;mac;linux|           0|       Single-player|             Action|   FPS;Action;Sci-fi|           0|            3767|            1053|             190|            214|  2000000-5000000|  0.0|\n",
      "|  300|Day of Defeat: So...|  2010-07-12|      1|           Valve|    Valve|windows;mac;linux|           0|Multi-player;Cros...|             Action|FPS;World War II;...|          54|           10489|            1210|            1356|            134| 5000000-10000000| 7.19|\n",
      "|  320|Half-Life 2: Deat...|  2004-11-01|      1|           Valve|    Valve|windows;mac;linux|           0|Multi-player;Valv...|             Action|Action;FPS;Multip...|           0|            6020|             787|             311|             32|10000000-20000000| 3.99|\n",
      "|  340|Half-Life 2: Lost...|  2005-10-27|      1|           Valve|    Valve|windows;mac;linux|           0|Single-player;Com...|             Action|FPS;Action;Single...|           0|            5783|            1020|              46|             29|10000000-20000000|  0.0|\n",
      "|  360|Half-Life Deathma...|  2006-05-01|      1|           Valve|    Valve|windows;mac;linux|           0|Multi-player;Valv...|             Action|Action;FPS;Multip...|           0|            1362|             473|             102|             81| 5000000-10000000|  0.0|\n",
      "|  380|Half-Life 2: Epis...|  2006-06-01|      1|           Valve|    Valve|windows;mac;linux|           0|Single-player;Ste...|             Action|   FPS;Action;Sci-fi|          13|            7908|             517|             281|            184| 5000000-10000000| 5.79|\n",
      "|  400|              Portal|  2007-10-10|      1|           Valve|    Valve|windows;mac;linux|           0|Single-player;Ste...|             Action|Puzzle;First-Pers...|          15|           51801|            1080|             288|            137|10000000-20000000| 7.19|\n",
      "|  420|Half-Life 2: Epis...|  2007-10-10|      1|           Valve|    Valve|windows;mac;linux|           0|Single-player;Ste...|             Action|   FPS;Action;Sci-fi|          22|           13902|             696|             354|            301| 5000000-10000000| 5.79|\n",
      "|  440|     Team Fortress 2|  2007-10-10|      1|           Valve|    Valve|windows;mac;linux|           0|Multi-player;Cros...|Action;Free to Play|Free to Play;Mult...|         520|          515879|           34036|            8495|            623|20000000-50000000|  0.0|\n",
      "+-----+--------------------+------------+-------+----------------+---------+-----------------+------------+--------------------+-------------------+--------------------+------------+----------------+----------------+----------------+---------------+-----------------+-----+\n",
      "only showing top 20 rows\n",
      "\n"
     ]
    }
   ],
   "source": [
    "games_df.show()"
   ]
  },
  {
   "cell_type": "markdown",
   "metadata": {},
   "source": [
    "#### Get single game row by name"
   ]
  },
  {
   "cell_type": "code",
   "execution_count": 22,
   "metadata": {},
   "outputs": [
    {
     "name": "stdout",
     "output_type": "stream",
     "text": [
      "+------+------------+------------+-------+---------+---------+---------+------------+--------------------+--------------------+--------------------+------------+----------------+----------------+----------------+---------------+--------------+-----+\n",
      "| appid|        name|release_date|english|developer|publisher|platforms|required_age|          categories|              genres|       steamspy_tags|achievements|positive_ratings|negative_ratings|average_playtime|median_playtime|        owners|price|\n",
      "+------+------------+------------+-------+---------+---------+---------+------------+--------------------+--------------------+--------------------+------------+----------------+----------------+----------------+---------------+--------------+-----+\n",
      "|440900|Conan Exiles|  2018-05-08|      1|   Funcom|   Funcom|  windows|          18|Single-player;Mul...|Action;Adventure;...|Survival;Open Wor...|          25|           22001|            9594|            4431|           5167|500000-1000000|33.99|\n",
      "+------+------------+------------+-------+---------+---------+---------+------------+--------------------+--------------------+--------------------+------------+----------------+----------------+----------------+---------------+--------------+-----+\n",
      "\n"
     ]
    }
   ],
   "source": [
    "games_df.filter(games_df.name == \"Conan Exiles\").show()"
   ]
  },
  {
   "cell_type": "markdown",
   "metadata": {},
   "source": [
    "#### Get last recorded game in dataset"
   ]
  },
  {
   "cell_type": "code",
   "execution_count": 197,
   "metadata": {},
   "outputs": [
    {
     "name": "stdout",
     "output_type": "stream",
     "text": [
      "+------+-----------------+------------+-------+-------------+---------+---------+------------+--------------------+--------------------+-------------------+------------+----------------+----------------+----------------+---------------+-------+-----+\n",
      "| appid|             name|release_date|english|    developer|publisher|platforms|required_age|          categories|              genres|      steamspy_tags|achievements|positive_ratings|negative_ratings|average_playtime|median_playtime| owners|price|\n",
      "+------+-----------------+------------+-------+-------------+---------+---------+------------+--------------------+--------------------+-------------------+------------+----------------+----------------+----------------+---------------+-------+-----+\n",
      "|905370|Conqueror's Blade|  2019-05-01|      1|Booming Games|   My.com|  windows|           0|Online Multi-Play...|Action;Free to Pl...|Action;Strategy;RPG|           0|             259|             235|               0|              0|0-20000|11.39|\n",
      "+------+-----------------+------------+-------+-------------+---------+---------+------------+--------------------+--------------------+-------------------+------------+----------------+----------------+----------------+---------------+-------+-----+\n",
      "\n"
     ]
    }
   ],
   "source": [
    "last_release_date = games_df.select(\"release_date\").agg({\"release_date\" : \"max\"}).collect()[0]['max(release_date)']\n",
    "games_df.filter(games_df.release_date == last_release_date).show()"
   ]
  },
  {
   "cell_type": "markdown",
   "metadata": {},
   "source": [
    "#### Filter non-int values on positive_ratings and get max"
   ]
  },
  {
   "cell_type": "code",
   "execution_count": 199,
   "metadata": {},
   "outputs": [
    {
     "name": "stdout",
     "output_type": "stream",
     "text": [
      "Max positive ratings : 2644404\n"
     ]
    }
   ],
   "source": [
    "max_positive_ratings = games_df \\\n",
    "    .select(F.regexp_extract(\"positive_ratings\",'\\d+', 0).alias('positive_ratings').cast(IntegerType())) \\\n",
    "    .agg({'positive_ratings' : 'max'}).first()['max(positive_ratings)']\n",
    "\n",
    "print('Max positive ratings :', max_positive_ratings)"
   ]
  },
  {
   "cell_type": "markdown",
   "metadata": {},
   "source": [
    "#### Get game name with max positive ratings"
   ]
  },
  {
   "cell_type": "code",
   "execution_count": 201,
   "metadata": {},
   "outputs": [
    {
     "name": "stdout",
     "output_type": "stream",
     "text": [
      "+--------------------------------+\n",
      "|name                            |\n",
      "+--------------------------------+\n",
      "|Counter-Strike: Global Offensive|\n",
      "+--------------------------------+\n",
      "\n"
     ]
    }
   ],
   "source": [
    "games_df \\\n",
    "    .filter(games_df.positive_ratings == max_positive_ratings) \\\n",
    "    .select('name') \\\n",
    "    .show(truncate=False)"
   ]
  },
  {
   "cell_type": "markdown",
   "metadata": {},
   "source": [
    "#### Get 50 most used tags in dataset"
   ]
  },
  {
   "cell_type": "code",
   "execution_count": 203,
   "metadata": {},
   "outputs": [
    {
     "name": "stdout",
     "output_type": "stream",
     "text": [
      "+---------------------+-----+\n",
      "|tags                 |count|\n",
      "+---------------------+-----+\n",
      "|Indie                |16231|\n",
      "|Action               |10322|\n",
      "|Casual               |8205 |\n",
      "|Adventure            |7770 |\n",
      "|Strategy             |4172 |\n",
      "|Simulation           |3284 |\n",
      "|Early Access         |2967 |\n",
      "|RPG                  |2784 |\n",
      "|Free to Play         |1662 |\n",
      "|Puzzle               |1116 |\n",
      "|VR                   |961  |\n",
      "|Sports               |781  |\n",
      "|Racing               |765  |\n",
      "|Platformer           |648  |\n",
      "|Nudity               |570  |\n",
      "|Sexual Content       |557  |\n",
      "|Visual Novel         |546  |\n",
      "|Violent              |545  |\n",
      "|Anime                |538  |\n",
      "|Horror               |493  |\n",
      "|Point & Click        |492  |\n",
      "|Gore                 |476  |\n",
      "|Hidden Object        |460  |\n",
      "|FPS                  |405  |\n",
      "|Multiplayer          |405  |\n",
      "|Massively Multiplayer|377  |\n",
      "|Pixel Graphics       |249  |\n",
      "|Shoot 'Em Up         |245  |\n",
      "|Open World           |243  |\n",
      "|Survival             |235  |\n",
      "|Space                |225  |\n",
      "|Arcade               |203  |\n",
      "|Female Protagonist   |199  |\n",
      "|RPGMaker             |192  |\n",
      "|RTS                  |174  |\n",
      "|Turn-Based           |171  |\n",
      "|Classic              |170  |\n",
      "|Tower Defense        |168  |\n",
      "|Card Game            |164  |\n",
      "|2D                   |163  |\n",
      "|Singleplayer         |161  |\n",
      "|Story Rich           |159  |\n",
      "|Zombies              |158  |\n",
      "|Sci-fi               |157  |\n",
      "|Utilities            |138  |\n",
      "|World War II         |130  |\n",
      "|Great Soundtrack     |125  |\n",
      "|Co-op                |120  |\n",
      "|Match 3              |119  |\n",
      "|Fighting             |117  |\n",
      "+---------------------+-----+\n",
      "only showing top 50 rows\n",
      "\n"
     ]
    }
   ],
   "source": [
    "games_df \\\n",
    "    .withColumn('steamspy_tags', F.split(\"steamspy_tags\", \";\")) \\\n",
    "    .select(F.explode('steamspy_tags').alias('tags')) \\\n",
    "    .groupBy('tags') \\\n",
    "    .count() \\\n",
    "    .sort(F.col('count').desc()) \\\n",
    "    .show(50, truncate = False)"
   ]
  },
  {
   "cell_type": "markdown",
   "metadata": {},
   "source": [
    "#### Really retrieve values on driver filesystem"
   ]
  },
  {
   "cell_type": "code",
   "execution_count": 188,
   "metadata": {},
   "outputs": [],
   "source": [
    "\n",
    "tags_counts = games_df \\\n",
    "    .withColumn('steamspy_tags', F.split(\"steamspy_tags\", \";\")) \\\n",
    "    .select(F.explode('steamspy_tags').alias('tags')) \\\n",
    "    .groupBy('tags') \\\n",
    "    .count() \\\n",
    "    .sort(F.col('count').desc()) \\\n",
    "    .rdd.map(tuple) \\\n",
    "    .take(50)"
   ]
  },
  {
   "cell_type": "markdown",
   "metadata": {},
   "source": [
    "#### Visualize as a bar chart"
   ]
  },
  {
   "cell_type": "code",
   "execution_count": 194,
   "metadata": {},
   "outputs": [
    {
     "data": {
      "application/vnd.plotly.v1+json": {
       "config": {
        "plotlyServerURL": "https://plot.ly"
       },
       "data": [
        {
         "type": "bar",
         "x": [
          "Indie",
          "Action",
          "Casual",
          "Adventure",
          "Strategy",
          "Simulation",
          "Early Access",
          "RPG",
          "Free to Play",
          "Puzzle",
          "VR",
          "Sports",
          "Racing",
          "Platformer",
          "Nudity",
          "Sexual Content",
          "Visual Novel",
          "Violent",
          "Anime",
          "Horror",
          "Point & Click",
          "Gore",
          "Hidden Object",
          "Multiplayer",
          "FPS",
          "Massively Multiplayer",
          "Pixel Graphics",
          "Shoot 'Em Up",
          "Open World",
          "Survival",
          "Space",
          "Arcade",
          "Female Protagonist",
          "RPGMaker",
          "RTS",
          "Turn-Based",
          "Classic",
          "Tower Defense",
          "Card Game",
          "2D",
          "Singleplayer",
          "Story Rich",
          "Zombies",
          "Sci-fi",
          "Utilities",
          "World War II",
          "Great Soundtrack",
          "Co-op",
          "Match 3",
          "Fighting"
         ],
         "y": [
          16231,
          10322,
          8205,
          7770,
          4172,
          3284,
          2967,
          2784,
          1662,
          1116,
          961,
          781,
          765,
          648,
          570,
          557,
          546,
          545,
          538,
          493,
          492,
          476,
          460,
          405,
          405,
          377,
          249,
          245,
          243,
          235,
          225,
          203,
          199,
          192,
          174,
          171,
          170,
          168,
          164,
          163,
          161,
          159,
          158,
          157,
          138,
          130,
          125,
          120,
          119,
          117
         ]
        }
       ],
       "layout": {
        "template": {
         "data": {
          "bar": [
           {
            "error_x": {
             "color": "#2a3f5f"
            },
            "error_y": {
             "color": "#2a3f5f"
            },
            "marker": {
             "line": {
              "color": "#E5ECF6",
              "width": 0.5
             }
            },
            "type": "bar"
           }
          ],
          "barpolar": [
           {
            "marker": {
             "line": {
              "color": "#E5ECF6",
              "width": 0.5
             }
            },
            "type": "barpolar"
           }
          ],
          "carpet": [
           {
            "aaxis": {
             "endlinecolor": "#2a3f5f",
             "gridcolor": "white",
             "linecolor": "white",
             "minorgridcolor": "white",
             "startlinecolor": "#2a3f5f"
            },
            "baxis": {
             "endlinecolor": "#2a3f5f",
             "gridcolor": "white",
             "linecolor": "white",
             "minorgridcolor": "white",
             "startlinecolor": "#2a3f5f"
            },
            "type": "carpet"
           }
          ],
          "choropleth": [
           {
            "colorbar": {
             "outlinewidth": 0,
             "ticks": ""
            },
            "type": "choropleth"
           }
          ],
          "contour": [
           {
            "colorbar": {
             "outlinewidth": 0,
             "ticks": ""
            },
            "colorscale": [
             [
              0,
              "#0d0887"
             ],
             [
              0.1111111111111111,
              "#46039f"
             ],
             [
              0.2222222222222222,
              "#7201a8"
             ],
             [
              0.3333333333333333,
              "#9c179e"
             ],
             [
              0.4444444444444444,
              "#bd3786"
             ],
             [
              0.5555555555555556,
              "#d8576b"
             ],
             [
              0.6666666666666666,
              "#ed7953"
             ],
             [
              0.7777777777777778,
              "#fb9f3a"
             ],
             [
              0.8888888888888888,
              "#fdca26"
             ],
             [
              1,
              "#f0f921"
             ]
            ],
            "type": "contour"
           }
          ],
          "contourcarpet": [
           {
            "colorbar": {
             "outlinewidth": 0,
             "ticks": ""
            },
            "type": "contourcarpet"
           }
          ],
          "heatmap": [
           {
            "colorbar": {
             "outlinewidth": 0,
             "ticks": ""
            },
            "colorscale": [
             [
              0,
              "#0d0887"
             ],
             [
              0.1111111111111111,
              "#46039f"
             ],
             [
              0.2222222222222222,
              "#7201a8"
             ],
             [
              0.3333333333333333,
              "#9c179e"
             ],
             [
              0.4444444444444444,
              "#bd3786"
             ],
             [
              0.5555555555555556,
              "#d8576b"
             ],
             [
              0.6666666666666666,
              "#ed7953"
             ],
             [
              0.7777777777777778,
              "#fb9f3a"
             ],
             [
              0.8888888888888888,
              "#fdca26"
             ],
             [
              1,
              "#f0f921"
             ]
            ],
            "type": "heatmap"
           }
          ],
          "heatmapgl": [
           {
            "colorbar": {
             "outlinewidth": 0,
             "ticks": ""
            },
            "colorscale": [
             [
              0,
              "#0d0887"
             ],
             [
              0.1111111111111111,
              "#46039f"
             ],
             [
              0.2222222222222222,
              "#7201a8"
             ],
             [
              0.3333333333333333,
              "#9c179e"
             ],
             [
              0.4444444444444444,
              "#bd3786"
             ],
             [
              0.5555555555555556,
              "#d8576b"
             ],
             [
              0.6666666666666666,
              "#ed7953"
             ],
             [
              0.7777777777777778,
              "#fb9f3a"
             ],
             [
              0.8888888888888888,
              "#fdca26"
             ],
             [
              1,
              "#f0f921"
             ]
            ],
            "type": "heatmapgl"
           }
          ],
          "histogram": [
           {
            "marker": {
             "colorbar": {
              "outlinewidth": 0,
              "ticks": ""
             }
            },
            "type": "histogram"
           }
          ],
          "histogram2d": [
           {
            "colorbar": {
             "outlinewidth": 0,
             "ticks": ""
            },
            "colorscale": [
             [
              0,
              "#0d0887"
             ],
             [
              0.1111111111111111,
              "#46039f"
             ],
             [
              0.2222222222222222,
              "#7201a8"
             ],
             [
              0.3333333333333333,
              "#9c179e"
             ],
             [
              0.4444444444444444,
              "#bd3786"
             ],
             [
              0.5555555555555556,
              "#d8576b"
             ],
             [
              0.6666666666666666,
              "#ed7953"
             ],
             [
              0.7777777777777778,
              "#fb9f3a"
             ],
             [
              0.8888888888888888,
              "#fdca26"
             ],
             [
              1,
              "#f0f921"
             ]
            ],
            "type": "histogram2d"
           }
          ],
          "histogram2dcontour": [
           {
            "colorbar": {
             "outlinewidth": 0,
             "ticks": ""
            },
            "colorscale": [
             [
              0,
              "#0d0887"
             ],
             [
              0.1111111111111111,
              "#46039f"
             ],
             [
              0.2222222222222222,
              "#7201a8"
             ],
             [
              0.3333333333333333,
              "#9c179e"
             ],
             [
              0.4444444444444444,
              "#bd3786"
             ],
             [
              0.5555555555555556,
              "#d8576b"
             ],
             [
              0.6666666666666666,
              "#ed7953"
             ],
             [
              0.7777777777777778,
              "#fb9f3a"
             ],
             [
              0.8888888888888888,
              "#fdca26"
             ],
             [
              1,
              "#f0f921"
             ]
            ],
            "type": "histogram2dcontour"
           }
          ],
          "mesh3d": [
           {
            "colorbar": {
             "outlinewidth": 0,
             "ticks": ""
            },
            "type": "mesh3d"
           }
          ],
          "parcoords": [
           {
            "line": {
             "colorbar": {
              "outlinewidth": 0,
              "ticks": ""
             }
            },
            "type": "parcoords"
           }
          ],
          "pie": [
           {
            "automargin": true,
            "type": "pie"
           }
          ],
          "scatter": [
           {
            "marker": {
             "colorbar": {
              "outlinewidth": 0,
              "ticks": ""
             }
            },
            "type": "scatter"
           }
          ],
          "scatter3d": [
           {
            "line": {
             "colorbar": {
              "outlinewidth": 0,
              "ticks": ""
             }
            },
            "marker": {
             "colorbar": {
              "outlinewidth": 0,
              "ticks": ""
             }
            },
            "type": "scatter3d"
           }
          ],
          "scattercarpet": [
           {
            "marker": {
             "colorbar": {
              "outlinewidth": 0,
              "ticks": ""
             }
            },
            "type": "scattercarpet"
           }
          ],
          "scattergeo": [
           {
            "marker": {
             "colorbar": {
              "outlinewidth": 0,
              "ticks": ""
             }
            },
            "type": "scattergeo"
           }
          ],
          "scattergl": [
           {
            "marker": {
             "colorbar": {
              "outlinewidth": 0,
              "ticks": ""
             }
            },
            "type": "scattergl"
           }
          ],
          "scattermapbox": [
           {
            "marker": {
             "colorbar": {
              "outlinewidth": 0,
              "ticks": ""
             }
            },
            "type": "scattermapbox"
           }
          ],
          "scatterpolar": [
           {
            "marker": {
             "colorbar": {
              "outlinewidth": 0,
              "ticks": ""
             }
            },
            "type": "scatterpolar"
           }
          ],
          "scatterpolargl": [
           {
            "marker": {
             "colorbar": {
              "outlinewidth": 0,
              "ticks": ""
             }
            },
            "type": "scatterpolargl"
           }
          ],
          "scatterternary": [
           {
            "marker": {
             "colorbar": {
              "outlinewidth": 0,
              "ticks": ""
             }
            },
            "type": "scatterternary"
           }
          ],
          "surface": [
           {
            "colorbar": {
             "outlinewidth": 0,
             "ticks": ""
            },
            "colorscale": [
             [
              0,
              "#0d0887"
             ],
             [
              0.1111111111111111,
              "#46039f"
             ],
             [
              0.2222222222222222,
              "#7201a8"
             ],
             [
              0.3333333333333333,
              "#9c179e"
             ],
             [
              0.4444444444444444,
              "#bd3786"
             ],
             [
              0.5555555555555556,
              "#d8576b"
             ],
             [
              0.6666666666666666,
              "#ed7953"
             ],
             [
              0.7777777777777778,
              "#fb9f3a"
             ],
             [
              0.8888888888888888,
              "#fdca26"
             ],
             [
              1,
              "#f0f921"
             ]
            ],
            "type": "surface"
           }
          ],
          "table": [
           {
            "cells": {
             "fill": {
              "color": "#EBF0F8"
             },
             "line": {
              "color": "white"
             }
            },
            "header": {
             "fill": {
              "color": "#C8D4E3"
             },
             "line": {
              "color": "white"
             }
            },
            "type": "table"
           }
          ]
         },
         "layout": {
          "annotationdefaults": {
           "arrowcolor": "#2a3f5f",
           "arrowhead": 0,
           "arrowwidth": 1
          },
          "autotypenumbers": "strict",
          "coloraxis": {
           "colorbar": {
            "outlinewidth": 0,
            "ticks": ""
           }
          },
          "colorscale": {
           "diverging": [
            [
             0,
             "#8e0152"
            ],
            [
             0.1,
             "#c51b7d"
            ],
            [
             0.2,
             "#de77ae"
            ],
            [
             0.3,
             "#f1b6da"
            ],
            [
             0.4,
             "#fde0ef"
            ],
            [
             0.5,
             "#f7f7f7"
            ],
            [
             0.6,
             "#e6f5d0"
            ],
            [
             0.7,
             "#b8e186"
            ],
            [
             0.8,
             "#7fbc41"
            ],
            [
             0.9,
             "#4d9221"
            ],
            [
             1,
             "#276419"
            ]
           ],
           "sequential": [
            [
             0,
             "#0d0887"
            ],
            [
             0.1111111111111111,
             "#46039f"
            ],
            [
             0.2222222222222222,
             "#7201a8"
            ],
            [
             0.3333333333333333,
             "#9c179e"
            ],
            [
             0.4444444444444444,
             "#bd3786"
            ],
            [
             0.5555555555555556,
             "#d8576b"
            ],
            [
             0.6666666666666666,
             "#ed7953"
            ],
            [
             0.7777777777777778,
             "#fb9f3a"
            ],
            [
             0.8888888888888888,
             "#fdca26"
            ],
            [
             1,
             "#f0f921"
            ]
           ],
           "sequentialminus": [
            [
             0,
             "#0d0887"
            ],
            [
             0.1111111111111111,
             "#46039f"
            ],
            [
             0.2222222222222222,
             "#7201a8"
            ],
            [
             0.3333333333333333,
             "#9c179e"
            ],
            [
             0.4444444444444444,
             "#bd3786"
            ],
            [
             0.5555555555555556,
             "#d8576b"
            ],
            [
             0.6666666666666666,
             "#ed7953"
            ],
            [
             0.7777777777777778,
             "#fb9f3a"
            ],
            [
             0.8888888888888888,
             "#fdca26"
            ],
            [
             1,
             "#f0f921"
            ]
           ]
          },
          "colorway": [
           "#636efa",
           "#EF553B",
           "#00cc96",
           "#ab63fa",
           "#FFA15A",
           "#19d3f3",
           "#FF6692",
           "#B6E880",
           "#FF97FF",
           "#FECB52"
          ],
          "font": {
           "color": "#2a3f5f"
          },
          "geo": {
           "bgcolor": "white",
           "lakecolor": "white",
           "landcolor": "#E5ECF6",
           "showlakes": true,
           "showland": true,
           "subunitcolor": "white"
          },
          "hoverlabel": {
           "align": "left"
          },
          "hovermode": "closest",
          "mapbox": {
           "style": "light"
          },
          "paper_bgcolor": "white",
          "plot_bgcolor": "#E5ECF6",
          "polar": {
           "angularaxis": {
            "gridcolor": "white",
            "linecolor": "white",
            "ticks": ""
           },
           "bgcolor": "#E5ECF6",
           "radialaxis": {
            "gridcolor": "white",
            "linecolor": "white",
            "ticks": ""
           }
          },
          "scene": {
           "xaxis": {
            "backgroundcolor": "#E5ECF6",
            "gridcolor": "white",
            "gridwidth": 2,
            "linecolor": "white",
            "showbackground": true,
            "ticks": "",
            "zerolinecolor": "white"
           },
           "yaxis": {
            "backgroundcolor": "#E5ECF6",
            "gridcolor": "white",
            "gridwidth": 2,
            "linecolor": "white",
            "showbackground": true,
            "ticks": "",
            "zerolinecolor": "white"
           },
           "zaxis": {
            "backgroundcolor": "#E5ECF6",
            "gridcolor": "white",
            "gridwidth": 2,
            "linecolor": "white",
            "showbackground": true,
            "ticks": "",
            "zerolinecolor": "white"
           }
          },
          "shapedefaults": {
           "line": {
            "color": "#2a3f5f"
           }
          },
          "ternary": {
           "aaxis": {
            "gridcolor": "white",
            "linecolor": "white",
            "ticks": ""
           },
           "baxis": {
            "gridcolor": "white",
            "linecolor": "white",
            "ticks": ""
           },
           "bgcolor": "#E5ECF6",
           "caxis": {
            "gridcolor": "white",
            "linecolor": "white",
            "ticks": ""
           }
          },
          "title": {
           "x": 0.05
          },
          "xaxis": {
           "automargin": true,
           "gridcolor": "white",
           "linecolor": "white",
           "ticks": "",
           "title": {
            "standoff": 15
           },
           "zerolinecolor": "white",
           "zerolinewidth": 2
          },
          "yaxis": {
           "automargin": true,
           "gridcolor": "white",
           "linecolor": "white",
           "ticks": "",
           "title": {
            "standoff": 15
           },
           "zerolinecolor": "white",
           "zerolinewidth": 2
          }
         }
        },
        "title": {
         "text": "50 most used tags on Steam Store"
        }
       }
      },
      "text/html": [
       "<div>                            <div id=\"22ea3f1b-b3ce-4e7d-8a1d-7a8c254f635c\" class=\"plotly-graph-div\" style=\"height:525px; width:100%;\"></div>            <script type=\"text/javascript\">                require([\"plotly\"], function(Plotly) {                    window.PLOTLYENV=window.PLOTLYENV || {};                                    if (document.getElementById(\"22ea3f1b-b3ce-4e7d-8a1d-7a8c254f635c\")) {                    Plotly.newPlot(                        \"22ea3f1b-b3ce-4e7d-8a1d-7a8c254f635c\",                        [{\"type\": \"bar\", \"x\": [\"Indie\", \"Action\", \"Casual\", \"Adventure\", \"Strategy\", \"Simulation\", \"Early Access\", \"RPG\", \"Free to Play\", \"Puzzle\", \"VR\", \"Sports\", \"Racing\", \"Platformer\", \"Nudity\", \"Sexual Content\", \"Visual Novel\", \"Violent\", \"Anime\", \"Horror\", \"Point & Click\", \"Gore\", \"Hidden Object\", \"Multiplayer\", \"FPS\", \"Massively Multiplayer\", \"Pixel Graphics\", \"Shoot 'Em Up\", \"Open World\", \"Survival\", \"Space\", \"Arcade\", \"Female Protagonist\", \"RPGMaker\", \"RTS\", \"Turn-Based\", \"Classic\", \"Tower Defense\", \"Card Game\", \"2D\", \"Singleplayer\", \"Story Rich\", \"Zombies\", \"Sci-fi\", \"Utilities\", \"World War II\", \"Great Soundtrack\", \"Co-op\", \"Match 3\", \"Fighting\"], \"y\": [16231, 10322, 8205, 7770, 4172, 3284, 2967, 2784, 1662, 1116, 961, 781, 765, 648, 570, 557, 546, 545, 538, 493, 492, 476, 460, 405, 405, 377, 249, 245, 243, 235, 225, 203, 199, 192, 174, 171, 170, 168, 164, 163, 161, 159, 158, 157, 138, 130, 125, 120, 119, 117]}],                        {\"template\": {\"data\": {\"bar\": [{\"error_x\": {\"color\": \"#2a3f5f\"}, \"error_y\": {\"color\": \"#2a3f5f\"}, \"marker\": {\"line\": {\"color\": \"#E5ECF6\", \"width\": 0.5}}, \"type\": \"bar\"}], \"barpolar\": [{\"marker\": {\"line\": {\"color\": \"#E5ECF6\", \"width\": 0.5}}, \"type\": \"barpolar\"}], \"carpet\": [{\"aaxis\": {\"endlinecolor\": \"#2a3f5f\", \"gridcolor\": \"white\", \"linecolor\": \"white\", \"minorgridcolor\": \"white\", \"startlinecolor\": \"#2a3f5f\"}, \"baxis\": {\"endlinecolor\": \"#2a3f5f\", \"gridcolor\": \"white\", \"linecolor\": \"white\", \"minorgridcolor\": \"white\", \"startlinecolor\": \"#2a3f5f\"}, \"type\": \"carpet\"}], \"choropleth\": [{\"colorbar\": {\"outlinewidth\": 0, \"ticks\": \"\"}, \"type\": \"choropleth\"}], \"contour\": [{\"colorbar\": {\"outlinewidth\": 0, \"ticks\": \"\"}, \"colorscale\": [[0.0, \"#0d0887\"], [0.1111111111111111, \"#46039f\"], [0.2222222222222222, \"#7201a8\"], [0.3333333333333333, \"#9c179e\"], [0.4444444444444444, \"#bd3786\"], [0.5555555555555556, \"#d8576b\"], [0.6666666666666666, \"#ed7953\"], [0.7777777777777778, \"#fb9f3a\"], [0.8888888888888888, \"#fdca26\"], [1.0, \"#f0f921\"]], \"type\": \"contour\"}], \"contourcarpet\": [{\"colorbar\": {\"outlinewidth\": 0, \"ticks\": \"\"}, \"type\": \"contourcarpet\"}], \"heatmap\": [{\"colorbar\": {\"outlinewidth\": 0, \"ticks\": \"\"}, \"colorscale\": [[0.0, \"#0d0887\"], [0.1111111111111111, \"#46039f\"], [0.2222222222222222, \"#7201a8\"], [0.3333333333333333, \"#9c179e\"], [0.4444444444444444, \"#bd3786\"], [0.5555555555555556, \"#d8576b\"], [0.6666666666666666, \"#ed7953\"], [0.7777777777777778, \"#fb9f3a\"], [0.8888888888888888, \"#fdca26\"], [1.0, \"#f0f921\"]], \"type\": \"heatmap\"}], \"heatmapgl\": [{\"colorbar\": {\"outlinewidth\": 0, \"ticks\": \"\"}, \"colorscale\": [[0.0, \"#0d0887\"], [0.1111111111111111, \"#46039f\"], [0.2222222222222222, \"#7201a8\"], [0.3333333333333333, \"#9c179e\"], [0.4444444444444444, \"#bd3786\"], [0.5555555555555556, \"#d8576b\"], [0.6666666666666666, \"#ed7953\"], [0.7777777777777778, \"#fb9f3a\"], [0.8888888888888888, \"#fdca26\"], [1.0, \"#f0f921\"]], \"type\": \"heatmapgl\"}], \"histogram\": [{\"marker\": {\"colorbar\": {\"outlinewidth\": 0, \"ticks\": \"\"}}, \"type\": \"histogram\"}], \"histogram2d\": [{\"colorbar\": {\"outlinewidth\": 0, \"ticks\": \"\"}, \"colorscale\": [[0.0, \"#0d0887\"], [0.1111111111111111, \"#46039f\"], [0.2222222222222222, \"#7201a8\"], [0.3333333333333333, \"#9c179e\"], [0.4444444444444444, \"#bd3786\"], [0.5555555555555556, \"#d8576b\"], [0.6666666666666666, \"#ed7953\"], [0.7777777777777778, \"#fb9f3a\"], [0.8888888888888888, \"#fdca26\"], [1.0, \"#f0f921\"]], \"type\": \"histogram2d\"}], \"histogram2dcontour\": [{\"colorbar\": {\"outlinewidth\": 0, \"ticks\": \"\"}, \"colorscale\": [[0.0, \"#0d0887\"], [0.1111111111111111, \"#46039f\"], [0.2222222222222222, \"#7201a8\"], [0.3333333333333333, \"#9c179e\"], [0.4444444444444444, \"#bd3786\"], [0.5555555555555556, \"#d8576b\"], [0.6666666666666666, \"#ed7953\"], [0.7777777777777778, \"#fb9f3a\"], [0.8888888888888888, \"#fdca26\"], [1.0, \"#f0f921\"]], \"type\": \"histogram2dcontour\"}], \"mesh3d\": [{\"colorbar\": {\"outlinewidth\": 0, \"ticks\": \"\"}, \"type\": \"mesh3d\"}], \"parcoords\": [{\"line\": {\"colorbar\": {\"outlinewidth\": 0, \"ticks\": \"\"}}, \"type\": \"parcoords\"}], \"pie\": [{\"automargin\": true, \"type\": \"pie\"}], \"scatter\": [{\"marker\": {\"colorbar\": {\"outlinewidth\": 0, \"ticks\": \"\"}}, \"type\": \"scatter\"}], \"scatter3d\": [{\"line\": {\"colorbar\": {\"outlinewidth\": 0, \"ticks\": \"\"}}, \"marker\": {\"colorbar\": {\"outlinewidth\": 0, \"ticks\": \"\"}}, \"type\": \"scatter3d\"}], \"scattercarpet\": [{\"marker\": {\"colorbar\": {\"outlinewidth\": 0, \"ticks\": \"\"}}, \"type\": \"scattercarpet\"}], \"scattergeo\": [{\"marker\": {\"colorbar\": {\"outlinewidth\": 0, \"ticks\": \"\"}}, \"type\": \"scattergeo\"}], \"scattergl\": [{\"marker\": {\"colorbar\": {\"outlinewidth\": 0, \"ticks\": \"\"}}, \"type\": \"scattergl\"}], \"scattermapbox\": [{\"marker\": {\"colorbar\": {\"outlinewidth\": 0, \"ticks\": \"\"}}, \"type\": \"scattermapbox\"}], \"scatterpolar\": [{\"marker\": {\"colorbar\": {\"outlinewidth\": 0, \"ticks\": \"\"}}, \"type\": \"scatterpolar\"}], \"scatterpolargl\": [{\"marker\": {\"colorbar\": {\"outlinewidth\": 0, \"ticks\": \"\"}}, \"type\": \"scatterpolargl\"}], \"scatterternary\": [{\"marker\": {\"colorbar\": {\"outlinewidth\": 0, \"ticks\": \"\"}}, \"type\": \"scatterternary\"}], \"surface\": [{\"colorbar\": {\"outlinewidth\": 0, \"ticks\": \"\"}, \"colorscale\": [[0.0, \"#0d0887\"], [0.1111111111111111, \"#46039f\"], [0.2222222222222222, \"#7201a8\"], [0.3333333333333333, \"#9c179e\"], [0.4444444444444444, \"#bd3786\"], [0.5555555555555556, \"#d8576b\"], [0.6666666666666666, \"#ed7953\"], [0.7777777777777778, \"#fb9f3a\"], [0.8888888888888888, \"#fdca26\"], [1.0, \"#f0f921\"]], \"type\": \"surface\"}], \"table\": [{\"cells\": {\"fill\": {\"color\": \"#EBF0F8\"}, \"line\": {\"color\": \"white\"}}, \"header\": {\"fill\": {\"color\": \"#C8D4E3\"}, \"line\": {\"color\": \"white\"}}, \"type\": \"table\"}]}, \"layout\": {\"annotationdefaults\": {\"arrowcolor\": \"#2a3f5f\", \"arrowhead\": 0, \"arrowwidth\": 1}, \"autotypenumbers\": \"strict\", \"coloraxis\": {\"colorbar\": {\"outlinewidth\": 0, \"ticks\": \"\"}}, \"colorscale\": {\"diverging\": [[0, \"#8e0152\"], [0.1, \"#c51b7d\"], [0.2, \"#de77ae\"], [0.3, \"#f1b6da\"], [0.4, \"#fde0ef\"], [0.5, \"#f7f7f7\"], [0.6, \"#e6f5d0\"], [0.7, \"#b8e186\"], [0.8, \"#7fbc41\"], [0.9, \"#4d9221\"], [1, \"#276419\"]], \"sequential\": [[0.0, \"#0d0887\"], [0.1111111111111111, \"#46039f\"], [0.2222222222222222, \"#7201a8\"], [0.3333333333333333, \"#9c179e\"], [0.4444444444444444, \"#bd3786\"], [0.5555555555555556, \"#d8576b\"], [0.6666666666666666, \"#ed7953\"], [0.7777777777777778, \"#fb9f3a\"], [0.8888888888888888, \"#fdca26\"], [1.0, \"#f0f921\"]], \"sequentialminus\": [[0.0, \"#0d0887\"], [0.1111111111111111, \"#46039f\"], [0.2222222222222222, \"#7201a8\"], [0.3333333333333333, \"#9c179e\"], [0.4444444444444444, \"#bd3786\"], [0.5555555555555556, \"#d8576b\"], [0.6666666666666666, \"#ed7953\"], [0.7777777777777778, \"#fb9f3a\"], [0.8888888888888888, \"#fdca26\"], [1.0, \"#f0f921\"]]}, \"colorway\": [\"#636efa\", \"#EF553B\", \"#00cc96\", \"#ab63fa\", \"#FFA15A\", \"#19d3f3\", \"#FF6692\", \"#B6E880\", \"#FF97FF\", \"#FECB52\"], \"font\": {\"color\": \"#2a3f5f\"}, \"geo\": {\"bgcolor\": \"white\", \"lakecolor\": \"white\", \"landcolor\": \"#E5ECF6\", \"showlakes\": true, \"showland\": true, \"subunitcolor\": \"white\"}, \"hoverlabel\": {\"align\": \"left\"}, \"hovermode\": \"closest\", \"mapbox\": {\"style\": \"light\"}, \"paper_bgcolor\": \"white\", \"plot_bgcolor\": \"#E5ECF6\", \"polar\": {\"angularaxis\": {\"gridcolor\": \"white\", \"linecolor\": \"white\", \"ticks\": \"\"}, \"bgcolor\": \"#E5ECF6\", \"radialaxis\": {\"gridcolor\": \"white\", \"linecolor\": \"white\", \"ticks\": \"\"}}, \"scene\": {\"xaxis\": {\"backgroundcolor\": \"#E5ECF6\", \"gridcolor\": \"white\", \"gridwidth\": 2, \"linecolor\": \"white\", \"showbackground\": true, \"ticks\": \"\", \"zerolinecolor\": \"white\"}, \"yaxis\": {\"backgroundcolor\": \"#E5ECF6\", \"gridcolor\": \"white\", \"gridwidth\": 2, \"linecolor\": \"white\", \"showbackground\": true, \"ticks\": \"\", \"zerolinecolor\": \"white\"}, \"zaxis\": {\"backgroundcolor\": \"#E5ECF6\", \"gridcolor\": \"white\", \"gridwidth\": 2, \"linecolor\": \"white\", \"showbackground\": true, \"ticks\": \"\", \"zerolinecolor\": \"white\"}}, \"shapedefaults\": {\"line\": {\"color\": \"#2a3f5f\"}}, \"ternary\": {\"aaxis\": {\"gridcolor\": \"white\", \"linecolor\": \"white\", \"ticks\": \"\"}, \"baxis\": {\"gridcolor\": \"white\", \"linecolor\": \"white\", \"ticks\": \"\"}, \"bgcolor\": \"#E5ECF6\", \"caxis\": {\"gridcolor\": \"white\", \"linecolor\": \"white\", \"ticks\": \"\"}}, \"title\": {\"x\": 0.05}, \"xaxis\": {\"automargin\": true, \"gridcolor\": \"white\", \"linecolor\": \"white\", \"ticks\": \"\", \"title\": {\"standoff\": 15}, \"zerolinecolor\": \"white\", \"zerolinewidth\": 2}, \"yaxis\": {\"automargin\": true, \"gridcolor\": \"white\", \"linecolor\": \"white\", \"ticks\": \"\", \"title\": {\"standoff\": 15}, \"zerolinecolor\": \"white\", \"zerolinewidth\": 2}}}, \"title\": {\"text\": \"50 most used tags on Steam Store\"}},                        {\"responsive\": true}                    ).then(function(){\n",
       "                            \n",
       "var gd = document.getElementById('22ea3f1b-b3ce-4e7d-8a1d-7a8c254f635c');\n",
       "var x = new MutationObserver(function (mutations, observer) {{\n",
       "        var display = window.getComputedStyle(gd).display;\n",
       "        if (!display || display === 'none') {{\n",
       "            console.log([gd, 'removed!']);\n",
       "            Plotly.purge(gd);\n",
       "            observer.disconnect();\n",
       "        }}\n",
       "}});\n",
       "\n",
       "// Listen for the removal of the full notebook cells\n",
       "var notebookContainer = gd.closest('#notebook-container');\n",
       "if (notebookContainer) {{\n",
       "    x.observe(notebookContainer, {childList: true});\n",
       "}}\n",
       "\n",
       "// Listen for the clearing of the current output cell\n",
       "var outputEl = gd.closest('.output');\n",
       "if (outputEl) {{\n",
       "    x.observe(outputEl, {childList: true});\n",
       "}}\n",
       "\n",
       "                        })                };                });            </script>        </div>"
      ]
     },
     "metadata": {},
     "output_type": "display_data"
    }
   ],
   "source": [
    "import plotly.graph_objects as go\n",
    "\n",
    "x, y = zip(*tags_counts)\n",
    "\n",
    "fig = go.Figure()\n",
    "fig.add_trace(go.Bar(x=x, y=y))\n",
    "fig.update_layout(title = '50 most used tags on Steam Store')\n",
    "fig.show()"
   ]
  },
  {
   "cell_type": "code",
   "execution_count": 205,
   "metadata": {},
   "outputs": [
    {
     "name": "stdout",
     "output_type": "stream",
     "text": [
      "# ignore data folder\n",
      "data/\n",
      "\n",
      "# ignore logs\n",
      "logs/*.logs\n",
      "\n",
      "# ignore virtualenv\n",
      "venv/\n",
      "\n",
      "# ignore specific files\n",
      "/docs/notes.md\n",
      "/config/.env\n"
     ]
    }
   ],
   "source": [
    "%%bash\n",
    "\n",
    "git add"
   ]
  }
 ],
 "metadata": {
  "kernelspec": {
   "display_name": "steam-analysis",
   "language": "python",
   "name": "steam-analysis"
  },
  "language_info": {
   "codemirror_mode": {
    "name": "ipython",
    "version": 3
   },
   "file_extension": ".py",
   "mimetype": "text/x-python",
   "name": "python",
   "nbconvert_exporter": "python",
   "pygments_lexer": "ipython3",
   "version": "3.7.5"
  }
 },
 "nbformat": 4,
 "nbformat_minor": 4
}
