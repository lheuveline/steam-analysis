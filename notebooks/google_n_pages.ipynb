{
 "cells": [
  {
   "cell_type": "code",
   "execution_count": 156,
   "metadata": {},
   "outputs": [
    {
     "data": {
      "text/html": [
       "<style>.container { width:100% !important; }</style>"
      ],
      "text/plain": [
       "<IPython.core.display.HTML object>"
      ]
     },
     "metadata": {},
     "output_type": "display_data"
    }
   ],
   "source": [
    "# Just take all width for viz if you have a wide screen like me.\n",
    "from IPython.core.display import display, HTML\n",
    "display(HTML(\"<style>.container { width:100% !important; }</style>\"))"
   ]
  },
  {
   "cell_type": "code",
   "execution_count": 143,
   "metadata": {},
   "outputs": [
    {
     "name": "stdout",
     "output_type": "stream",
     "text": [
      "n_results : 21100\n"
     ]
    }
   ],
   "source": [
    "import requests\n",
    "from bs4 import BeautifulSoup\n",
    "import re\n",
    "\n",
    "URL = \"https://www.google.com/search?\"\n",
    "\n",
    "headers = {\n",
    "    \"User-Agent\": \"Mozilla/5.0 (Windows NT 6.1) AppleWebKit/537.36 (KHTML, like Gecko) Chrome/80.0.3987.149 Safari/537.36\"}\n",
    "\n",
    "title = \"Dogs of War Online\"\n",
    "title.replace(\"'\", \"%27\")\n",
    "\n",
    "params =  {\n",
    "    \"as_epq\" : \"+\".join(title.split())\n",
    "}\n",
    "params_str = \"&\".join(['='.join(x) for x in params.items()])\n",
    "encoded = URL + params_str\n",
    "\n",
    "r = requests.get(encoded, headers = headers)\n",
    "r.encoding = 'utf-8'\n",
    "\n",
    "soup = BeautifulSoup(r.content, 'html.parser')\n",
    "result_stats = soup \\\n",
    "    .find('div', {'id' : 'result-stats'}) \\\n",
    "    .get_text() \\\n",
    "    .replace('\\u202f', '') \\\n",
    "    .replace(\"\\xa0\", \" \")\n",
    "\n",
    "n_results = int(re.findall(\"[0-9]+\", result_stats)[0])\n",
    "\n",
    "print('n_results :', n_results)"
   ]
  },
  {
   "cell_type": "code",
   "execution_count": 150,
   "metadata": {},
   "outputs": [
    {
     "data": {
      "text/html": [
       "<div>\n",
       "<style scoped>\n",
       "    .dataframe tbody tr th:only-of-type {\n",
       "        vertical-align: middle;\n",
       "    }\n",
       "\n",
       "    .dataframe tbody tr th {\n",
       "        vertical-align: top;\n",
       "    }\n",
       "\n",
       "    .dataframe thead th {\n",
       "        text-align: right;\n",
       "    }\n",
       "</style>\n",
       "<table border=\"1\" class=\"dataframe\">\n",
       "  <thead>\n",
       "    <tr style=\"text-align: right;\">\n",
       "      <th></th>\n",
       "      <th>#</th>\n",
       "      <th>APPID</th>\n",
       "      <th>TITLE</th>\n",
       "      <th>RELEASE</th>\n",
       "      <th>PLAYERS</th>\n",
       "      <th>OWNERS</th>\n",
       "      <th>TOTAL HOURS</th>\n",
       "      <th>DEVELOPER</th>\n",
       "      <th>PUBLISHER</th>\n",
       "    </tr>\n",
       "  </thead>\n",
       "  <tbody>\n",
       "    <tr>\n",
       "      <th>0</th>\n",
       "      <td>1</td>\n",
       "      <td>304930.0</td>\n",
       "      <td>Unturned</td>\n",
       "      <td>7/7/2014</td>\n",
       "      <td>9099669</td>\n",
       "      <td>12226095</td>\n",
       "      <td>100073000.0</td>\n",
       "      <td>Nelson Sexton</td>\n",
       "      <td>Smartly Dressed Games</td>\n",
       "    </tr>\n",
       "    <tr>\n",
       "      <th>1</th>\n",
       "      <td>2</td>\n",
       "      <td>301520.0</td>\n",
       "      <td>Robocraft</td>\n",
       "      <td>7/8/2014</td>\n",
       "      <td>3549730</td>\n",
       "      <td>5344712</td>\n",
       "      <td>56569900.0</td>\n",
       "      <td>Freejam</td>\n",
       "      <td>Freejam</td>\n",
       "    </tr>\n",
       "    <tr>\n",
       "      <th>2</th>\n",
       "      <td>3</td>\n",
       "      <td>227940.0</td>\n",
       "      <td>Heroes &amp; Generals</td>\n",
       "      <td>7/11/2014</td>\n",
       "      <td>2779196</td>\n",
       "      <td>4442318</td>\n",
       "      <td>22875900.0</td>\n",
       "      <td>Reto-Moto</td>\n",
       "      <td>Reto-Moto</td>\n",
       "    </tr>\n",
       "    <tr>\n",
       "      <th>3</th>\n",
       "      <td>4</td>\n",
       "      <td>208090.0</td>\n",
       "      <td>Loadout</td>\n",
       "      <td>1/31/2014</td>\n",
       "      <td>1993110</td>\n",
       "      <td>3312720</td>\n",
       "      <td>17126300.0</td>\n",
       "      <td>Edge of Reality</td>\n",
       "      <td>Edge of Reality</td>\n",
       "    </tr>\n",
       "    <tr>\n",
       "      <th>4</th>\n",
       "      <td>5</td>\n",
       "      <td>222900.0</td>\n",
       "      <td>Dead Island: Epidemic</td>\n",
       "      <td>11/20/2014</td>\n",
       "      <td>1713161</td>\n",
       "      <td>3900679</td>\n",
       "      <td>7806700.0</td>\n",
       "      <td>Stunlock Studios</td>\n",
       "      <td>Deep Silver</td>\n",
       "    </tr>\n",
       "  </tbody>\n",
       "</table>\n",
       "</div>"
      ],
      "text/plain": [
       "   #     APPID                  TITLE     RELEASE  PLAYERS    OWNERS  \\\n",
       "0  1  304930.0               Unturned    7/7/2014  9099669  12226095   \n",
       "1  2  301520.0              Robocraft    7/8/2014  3549730   5344712   \n",
       "2  3  227940.0      Heroes & Generals   7/11/2014  2779196   4442318   \n",
       "3  4  208090.0                Loadout   1/31/2014  1993110   3312720   \n",
       "4  5  222900.0  Dead Island: Epidemic  11/20/2014  1713161   3900679   \n",
       "\n",
       "   TOTAL HOURS         DEVELOPER              PUBLISHER  \n",
       "0  100073000.0     Nelson Sexton  Smartly Dressed Games  \n",
       "1   56569900.0           Freejam                Freejam  \n",
       "2   22875900.0         Reto-Moto              Reto-Moto  \n",
       "3   17126300.0   Edge of Reality        Edge of Reality  \n",
       "4    7806700.0  Stunlock Studios            Deep Silver  "
      ]
     },
     "execution_count": 150,
     "metadata": {},
     "output_type": "execute_result"
    }
   ],
   "source": [
    "import os\n",
    "import pandas as pd\n",
    "\n",
    "dataset_path = os.path.join(os.path.dirname(os.path.realpath(\"\")), \"data/\")\n",
    "\n",
    "df = pd.read_csv(\n",
    "    dataset_path + \"arstechnica/arstechnica_games_sales_1.csv\"\n",
    ")\n",
    "\n",
    "df.head()"
   ]
  },
  {
   "cell_type": "code",
   "execution_count": 170,
   "metadata": {
    "scrolled": true
   },
   "outputs": [
    {
     "data": {
      "application/vnd.jupyter.widget-view+json": {
       "model_id": "4e5a92b5ab10495bb8c1fda1de7831de",
       "version_major": 2,
       "version_minor": 0
      },
      "text/plain": [
       "HBox(children=(HTML(value=''), FloatProgress(value=0.0, max=400.0), HTML(value='')))"
      ]
     },
     "metadata": {},
     "output_type": "display_data"
    },
    {
     "name": "stdout",
     "output_type": "stream",
     "text": [
      "Title : Unturned\n",
      "Encoded url : https://www.google.com/search?as_epq=Unturned\n",
      "\n",
      "Status code: 429\n",
      "\n"
     ]
    },
    {
     "ename": "AttributeError",
     "evalue": "'NoneType' object has no attribute 'get_text'",
     "output_type": "error",
     "traceback": [
      "\u001b[0;31m---------------------------------------------------------------------------\u001b[0m",
      "\u001b[0;31mAttributeError\u001b[0m                            Traceback (most recent call last)",
      "\u001b[0;32m<ipython-input-170-db0876089947>\u001b[0m in \u001b[0;36m<module>\u001b[0;34m\u001b[0m\n\u001b[1;32m     41\u001b[0m \u001b[0mres\u001b[0m \u001b[0;34m=\u001b[0m \u001b[0;34m[\u001b[0m\u001b[0;34m]\u001b[0m\u001b[0;34m\u001b[0m\u001b[0;34m\u001b[0m\u001b[0m\n\u001b[1;32m     42\u001b[0m \u001b[0;32mfor\u001b[0m \u001b[0mtitle\u001b[0m \u001b[0;32min\u001b[0m \u001b[0mtqdm\u001b[0m\u001b[0;34m(\u001b[0m\u001b[0mdf\u001b[0m\u001b[0;34m.\u001b[0m\u001b[0mTITLE\u001b[0m\u001b[0;34m)\u001b[0m\u001b[0;34m:\u001b[0m\u001b[0;34m\u001b[0m\u001b[0;34m\u001b[0m\u001b[0m\n\u001b[0;32m---> 43\u001b[0;31m     \u001b[0mres\u001b[0m\u001b[0;34m.\u001b[0m\u001b[0mappend\u001b[0m\u001b[0;34m(\u001b[0m\u001b[0;34m(\u001b[0m\u001b[0mtitle\u001b[0m\u001b[0;34m,\u001b[0m \u001b[0mget_n_results\u001b[0m\u001b[0;34m(\u001b[0m\u001b[0mtitle\u001b[0m\u001b[0;34m)\u001b[0m\u001b[0;34m)\u001b[0m\u001b[0;34m)\u001b[0m\u001b[0;34m\u001b[0m\u001b[0;34m\u001b[0m\u001b[0m\n\u001b[0m\u001b[1;32m     44\u001b[0m     \u001b[0mtime\u001b[0m\u001b[0;34m.\u001b[0m\u001b[0msleep\u001b[0m\u001b[0;34m(\u001b[0m\u001b[0;36m60\u001b[0m\u001b[0;34m)\u001b[0m\u001b[0;34m\u001b[0m\u001b[0;34m\u001b[0m\u001b[0m\n",
      "\u001b[0;32m<ipython-input-170-db0876089947>\u001b[0m in \u001b[0;36mget_n_results\u001b[0;34m(title)\u001b[0m\n\u001b[1;32m     27\u001b[0m \u001b[0;34m\u001b[0m\u001b[0m\n\u001b[1;32m     28\u001b[0m     \u001b[0mresult_stats\u001b[0m \u001b[0;34m=\u001b[0m \u001b[0msoup\u001b[0m\u001b[0;31m \u001b[0m\u001b[0;31m\\\u001b[0m\u001b[0;34m\u001b[0m\u001b[0;34m\u001b[0m\u001b[0m\n\u001b[0;32m---> 29\u001b[0;31m         \u001b[0;34m.\u001b[0m\u001b[0mfind\u001b[0m\u001b[0;34m(\u001b[0m\u001b[0;34m'div'\u001b[0m\u001b[0;34m,\u001b[0m \u001b[0;34m{\u001b[0m\u001b[0;34m'id'\u001b[0m \u001b[0;34m:\u001b[0m \u001b[0;34m'result-stats'\u001b[0m\u001b[0;34m}\u001b[0m\u001b[0;34m)\u001b[0m\u001b[0;31m \u001b[0m\u001b[0;31m\\\u001b[0m\u001b[0;34m\u001b[0m\u001b[0;34m\u001b[0m\u001b[0m\n\u001b[0m\u001b[1;32m     30\u001b[0m         \u001b[0;34m.\u001b[0m\u001b[0mget_text\u001b[0m\u001b[0;34m(\u001b[0m\u001b[0;34m)\u001b[0m\u001b[0;31m \u001b[0m\u001b[0;31m\\\u001b[0m\u001b[0;34m\u001b[0m\u001b[0;34m\u001b[0m\u001b[0m\n\u001b[1;32m     31\u001b[0m         \u001b[0;34m.\u001b[0m\u001b[0mreplace\u001b[0m\u001b[0;34m(\u001b[0m\u001b[0;34m'\\u202f'\u001b[0m\u001b[0;34m,\u001b[0m \u001b[0;34m''\u001b[0m\u001b[0;34m)\u001b[0m\u001b[0;31m \u001b[0m\u001b[0;31m\\\u001b[0m\u001b[0;34m\u001b[0m\u001b[0;34m\u001b[0m\u001b[0m\n",
      "\u001b[0;31mAttributeError\u001b[0m: 'NoneType' object has no attribute 'get_text'"
     ]
    }
   ],
   "source": [
    "import json\n",
    "import time\n",
    "from tqdm.notebook import tqdm\n",
    "\n",
    "def get_n_results(title):\n",
    "\n",
    "    URL = \"https://www.google.com/search?\"\n",
    "    headers = {\n",
    "        \"User-Agent\": 'Mozilla/5.0 (Windows NT 10.0; Win64; x64; rv:57.0) Gecko/20100101 Firefox/57.0'\n",
    "    }\n",
    "    params =  {\n",
    "        \"as_epq\" : \"+\".join(title.split())\n",
    "    }\n",
    "    params_str = \"&\".join(['='.join(x) for x in params.items()])\n",
    "    encoded = URL + params_str\n",
    "\n",
    "    print('Title :', title)\n",
    "    print('Encoded url :', encoded)\n",
    "    print()\n",
    "    \n",
    "    r = requests.get(encoded, headers = headers)\n",
    "    r.encoding = 'utf-8'\n",
    "    \n",
    "    print(\"Status code:\", r.status_code)\n",
    "\n",
    "    soup = BeautifulSoup(r.content, 'html.parser')\n",
    "    \n",
    "    result_stats = soup \\\n",
    "        .find('div', {'id' : 'result-stats'}) \\\n",
    "        .get_text() \\\n",
    "        .replace('\\u202f', '') \\\n",
    "        .replace(\"\\xa0\", \" \")\n",
    "\n",
    "    n_results = int(re.findall(\"[0-9]+\", result_stats)[0])\n",
    "    \n",
    "    return n_results\n",
    "\n",
    "# Be sure to wait before starting scraping\n",
    "time.sleep(60)\n",
    "\n",
    "res = []\n",
    "for title in tqdm(df.TITLE):\n",
    "    res.append((title, get_n_results(title)))\n",
    "    time.sleep(60)"
   ]
  },
  {
   "cell_type": "code",
   "execution_count": 176,
   "metadata": {},
   "outputs": [
    {
     "name": "stdout",
     "output_type": "stream",
     "text": [
      "Starting to test status code...\n"
     ]
    },
    {
     "ename": "KeyboardInterrupt",
     "evalue": "",
     "output_type": "error",
     "traceback": [
      "\u001b[0;31m---------------------------------------------------------------------------\u001b[0m",
      "\u001b[0;31mKeyboardInterrupt\u001b[0m                         Traceback (most recent call last)",
      "\u001b[0;32m<ipython-input-176-58bfcfcafb8a>\u001b[0m in \u001b[0;36m<module>\u001b[0;34m\u001b[0m\n\u001b[1;32m      6\u001b[0m \u001b[0mn_req\u001b[0m \u001b[0;34m=\u001b[0m \u001b[0;36m0\u001b[0m\u001b[0;34m\u001b[0m\u001b[0;34m\u001b[0m\u001b[0m\n\u001b[1;32m      7\u001b[0m \u001b[0;32mwhile\u001b[0m \u001b[0mr\u001b[0m\u001b[0;34m.\u001b[0m\u001b[0mstatus_code\u001b[0m \u001b[0;34m!=\u001b[0m \u001b[0;36m200\u001b[0m\u001b[0;34m:\u001b[0m\u001b[0;34m\u001b[0m\u001b[0;34m\u001b[0m\u001b[0m\n\u001b[0;32m----> 8\u001b[0;31m     \u001b[0mtime\u001b[0m\u001b[0;34m.\u001b[0m\u001b[0msleep\u001b[0m\u001b[0;34m(\u001b[0m\u001b[0;36m300\u001b[0m\u001b[0;34m)\u001b[0m\u001b[0;34m\u001b[0m\u001b[0;34m\u001b[0m\u001b[0m\n\u001b[0m\u001b[1;32m      9\u001b[0m     \u001b[0mr\u001b[0m \u001b[0;34m=\u001b[0m \u001b[0mrequests\u001b[0m\u001b[0;34m.\u001b[0m\u001b[0mget\u001b[0m\u001b[0;34m(\u001b[0m\u001b[0;34m\"https://www.google.com/search?as_epq=Unturned\"\u001b[0m\u001b[0;34m)\u001b[0m\u001b[0;34m\u001b[0m\u001b[0;34m\u001b[0m\u001b[0m\n\u001b[1;32m     10\u001b[0m     \u001b[0mn_req\u001b[0m \u001b[0;34m+=\u001b[0m \u001b[0;36m1\u001b[0m\u001b[0;34m\u001b[0m\u001b[0;34m\u001b[0m\u001b[0m\n",
      "\u001b[0;31mKeyboardInterrupt\u001b[0m: "
     ]
    }
   ],
   "source": [
    "r = requests.get(\"https://www.google.com/search?as_epq=Unturned\")\n",
    "\n",
    "print('Starting to test status code...')\n",
    "\n",
    "max_req = 1e5\n",
    "n_req = 0\n",
    "while r.status_code != 200:\n",
    "    time.sleep(300)\n",
    "    r = requests.get(\"https://www.google.com/search?as_epq=Unturned\")\n",
    "    n_req += 1\n",
    "    if n_req >= max_req:\n",
    "        break\n",
    "        \n",
    "print('Max-Requests limit removed !')"
   ]
  },
  {
   "cell_type": "code",
   "execution_count": 175,
   "metadata": {},
   "outputs": [
    {
     "data": {
      "text/plain": [
       "({'Date': 'Thu, 04 Feb 2021 23:08:33 GMT', 'Pragma': 'no-cache', 'Expires': 'Fri, 01 Jan 1990 00:00:00 GMT', 'Cache-Control': 'no-store, no-cache, must-revalidate', 'Content-Type': 'text/html', 'Server': 'HTTP server (unknown)', 'Content-Length': '2867', 'X-XSS-Protection': '0', 'Alt-Svc': 'h3-29=\":443\"; ma=2592000,h3-T051=\":443\"; ma=2592000,h3-Q050=\":443\"; ma=2592000,h3-Q046=\":443\"; ma=2592000,h3-Q043=\":443\"; ma=2592000,quic=\":443\"; ma=2592000; v=\"46,43\"'},\n",
       " 429)"
      ]
     },
     "execution_count": 175,
     "metadata": {},
     "output_type": "execute_result"
    }
   ],
   "source": [
    "r.headers, r.status_code"
   ]
  }
 ],
 "metadata": {
  "kernelspec": {
   "display_name": "steam-analysis",
   "language": "python",
   "name": "steam-analysis"
  },
  "language_info": {
   "codemirror_mode": {
    "name": "ipython",
    "version": 3
   },
   "file_extension": ".py",
   "mimetype": "text/x-python",
   "name": "python",
   "nbconvert_exporter": "python",
   "pygments_lexer": "ipython3",
   "version": "3.7.5"
  }
 },
 "nbformat": 4,
 "nbformat_minor": 4
}
