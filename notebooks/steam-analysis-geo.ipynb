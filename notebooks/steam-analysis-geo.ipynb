{
 "cells": [
  {
   "cell_type": "code",
   "execution_count": 1,
   "metadata": {},
   "outputs": [
    {
     "data": {
      "text/html": [
       "<style>.container { width:100% !important; }</style>"
      ],
      "text/plain": [
       "<IPython.core.display.HTML object>"
      ]
     },
     "metadata": {},
     "output_type": "display_data"
    }
   ],
   "source": [
    "# Just take all width for viz\n",
    "from IPython.core.display import display, HTML\n",
    "display(HTML(\"<style>.container { width:100% !important; }</style>\"))"
   ]
  },
  {
   "cell_type": "code",
   "execution_count": 2,
   "metadata": {},
   "outputs": [],
   "source": [
    "import findspark\n",
    "findspark.init()\n",
    "\n",
    "import pyspark\n",
    "from pyspark.sql import SparkSession\n",
    "import pyspark.sql.functions as F\n",
    "from pyspark.sql.types import *\n",
    "\n",
    "import os\n",
    "import sys\n",
    "\n",
    "os.environ['PYSPARK_PYTHON'] = sys.executable\n",
    "os.environ['PYSPARK_DRIVER_PYTHON'] = sys.executable"
   ]
  },
  {
   "cell_type": "code",
   "execution_count": 3,
   "metadata": {},
   "outputs": [],
   "source": [
    "spark = SparkSession \\\n",
    "    .builder \\\n",
    "    .master('local[*]') \\\n",
    "    .appName(\"steam-analysis-eda\") \\\n",
    "    .getOrCreate()"
   ]
  },
  {
   "cell_type": "code",
   "execution_count": 7,
   "metadata": {},
   "outputs": [
    {
     "name": "stdout",
     "output_type": "stream",
     "text": [
      "root\n",
      " |-- appid: string (nullable = true)\n",
      " |-- name: string (nullable = true)\n",
      " |-- release_date: string (nullable = true)\n",
      " |-- english: string (nullable = true)\n",
      " |-- developer: string (nullable = true)\n",
      " |-- publisher: string (nullable = true)\n",
      " |-- platforms: string (nullable = true)\n",
      " |-- required_age: string (nullable = true)\n",
      " |-- categories: string (nullable = true)\n",
      " |-- genres: string (nullable = true)\n",
      " |-- steamspy_tags: string (nullable = true)\n",
      " |-- achievements: string (nullable = true)\n",
      " |-- positive_ratings: string (nullable = true)\n",
      " |-- negative_ratings: string (nullable = true)\n",
      " |-- average_playtime: string (nullable = true)\n",
      " |-- median_playtime: string (nullable = true)\n",
      " |-- owners: string (nullable = true)\n",
      " |-- price: string (nullable = true)\n",
      "\n"
     ]
    }
   ],
   "source": [
    "games_dataset_path = \"file:///home/neadex/steam-analysis/data/steam-store-games/steam.csv\"\n",
    "\n",
    "games_df = spark.read.csv(games_dataset_path, header=True)\n",
    "games_df.printSchema()"
   ]
  },
  {
   "cell_type": "code",
   "execution_count": 6,
   "metadata": {},
   "outputs": [
    {
     "name": "stdout",
     "output_type": "stream",
     "text": [
      "root\n",
      " |-- Rank: string (nullable = true)\n",
      " |-- Name: string (nullable = true)\n",
      " |-- Platform: string (nullable = true)\n",
      " |-- Year: string (nullable = true)\n",
      " |-- Genre: string (nullable = true)\n",
      " |-- Publisher: string (nullable = true)\n",
      " |-- NA_Sales: string (nullable = true)\n",
      " |-- EU_Sales: string (nullable = true)\n",
      " |-- JP_Sales: string (nullable = true)\n",
      " |-- Other_Sales: string (nullable = true)\n",
      " |-- Global_Sales: string (nullable = true)\n",
      "\n"
     ]
    }
   ],
   "source": [
    "sales_dataset_path = \"file:///home/neadex/steam-analysis/data/video-games-sales/vgsales.csv\"\n",
    "\n",
    "sales_df = spark.read.csv(sales_dataset_path, header=True)\n",
    "sales_df.printSchema()"
   ]
  },
  {
   "cell_type": "code",
   "execution_count": 49,
   "metadata": {
    "scrolled": false
   },
   "outputs": [
    {
     "name": "stdout",
     "output_type": "stream",
     "text": [
      "+----------------------------------+------------+--------+--------+--------+--------+------------+-----+------------+---------------------+\n",
      "|name                              |Global_Sales|EU_Sales|NA_Sales|JP_Sales|platform|genre       |price|release_date|EU_NA_Sales_diff     |\n",
      "+----------------------------------+------------+--------+--------+--------+--------+------------+-----+------------+---------------------+\n",
      "|Warhammer 40,000: Space Marine    |0.2         |0.09    |0.09    |0       |PC      |Shooter     |19.99|2011-09-08  |0.0                  |\n",
      "|Mount & Blade: Warband            |0.02        |0.01    |0.01    |0       |PC      |Role-Playing|14.99|2010-03-31  |0.0                  |\n",
      "|Saints Row: The Third             |0.38        |0.16    |0.16    |0       |PC      |Action      |6.99 |2011-11-17  |0.0                  |\n",
      "|Mafia II                          |0.4         |0.17    |0.17    |0       |PC      |Action      |19.99|2011-03-22  |0.0                  |\n",
      "|Battleborn                        |0.07        |0.03    |0.03    |0       |PC      |Shooter     |0.0  |2016-05-03  |0.0                  |\n",
      "|Borderlands 2                     |0.93        |0.41    |0.42    |0       |PC      |Shooter     |19.99|2012-09-20  |1.075268817204303E-4 |\n",
      "|Portal 2                          |0.76        |0.32    |0.33    |0       |PC      |Shooter     |7.19 |2011-04-18  |1.315789473684213E-4 |\n",
      "|Duke Nukem Forever                |0.41        |0.17    |0.18    |0       |PC      |Shooter     |14.99|2011-06-09  |2.4390243902438935E-4|\n",
      "|Homefront                         |0.24        |0.1     |0.11    |0       |PC      |Shooter     |14.99|2011-03-14  |4.1666666666666626E-4|\n",
      "|BioShock Infinite                 |0.67        |0.3     |0.28    |0       |PC      |Shooter     |19.99|2013-03-25  |5.970149253731321E-4 |\n",
      "|Spec Ops: The Line                |0.23        |0.09    |0.11    |0       |PC      |Shooter     |19.99|2012-06-28  |0.0017391304347826094|\n",
      "|APB Reloaded                      |0.04        |0.01    |0.02    |0       |PC      |Role-Playing|0.0  |2011-12-06  |0.0025               |\n",
      "|Devil May Cry 4                   |0.04        |0.02    |0.01    |0       |PC      |Action      |15.99|2009-12-22  |0.0025               |\n",
      "|Supreme Commander: Forged Alliance|0.04        |0.02    |0.01    |0       |PC      |Strategy    |8.99 |2011-09-28  |0.0025               |\n",
      "|Tropico 4                         |0.27        |0.13    |0.1     |0       |PC      |Strategy    |12.49|2011-09-01  |0.003333333333333333 |\n",
      "|Sacra Terra: Angelic Night        |0.03        |0.02    |0.01    |0       |PC      |Puzzle      |1.99 |2015-07-02  |0.0033333333333333335|\n",
      "|Command & Conquer 3: Kane's Wrath |0.02        |0.01    |0       |0       |PC      |Strategy    |9.99 |2009-11-13  |0.005                |\n",
      "|Tomb Raider: Legend               |0.02        |0.01    |0       |0       |PC      |Action      |4.99 |2007-03-29  |0.005                |\n",
      "|Just Cause                        |0.02        |0.01    |0       |0       |PC      |Action      |4.99 |2007-03-15  |0.005                |\n",
      "|Elven Legacy                      |0.02        |0       |0.01    |0       |PC      |Strategy    |3.99 |2009-04-07  |0.005                |\n",
      "+----------------------------------+------------+--------+--------+--------+--------+------------+-----+------------+---------------------+\n",
      "only showing top 20 rows\n",
      "\n"
     ]
    }
   ],
   "source": [
    "cols = (\n",
    "    'name', \n",
    "    'Global_Sales','EU_Sales', \"NA_Sales\", \"JP_Sales\",\n",
    "    \"platform\", \n",
    "    'genre',\n",
    "    'price',\n",
    "    'release_date'\n",
    ")\n",
    "\n",
    "games_df.join(sales_df, on = 'Name') \\\n",
    "    .sort(F.col('Global_Sales').desc()) \\\n",
    "    .selectExpr(*cols) \\\n",
    "    .where(F.col('platform') == \"PC\") \\\n",
    "    .withColumn('EU_NA_Sales_diff', (((sales_df['EU_Sales'] - sales_df['NA_Sales']) ** 2) / sales_df['Global_Sales'] )) \\\n",
    "    .sort(F.col('EU_NA_Sales_diff')) \\\n",
    "    .show(20, truncate=False)"
   ]
  },
  {
   "cell_type": "code",
   "execution_count": 52,
   "metadata": {},
   "outputs": [
    {
     "name": "stdout",
     "output_type": "stream",
     "text": [
      "+-------------------------------+------------+--------+--------+--------+--------+------------+-----+------------+----------------+\n",
      "|name                           |Global_Sales|EU_Sales|NA_Sales|JP_Sales|platform|genre       |price|release_date|JP_NA_Sales_diff|\n",
      "+-------------------------------+------------+--------+--------+--------+--------+------------+-----+------------+----------------+\n",
      "|Counter-Strike: Source         |0.09        |0.07    |0       |0       |PC      |Shooter     |7.19 |2004-11-01  |0.0             |\n",
      "|Vietcong                       |0.02        |0.02    |0       |0       |PC      |Shooter     |3.99 |2018-05-25  |0.0             |\n",
      "|Railroad Tycoon 3              |0.04        |0.03    |0       |0       |PC      |Strategy    |5.99 |2007-05-04  |0.0             |\n",
      "|Tomb Raider: Anniversary       |0.04        |0.03    |0       |0       |PC      |Action      |6.99 |2007-06-05  |0.0             |\n",
      "|Bully: Scholarship Edition     |0.03        |0.02    |0       |0       |PC      |Action      |9.99 |2008-10-21  |0.0             |\n",
      "|Conflict: Denied Ops           |0.01        |0.01    |0       |0       |PC      |Shooter     |3.99 |2008-02-08  |0.0             |\n",
      "|Left 4 Dead                    |0.02        |0.02    |0       |0       |PC      |Shooter     |7.19 |2008-11-17  |0.0             |\n",
      "|Tomb Raider: Underworld        |0.08        |0.06    |0       |0       |PC      |Action      |6.99 |2008-11-21  |0.0             |\n",
      "|X3: Terran Conflict            |0.03        |0.02    |0       |0       |PC      |Simulation  |15.99|2008-10-16  |0.0             |\n",
      "|Just Cause 2                   |0.13        |0.1     |0       |0       |PC      |Action      |9.99 |2010-03-23  |0.0             |\n",
      "|King's Bounty: Armored Princess|0.01        |0.01    |0       |0       |PC      |Role-Playing|7.99 |2009-11-19  |0.0             |\n",
      "|EVE Online                     |0.22        |0.19    |0       |0       |PC      |Role-Playing|0.0  |2010-12-15  |0.0             |\n",
      "|Evil Genius                    |0.02        |0.01    |0       |0       |PC      |Strategy    |6.99 |2009-06-22  |0.0             |\n",
      "|Supreme Commander              |0.05        |0.04    |0       |0       |PC      |Strategy    |8.99 |2011-09-28  |0.0             |\n",
      "|The Longest Journey            |0.02        |0.01    |0       |0       |PC      |Adventure   |5.99 |2007-05-01  |0.0             |\n",
      "|Saints Row 2                   |0.04        |0.03    |0       |0       |PC      |Action      |9.99 |2009-01-07  |0.0             |\n",
      "|Hitman: Blood Money            |0.04        |0.03    |0       |0       |PC      |Action      |9.29 |2007-03-15  |0.0             |\n",
      "|Star Trek Online               |0.02        |0.02    |0       |0       |PC      |Role-Playing|0.0  |2012-01-31  |0.0             |\n",
      "|Just Cause                     |0.02        |0.01    |0       |0       |PC      |Action      |4.99 |2007-03-15  |0.0             |\n",
      "|Hospital Tycoon                |0.01        |0.01    |0       |0       |PC      |Strategy    |3.49 |2009-02-13  |0.0             |\n",
      "+-------------------------------+------------+--------+--------+--------+--------+------------+-----+------------+----------------+\n",
      "only showing top 20 rows\n",
      "\n"
     ]
    }
   ],
   "source": [
    "games_df.join(sales_df, on = 'Name') \\\n",
    "    .sort(F.col('Global_Sales').desc()) \\\n",
    "    .selectExpr(*cols) \\\n",
    "    .where(F.col('platform') == \"PC\") \\\n",
    "    .withColumn('JP_NA_Sales_diff', (((sales_df['JP_Sales'] - sales_df['NA_Sales']) ** 2) / sales_df['Global_Sales'] )) \\\n",
    "    .sort(F.col('JP_NA_Sales_diff')) \\\n",
    "    .show(20, truncate=False)"
   ]
  },
  {
   "cell_type": "markdown",
   "metadata": {},
   "source": [
    "### JP_Sales\n",
    "\n",
    "-> Si les résultats sont filtrés avec platform == \"pc\", JP_Sales = 0\n",
    "    \n",
    "    Conclusion : le marché japonais est complètement négligeable pour un jeu pc\n",
    "    \n",
    " \n",
    "Prochaine question : Les jeux les plus vendus au japon sont-ils des jeux qui se sont ausi bien vendus ailleurs ? \n",
    "    => Corrélation entre JP_Sales et avg(NA_Sales, EU_Sales)"
   ]
  },
  {
   "cell_type": "code",
   "execution_count": 62,
   "metadata": {},
   "outputs": [
    {
     "name": "stdout",
     "output_type": "stream",
     "text": [
      "+----+----------------------------------------------+--------+----+------------+----------------+--------+--------+--------+-----------+------------+\n",
      "|Rank|Name                                          |Platform|Year|Genre       |Publisher       |NA_Sales|EU_Sales|JP_Sales|Other_Sales|Global_Sales|\n",
      "+----+----------------------------------------------+--------+----+------------+----------------+--------+--------+--------+-----------+------------+\n",
      "|13  |Pokemon Gold/Pokemon Silver                   |GB      |1999|Role-Playing|Nintendo        |9       |6.18    |7.2     |0.71       |23.1        |\n",
      "|2   |Super Mario Bros.                             |NES     |1985|Platform    |Nintendo        |29.08   |3.58    |6.81    |0.77       |40.24       |\n",
      "|7   |New Super Mario Bros.                         |DS      |2006|Platform    |Nintendo        |11.38   |9.23    |6.5     |2.9        |30.01       |\n",
      "|21  |Pokemon Diamond/Pokemon Pearl                 |DS      |2006|Role-Playing|Nintendo        |6.42    |4.52    |6.04    |1.37       |18.36       |\n",
      "|27  |Pokemon Black/Pokemon White                   |DS      |2010|Role-Playing|Nintendo        |5.57    |3.28    |5.65    |0.82       |15.32       |\n",
      "|26  |Pokemon Ruby/Pokemon Sapphire                 |GBA     |2002|Role-Playing|Nintendo        |6.06    |3.9     |5.38    |0.5        |15.85       |\n",
      "|42  |Animal Crossing: Wild World                   |DS      |2005|Simulation  |Nintendo        |2.55    |3.52    |5.33    |0.88       |12.27       |\n",
      "|28  |Brain Age 2: More Training in Minutes a Day   |DS      |2005|Puzzle      |Nintendo        |3.44    |5.36    |5.32    |1.18       |15.3        |\n",
      "|215 |Monster Hunter Freedom 3                      |PSP     |2010|Role-Playing|Capcom          |0       |0       |4.87    |0          |4.87        |\n",
      "|9   |New Super Mario Bros. Wii                     |Wii     |2009|Platform    |Nintendo        |14.59   |7.06    |4.7     |2.26       |28.62       |\n",
      "|74  |Animal Crossing: New Leaf                     |3DS     |2012|Simulation  |Nintendo        |2.01    |2.32    |4.36    |0.41       |9.09        |\n",
      "|150 |Dragon Quest IX: Sentinels of the Starry Skies|DS      |2009|Role-Playing|Nintendo        |0.66    |0.69    |4.35    |0.15       |5.84        |\n",
      "|33  |Pokemon X/Pokemon Y                           |3DS     |2013|Role-Playing|Nintendo        |5.17    |4.05    |4.34    |0.79       |14.35       |\n",
      "|6   |Tetris                                        |GB      |1989|Puzzle      |Nintendo        |23.2    |2.26    |4.22    |0.58       |30.26       |\n",
      "|22  |Super Mario Land                              |GB      |1989|Platform    |Nintendo        |10.83   |2.71    |4.18    |0.42       |18.14       |\n",
      "|20  |Brain Age: Train Your Brain in Minutes a Day  |DS      |2005|Misc        |Nintendo        |4.75    |9.26    |4.16    |2.05       |20.22       |\n",
      "|162 |Monster Hunter Freedom Unite                  |PSP     |2008|Role-Playing|Capcom          |0.47    |0.57    |4.13    |0.34       |5.5         |\n",
      "|12  |Mario Kart DS                                 |DS      |2005|Racing      |Nintendo        |9.81    |7.57    |4.13    |1.92       |23.42       |\n",
      "|243 |Dragon Quest VII: Warriors of Eden            |PS      |2000|Role-Playing|Enix Corporation|0.2     |0.14    |4.1     |0.02       |4.47        |\n",
      "|46  |Pokemon HeartGold/Pokemon SoulSilver          |DS      |2009|Action      |Nintendo        |4.4     |2.77    |3.96    |0.77       |11.9        |\n",
      "+----+----------------------------------------------+--------+----+------------+----------------+--------+--------+--------+-----------+------------+\n",
      "only showing top 20 rows\n",
      "\n"
     ]
    }
   ],
   "source": [
    "sales_df \\\n",
    "    .filter(F.col('JP_Sales') != 0) \\\n",
    "    .sort(F.col('JP_Sales').desc()) \\\n",
    "    .show(truncate=False)"
   ]
  }
 ],
 "metadata": {
  "kernelspec": {
   "display_name": "steam-analysis",
   "language": "python",
   "name": "steam-analysis"
  },
  "language_info": {
   "codemirror_mode": {
    "name": "ipython",
    "version": 3
   },
   "file_extension": ".py",
   "mimetype": "text/x-python",
   "name": "python",
   "nbconvert_exporter": "python",
   "pygments_lexer": "ipython3",
   "version": "3.7.5"
  }
 },
 "nbformat": 4,
 "nbformat_minor": 4
}
