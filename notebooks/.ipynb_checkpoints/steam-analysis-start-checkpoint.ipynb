{
 "cells": [
  {
   "cell_type": "markdown",
   "metadata": {},
   "source": [
    "# Steam EDA"
   ]
  },
  {
   "cell_type": "code",
   "execution_count": 1,
   "metadata": {},
   "outputs": [
    {
     "data": {
      "text/html": [
       "<style>.container { width:100% !important; }</style>"
      ],
      "text/plain": [
       "<IPython.core.display.HTML object>"
      ]
     },
     "metadata": {},
     "output_type": "display_data"
    }
   ],
   "source": [
    "# Just take all width for viz\n",
    "from IPython.core.display import display, HTML\n",
    "display(HTML(\"<style>.container { width:100% !important; }</style>\"))"
   ]
  },
  {
   "cell_type": "markdown",
   "metadata": {},
   "source": [
    "#### Import packages"
   ]
  },
  {
   "cell_type": "code",
   "execution_count": 2,
   "metadata": {},
   "outputs": [],
   "source": [
    "import findspark\n",
    "findspark.init()\n",
    "\n",
    "import pyspark\n",
    "from pyspark.sql import SparkSession\n",
    "import pyspark.sql.functions as F\n",
    "from pyspark.sql.types import *\n",
    "\n",
    "import os\n",
    "import sys\n",
    "\n",
    "os.environ['PYSPARK_PYTHON'] = sys.executable\n",
    "os.environ['PYSPARK_DRIVER_PYTHON'] = sys.executable"
   ]
  },
  {
   "cell_type": "markdown",
   "metadata": {},
   "source": [
    "#### Create SparkSession"
   ]
  },
  {
   "cell_type": "code",
   "execution_count": 3,
   "metadata": {},
   "outputs": [],
   "source": [
    "spark = SparkSession \\\n",
    "    .builder \\\n",
    "    .master('local[*]') \\\n",
    "    .appName(\"steam-analysis-eda\") \\\n",
    "    .getOrCreate()"
   ]
  },
  {
   "cell_type": "markdown",
   "metadata": {},
   "source": [
    "#### Display full datasets structure"
   ]
  },
  {
   "cell_type": "code",
   "execution_count": 4,
   "metadata": {},
   "outputs": [
    {
     "name": "stdout",
     "output_type": "stream",
     "text": [
      "../data\n",
      "├── steam-dataset\n",
      "│   ├── steam_analysis.Achievements_Percentages\n",
      "│   ├── steam_analysis.App_ID_Info\n",
      "│   ├── steam_analysis.App_ID_Info_Old\n",
      "│   ├── steam_analysis.Friends\n",
      "│   ├── steam_analysis.Games_1\n",
      "│   ├── steam_analysis.Games_2\n",
      "│   ├── steam_analysis.Games_Daily\n",
      "│   ├── steam_analysis.Games_Developers\n",
      "│   ├── steam_analysis.Games_Developers_Old\n",
      "│   ├── steam_analysis.Games_Genres\n",
      "│   ├── steam_analysis.Games_Genres_Old\n",
      "│   ├── steam_analysis.Games_Publishers\n",
      "│   ├── steam_analysis.Games_Publishers_Old\n",
      "│   ├── steam_analysis.Groups\n",
      "│   └── steam_analysis.Player_Summaries\n",
      "├── steam-review\n",
      "│   └── steam-review.csv\n",
      "├── steam-store-games\n",
      "│   ├── steam.csv\n",
      "│   ├── steam_description_data.csv\n",
      "│   ├── steam_media_data.csv\n",
      "│   ├── steam_requirements_data.csv\n",
      "│   ├── steamspy_tag_data.csv\n",
      "│   └── steam_support_info.csv\n",
      "└── video-games-sales\n",
      "    └── vgsales.csv\n",
      "\n",
      "19 directories, 8 files\n"
     ]
    }
   ],
   "source": [
    "%%bash\n",
    "\n",
    "tree ../data -L 2"
   ]
  },
  {
   "cell_type": "markdown",
   "metadata": {},
   "source": [
    "#### Load global steam store dataset"
   ]
  },
  {
   "cell_type": "code",
   "execution_count": 5,
   "metadata": {
    "scrolled": false
   },
   "outputs": [
    {
     "name": "stdout",
     "output_type": "stream",
     "text": [
      "root\n",
      " |-- appid: string (nullable = true)\n",
      " |-- name: string (nullable = true)\n",
      " |-- release_date: string (nullable = true)\n",
      " |-- english: string (nullable = true)\n",
      " |-- developer: string (nullable = true)\n",
      " |-- publisher: string (nullable = true)\n",
      " |-- platforms: string (nullable = true)\n",
      " |-- required_age: string (nullable = true)\n",
      " |-- categories: string (nullable = true)\n",
      " |-- genres: string (nullable = true)\n",
      " |-- steamspy_tags: string (nullable = true)\n",
      " |-- achievements: string (nullable = true)\n",
      " |-- positive_ratings: string (nullable = true)\n",
      " |-- negative_ratings: string (nullable = true)\n",
      " |-- average_playtime: string (nullable = true)\n",
      " |-- median_playtime: string (nullable = true)\n",
      " |-- owners: string (nullable = true)\n",
      " |-- price: string (nullable = true)\n",
      "\n"
     ]
    }
   ],
   "source": [
    "games_dataset_path = \"file:///home/neadex/steam-analysis/data/steam-store-games/steam.csv\"\n",
    "\n",
    "games_df = spark.read.csv(games_dataset_path, header=True)\n",
    "games_df.printSchema()"
   ]
  },
  {
   "cell_type": "markdown",
   "metadata": {},
   "source": [
    "#### Display some rows"
   ]
  },
  {
   "cell_type": "code",
   "execution_count": 6,
   "metadata": {},
   "outputs": [
    {
     "name": "stdout",
     "output_type": "stream",
     "text": [
      "+-----+--------------------+------------+-------+----------------+---------+-----------------+------------+--------------------+-------------------+--------------------+------------+----------------+----------------+----------------+---------------+-----------------+-----+\n",
      "|appid|                name|release_date|english|       developer|publisher|        platforms|required_age|          categories|             genres|       steamspy_tags|achievements|positive_ratings|negative_ratings|average_playtime|median_playtime|           owners|price|\n",
      "+-----+--------------------+------------+-------+----------------+---------+-----------------+------------+--------------------+-------------------+--------------------+------------+----------------+----------------+----------------+---------------+-----------------+-----+\n",
      "|   10|      Counter-Strike|  2000-11-01|      1|           Valve|    Valve|windows;mac;linux|           0|Multi-player;Onli...|             Action|Action;FPS;Multip...|           0|          124534|            3339|           17612|            317|10000000-20000000| 7.19|\n",
      "|   20|Team Fortress Cla...|  1999-04-01|      1|           Valve|    Valve|windows;mac;linux|           0|Multi-player;Onli...|             Action|Action;FPS;Multip...|           0|            3318|             633|             277|             62| 5000000-10000000| 3.99|\n",
      "|   30|       Day of Defeat|  2003-05-01|      1|           Valve|    Valve|windows;mac;linux|           0|Multi-player;Valv...|             Action|FPS;World War II;...|           0|            3416|             398|             187|             34| 5000000-10000000| 3.99|\n",
      "|   40|  Deathmatch Classic|  2001-06-01|      1|           Valve|    Valve|windows;mac;linux|           0|Multi-player;Onli...|             Action|Action;FPS;Multip...|           0|            1273|             267|             258|            184| 5000000-10000000| 3.99|\n",
      "|   50|Half-Life: Opposi...|  1999-11-01|      1|Gearbox Software|    Valve|windows;mac;linux|           0|Single-player;Mul...|             Action|   FPS;Action;Sci-fi|           0|            5250|             288|             624|            415| 5000000-10000000| 3.99|\n",
      "|   60|            Ricochet|  2000-11-01|      1|           Valve|    Valve|windows;mac;linux|           0|Multi-player;Onli...|             Action|Action;FPS;Multip...|           0|            2758|             684|             175|             10| 5000000-10000000| 3.99|\n",
      "|   70|           Half-Life|  1998-11-08|      1|           Valve|    Valve|windows;mac;linux|           0|Single-player;Mul...|             Action|  FPS;Classic;Action|           0|           27755|            1100|            1300|             83| 5000000-10000000| 7.19|\n",
      "|   80|Counter-Strike: C...|  2004-03-01|      1|           Valve|    Valve|windows;mac;linux|           0|Single-player;Mul...|             Action|Action;FPS;Multip...|           0|           12120|            1439|             427|             43|10000000-20000000| 7.19|\n",
      "|  130|Half-Life: Blue S...|  2001-06-01|      1|Gearbox Software|    Valve|windows;mac;linux|           0|       Single-player|             Action|   FPS;Action;Sci-fi|           0|            3822|             420|             361|            205| 5000000-10000000| 3.99|\n",
      "|  220|         Half-Life 2|  2004-11-16|      1|           Valve|    Valve|windows;mac;linux|           0|Single-player;Ste...|             Action|   FPS;Action;Sci-fi|          33|           67902|            2419|             691|            402|10000000-20000000| 7.19|\n",
      "|  240|Counter-Strike: S...|  2004-11-01|      1|           Valve|    Valve|windows;mac;linux|           0|Multi-player;Cros...|             Action|Action;FPS;Multip...|         147|           76640|            3497|            6842|            400|10000000-20000000| 7.19|\n",
      "|  280|   Half-Life: Source|  2004-06-01|      1|           Valve|    Valve|windows;mac;linux|           0|       Single-player|             Action|   FPS;Action;Sci-fi|           0|            3767|            1053|             190|            214|  2000000-5000000|  0.0|\n",
      "|  300|Day of Defeat: So...|  2010-07-12|      1|           Valve|    Valve|windows;mac;linux|           0|Multi-player;Cros...|             Action|FPS;World War II;...|          54|           10489|            1210|            1356|            134| 5000000-10000000| 7.19|\n",
      "|  320|Half-Life 2: Deat...|  2004-11-01|      1|           Valve|    Valve|windows;mac;linux|           0|Multi-player;Valv...|             Action|Action;FPS;Multip...|           0|            6020|             787|             311|             32|10000000-20000000| 3.99|\n",
      "|  340|Half-Life 2: Lost...|  2005-10-27|      1|           Valve|    Valve|windows;mac;linux|           0|Single-player;Com...|             Action|FPS;Action;Single...|           0|            5783|            1020|              46|             29|10000000-20000000|  0.0|\n",
      "|  360|Half-Life Deathma...|  2006-05-01|      1|           Valve|    Valve|windows;mac;linux|           0|Multi-player;Valv...|             Action|Action;FPS;Multip...|           0|            1362|             473|             102|             81| 5000000-10000000|  0.0|\n",
      "|  380|Half-Life 2: Epis...|  2006-06-01|      1|           Valve|    Valve|windows;mac;linux|           0|Single-player;Ste...|             Action|   FPS;Action;Sci-fi|          13|            7908|             517|             281|            184| 5000000-10000000| 5.79|\n",
      "|  400|              Portal|  2007-10-10|      1|           Valve|    Valve|windows;mac;linux|           0|Single-player;Ste...|             Action|Puzzle;First-Pers...|          15|           51801|            1080|             288|            137|10000000-20000000| 7.19|\n",
      "|  420|Half-Life 2: Epis...|  2007-10-10|      1|           Valve|    Valve|windows;mac;linux|           0|Single-player;Ste...|             Action|   FPS;Action;Sci-fi|          22|           13902|             696|             354|            301| 5000000-10000000| 5.79|\n",
      "|  440|     Team Fortress 2|  2007-10-10|      1|           Valve|    Valve|windows;mac;linux|           0|Multi-player;Cros...|Action;Free to Play|Free to Play;Mult...|         520|          515879|           34036|            8495|            623|20000000-50000000|  0.0|\n",
      "+-----+--------------------+------------+-------+----------------+---------+-----------------+------------+--------------------+-------------------+--------------------+------------+----------------+----------------+----------------+---------------+-----------------+-----+\n",
      "only showing top 20 rows\n",
      "\n"
     ]
    }
   ],
   "source": [
    "games_df.show()"
   ]
  },
  {
   "cell_type": "markdown",
   "metadata": {},
   "source": [
    "#### Get single game row by name"
   ]
  },
  {
   "cell_type": "code",
   "execution_count": 7,
   "metadata": {},
   "outputs": [
    {
     "name": "stdout",
     "output_type": "stream",
     "text": [
      "+------+------------+------------+-------+---------+---------+---------+------------+--------------------+--------------------+--------------------+------------+----------------+----------------+----------------+---------------+--------------+-----+\n",
      "| appid|        name|release_date|english|developer|publisher|platforms|required_age|          categories|              genres|       steamspy_tags|achievements|positive_ratings|negative_ratings|average_playtime|median_playtime|        owners|price|\n",
      "+------+------------+------------+-------+---------+---------+---------+------------+--------------------+--------------------+--------------------+------------+----------------+----------------+----------------+---------------+--------------+-----+\n",
      "|440900|Conan Exiles|  2018-05-08|      1|   Funcom|   Funcom|  windows|          18|Single-player;Mul...|Action;Adventure;...|Survival;Open Wor...|          25|           22001|            9594|            4431|           5167|500000-1000000|33.99|\n",
      "+------+------------+------------+-------+---------+---------+---------+------------+--------------------+--------------------+--------------------+------------+----------------+----------------+----------------+---------------+--------------+-----+\n",
      "\n"
     ]
    }
   ],
   "source": [
    "games_df.filter(games_df.name == \"Conan Exiles\").show()"
   ]
  },
  {
   "cell_type": "markdown",
   "metadata": {},
   "source": [
    "#### Get last recorded game in dataset"
   ]
  },
  {
   "cell_type": "code",
   "execution_count": 8,
   "metadata": {},
   "outputs": [
    {
     "name": "stdout",
     "output_type": "stream",
     "text": [
      "+------+-----------------+------------+-------+-------------+---------+---------+------------+--------------------+--------------------+-------------------+------------+----------------+----------------+----------------+---------------+-------+-----+\n",
      "| appid|             name|release_date|english|    developer|publisher|platforms|required_age|          categories|              genres|      steamspy_tags|achievements|positive_ratings|negative_ratings|average_playtime|median_playtime| owners|price|\n",
      "+------+-----------------+------------+-------+-------------+---------+---------+------------+--------------------+--------------------+-------------------+------------+----------------+----------------+----------------+---------------+-------+-----+\n",
      "|905370|Conqueror's Blade|  2019-05-01|      1|Booming Games|   My.com|  windows|           0|Online Multi-Play...|Action;Free to Pl...|Action;Strategy;RPG|           0|             259|             235|               0|              0|0-20000|11.39|\n",
      "+------+-----------------+------------+-------+-------------+---------+---------+------------+--------------------+--------------------+-------------------+------------+----------------+----------------+----------------+---------------+-------+-----+\n",
      "\n"
     ]
    }
   ],
   "source": [
    "last_release_date = games_df.select(\"release_date\").agg({\"release_date\" : \"max\"}).collect()[0]['max(release_date)']\n",
    "games_df.filter(games_df.release_date == last_release_date).show()"
   ]
  },
  {
   "cell_type": "markdown",
   "metadata": {},
   "source": [
    "#### Filter non-int values on positive_ratings and get max"
   ]
  },
  {
   "cell_type": "code",
   "execution_count": 9,
   "metadata": {},
   "outputs": [
    {
     "name": "stdout",
     "output_type": "stream",
     "text": [
      "Max positive ratings : 2644404\n"
     ]
    }
   ],
   "source": [
    "max_positive_ratings = games_df \\\n",
    "    .select(F.regexp_extract(\"positive_ratings\",'\\d+', 0).alias('positive_ratings').cast(IntegerType())) \\\n",
    "    .agg({'positive_ratings' : 'max'}).first()['max(positive_ratings)']\n",
    "\n",
    "print('Max positive ratings :', max_positive_ratings)"
   ]
  },
  {
   "cell_type": "markdown",
   "metadata": {},
   "source": [
    "#### Get game name with max positive ratings"
   ]
  },
  {
   "cell_type": "code",
   "execution_count": 10,
   "metadata": {},
   "outputs": [
    {
     "name": "stdout",
     "output_type": "stream",
     "text": [
      "+--------------------------------+\n",
      "|name                            |\n",
      "+--------------------------------+\n",
      "|Counter-Strike: Global Offensive|\n",
      "+--------------------------------+\n",
      "\n"
     ]
    }
   ],
   "source": [
    "games_df \\\n",
    "    .filter(games_df.positive_ratings == max_positive_ratings) \\\n",
    "    .select('name') \\\n",
    "    .show(truncate=False)"
   ]
  },
  {
   "cell_type": "markdown",
   "metadata": {},
   "source": [
    "#### Get 50 most used tags in dataset"
   ]
  },
  {
   "cell_type": "code",
   "execution_count": 11,
   "metadata": {},
   "outputs": [
    {
     "name": "stdout",
     "output_type": "stream",
     "text": [
      "+---------------------+-----+\n",
      "|tags                 |count|\n",
      "+---------------------+-----+\n",
      "|Indie                |16231|\n",
      "|Action               |10322|\n",
      "|Casual               |8205 |\n",
      "|Adventure            |7770 |\n",
      "|Strategy             |4172 |\n",
      "|Simulation           |3284 |\n",
      "|Early Access         |2967 |\n",
      "|RPG                  |2784 |\n",
      "|Free to Play         |1662 |\n",
      "|Puzzle               |1116 |\n",
      "|VR                   |961  |\n",
      "|Sports               |781  |\n",
      "|Racing               |765  |\n",
      "|Platformer           |648  |\n",
      "|Nudity               |570  |\n",
      "|Sexual Content       |557  |\n",
      "|Visual Novel         |546  |\n",
      "|Violent              |545  |\n",
      "|Anime                |538  |\n",
      "|Horror               |493  |\n",
      "|Point & Click        |492  |\n",
      "|Gore                 |476  |\n",
      "|Hidden Object        |460  |\n",
      "|FPS                  |405  |\n",
      "|Multiplayer          |405  |\n",
      "|Massively Multiplayer|377  |\n",
      "|Pixel Graphics       |249  |\n",
      "|Shoot 'Em Up         |245  |\n",
      "|Open World           |243  |\n",
      "|Survival             |235  |\n",
      "|Space                |225  |\n",
      "|Arcade               |203  |\n",
      "|Female Protagonist   |199  |\n",
      "|RPGMaker             |192  |\n",
      "|RTS                  |174  |\n",
      "|Turn-Based           |171  |\n",
      "|Classic              |170  |\n",
      "|Tower Defense        |168  |\n",
      "|Card Game            |164  |\n",
      "|2D                   |163  |\n",
      "|Singleplayer         |161  |\n",
      "|Story Rich           |159  |\n",
      "|Zombies              |158  |\n",
      "|Sci-fi               |157  |\n",
      "|Utilities            |138  |\n",
      "|World War II         |130  |\n",
      "|Great Soundtrack     |125  |\n",
      "|Co-op                |120  |\n",
      "|Match 3              |119  |\n",
      "|Fighting             |117  |\n",
      "+---------------------+-----+\n",
      "only showing top 50 rows\n",
      "\n"
     ]
    }
   ],
   "source": [
    "games_df \\\n",
    "    .withColumn('steamspy_tags', F.split(\"steamspy_tags\", \";\")) \\\n",
    "    .select(F.explode('steamspy_tags').alias('tags')) \\\n",
    "    .groupBy('tags') \\\n",
    "    .count() \\\n",
    "    .sort(F.col('count').desc()) \\\n",
    "    .show(50, truncate = False)"
   ]
  },
  {
   "cell_type": "markdown",
   "metadata": {},
   "source": [
    "#### Really retrieve values on driver filesystem"
   ]
  },
  {
   "cell_type": "code",
   "execution_count": 12,
   "metadata": {},
   "outputs": [],
   "source": [
    "\n",
    "tags_counts = games_df \\\n",
    "    .withColumn('steamspy_tags', F.split(\"steamspy_tags\", \";\")) \\\n",
    "    .select(F.explode('steamspy_tags').alias('tags')) \\\n",
    "    .groupBy('tags') \\\n",
    "    .count() \\\n",
    "    .sort(F.col('count').desc()) \\\n",
    "    .rdd.map(tuple) \\\n",
    "    .take(50)"
   ]
  },
  {
   "cell_type": "markdown",
   "metadata": {},
   "source": [
    "#### Visualize as a bar chart"
   ]
  },
  {
   "cell_type": "code",
   "execution_count": 14,
   "metadata": {},
   "outputs": [
    {
     "data": {
      "image/png": "[encoded data removed]"
     },
     "metadata": {},
     "output_type": "display_data"
    }
   ],
   "source": [
    "import plotly.graph_objects as go\n",
    "\n",
    "x, y = zip(*tags_counts)\n",
    "\n",
    "fig = go.Figure()\n",
    "fig.add_trace(go.Bar(x=x, y=y))\n",
    "fig.update_layout(title = '50 most used tags on Steam Store')\n",
    "\n",
    "# Use \"png\" arg to correctly display on github\n",
    "# Plotly need psutil python package and plotly-orca to render static images\n",
    "fig.show(\"png\")"
   ]
  },
  {
   "cell_type": "code",
   "execution_count": 23,
   "metadata": {},
   "outputs": [
    {
     "name": "stdout",
     "output_type": "stream",
     "text": [
      "+--------------------+--------------------+-----+\n",
      "|           developer|               games|count|\n",
      "+--------------------+--------------------+-----+\n",
      "|     Choice of Games|[Heroes Rise: The...|   94|\n",
      "|KOEI TECMO GAMES ...|[DYNASTY WARRIORS...|   72|\n",
      "|     Ripknot Systems|[Club Naughty, Gr...|   62|\n",
      "|Laush Dmitriy Ser...|[Defence to death...|   51|\n",
      "|\"Nikita \"\"Ghost_R...|[German Fortress ...|   50|\n",
      "|        Dexion Games|[Robo-orders, Sur...|   45|\n",
      "|           RewindApp|[Brick Breaker Ul...|   43|\n",
      "|        Hosted Games|[Tin Star, Zombie...|   42|\n",
      "|       Blender Games|[aMAZE, aMAZE 2, ...|   40|\n",
      "|Humongous Enterta...|[MoonBase Command...|   36|\n",
      "|            For Kids|[Pixel Traffic: C...|   36|\n",
      "|          EnsenaSoft|[Mahjong Deluxe 3...|   35|\n",
      "|        Nekyau Games|[Space Googy, Sky...|   32|\n",
      "| Eipix Entertainment|[Hidden Expeditio...|   32|\n",
      "|     Warfare Studios|[Vagrant Hearts, ...|   31|\n",
      "|     HeR Interactive|[Nancy Drew®: Dan...|   30|\n",
      "|          MumboJumbo|[7 Wonders II, Lu...|   29|\n",
      "|       ERS G Studios|[Dark Tales: Edga...|   28|\n",
      "|             Creobit|[Fort Defense, Gn...|   28|\n",
      "|        HexWar Games|[Tank Battle: Nor...|   27|\n",
      "+--------------------+--------------------+-----+\n",
      "only showing top 20 rows\n",
      "\n"
     ]
    }
   ],
   "source": [
    "games_df \\\n",
    "    .groupBy('developer') \\\n",
    "    .agg(F.collect_list('name').alias('games')) \\\n",
    "    .withColumn('count', F.size('games')) \\\n",
    "    .sort(F.col('count').desc()) \\\n",
    "    .show()"
   ]
  },
  {
   "cell_type": "code",
   "execution_count": 28,
   "metadata": {},
   "outputs": [
    {
     "ename": "AttributeError",
     "evalue": "'GroupedData' object has no attribute 'withColumn'",
     "output_type": "error",
     "traceback": [
      "\u001b[0;31m---------------------------------------------------------------------------\u001b[0m",
      "\u001b[0;31mAttributeError\u001b[0m                            Traceback (most recent call last)",
      "\u001b[0;32m<ipython-input-28-8a83ea8e5b5c>\u001b[0m in \u001b[0;36m<module>\u001b[0;34m\u001b[0m\n\u001b[1;32m      1\u001b[0m \u001b[0mgames_df\u001b[0m\u001b[0;31m \u001b[0m\u001b[0;31m\\\u001b[0m\u001b[0;34m\u001b[0m\u001b[0;34m\u001b[0m\u001b[0m\n\u001b[0;32m----> 2\u001b[0;31m     \u001b[0;34m.\u001b[0m\u001b[0mgroupBy\u001b[0m\u001b[0;34m(\u001b[0m\u001b[0;34m'developer'\u001b[0m\u001b[0;34m)\u001b[0m\u001b[0;31m \u001b[0m\u001b[0;31m\\\u001b[0m\u001b[0;34m\u001b[0m\u001b[0;34m\u001b[0m\u001b[0m\n\u001b[0m\u001b[1;32m      3\u001b[0m     \u001b[0;34m.\u001b[0m\u001b[0mwithColumn\u001b[0m\u001b[0;34m(\u001b[0m\u001b[0;34m'genres'\u001b[0m\u001b[0;34m,\u001b[0m \u001b[0mF\u001b[0m\u001b[0;34m.\u001b[0m\u001b[0msplit\u001b[0m\u001b[0;34m(\u001b[0m\u001b[0;34m\"genres\"\u001b[0m\u001b[0;34m,\u001b[0m \u001b[0;34m\";\"\u001b[0m\u001b[0;34m)\u001b[0m\u001b[0;34m)\u001b[0m\u001b[0;31m \u001b[0m\u001b[0;31m\\\u001b[0m\u001b[0;34m\u001b[0m\u001b[0;34m\u001b[0m\u001b[0m\n\u001b[1;32m      4\u001b[0m     \u001b[0;34m.\u001b[0m\u001b[0magg\u001b[0m\u001b[0;34m(\u001b[0m\u001b[0mF\u001b[0m\u001b[0;34m.\u001b[0m\u001b[0mcollect_list\u001b[0m\u001b[0;34m(\u001b[0m\u001b[0;34m'genres'\u001b[0m\u001b[0;34m)\u001b[0m\u001b[0;34m.\u001b[0m\u001b[0malias\u001b[0m\u001b[0;34m(\u001b[0m\u001b[0;34m'developer_genres'\u001b[0m\u001b[0;34m)\u001b[0m\u001b[0;34m)\u001b[0m\u001b[0;31m \u001b[0m\u001b[0;31m\\\u001b[0m\u001b[0;34m\u001b[0m\u001b[0;34m\u001b[0m\u001b[0m\n\u001b[1;32m      5\u001b[0m     \u001b[0;34m.\u001b[0m\u001b[0mshow\u001b[0m\u001b[0;34m(\u001b[0m\u001b[0mtruncate\u001b[0m\u001b[0;34m=\u001b[0m\u001b[0;32mFalse\u001b[0m\u001b[0;34m)\u001b[0m\u001b[0;34m\u001b[0m\u001b[0;34m\u001b[0m\u001b[0m\n",
      "\u001b[0;31mAttributeError\u001b[0m: 'GroupedData' object has no attribute 'withColumn'"
     ]
    }
   ],
   "source": [
    "games_df \\\n",
    "\n",
    "    .groupBy('developer') \\\n",
    "    .agg(F.collect_list('genres').alias('developer_genres')) \\\n",
    "    .show(truncate=False)"
   ]
  }
 ],
 "metadata": {
  "kernelspec": {
   "display_name": "steam-analysis",
   "language": "python",
   "name": "steam-analysis"
  },
  "language_info": {
   "codemirror_mode": {
    "name": "ipython",
    "version": 3
   },
   "file_extension": ".py",
   "mimetype": "text/x-python",
   "name": "python",
   "nbconvert_exporter": "python",
   "pygments_lexer": "ipython3",
   "version": "3.7.5"
  }
 },
 "nbformat": 4,
 "nbformat_minor": 4
}
