{
 "cells": [
  {
   "cell_type": "code",
   "execution_count": 1,
   "metadata": {},
   "outputs": [],
   "source": [
    "%%init_spark\n",
    "launcher.num_executors = 4\n",
    "launcher.executor_cores = 2\n",
    "launcher.driver_memory = '4g'\n",
    "launcher.conf.set(\"spark.sql.catalogImplementation\", \"hive\")"
   ]
  },
  {
   "cell_type": "code",
   "execution_count": 2,
   "metadata": {},
   "outputs": [
    {
     "data": {
      "text/plain": [
       "Intitializing Scala interpreter ..."
      ]
     },
     "metadata": {},
     "output_type": "display_data"
    },
    {
     "data": {
      "text/plain": [
       "Spark Web UI available at http://neadex-xps-13-9380.home:4040\n",
       "SparkContext available as 'sc' (version = 3.0.0-preview2, master = local[*], app id = local-1614275243418)\n",
       "SparkSession available as 'spark'\n"
      ]
     },
     "metadata": {},
     "output_type": "display_data"
    },
    {
     "data": {
      "text/plain": [
       "res0: org.apache.spark.sql.SparkSession = org.apache.spark.sql.SparkSession@7ae5ad42\n"
      ]
     },
     "execution_count": 2,
     "metadata": {},
     "output_type": "execute_result"
    }
   ],
   "source": [
    "spark"
   ]
  },
  {
   "cell_type": "code",
   "execution_count": 3,
   "metadata": {},
   "outputs": [
    {
     "data": {
      "text/plain": [
       "data: Seq[(String, Int)] = List((a,0), (b,1), (c,2), (d,3))\n"
      ]
     },
     "execution_count": 3,
     "metadata": {},
     "output_type": "execute_result"
    }
   ],
   "source": [
    "val data = Seq(\"a\", \"b\", \"c\", \"d\") zip (0 to 4)"
   ]
  },
  {
   "cell_type": "code",
   "execution_count": 12,
   "metadata": {},
   "outputs": [
    {
     "name": "stdout",
     "output_type": "stream",
     "text": [
      "+---+------+--------------------+----------+-------+--------+-----------+--------------------+--------------------+\n",
      "|_c0|   _c1|                 _c2|       _c3|    _c4|     _c5|        _c6|                 _c7|                 _c8|\n",
      "+---+------+--------------------+----------+-------+--------+-----------+--------------------+--------------------+\n",
      "|  #| APPID|               TITLE|   RELEASE|PLAYERS|  OWNERS|TOTAL HOURS|           DEVELOPER|           PUBLISHER|\n",
      "|  1|304930|            Unturned|  7/7/2014|9099669|12226095|  100073000|       Nelson Sexton|Smartly Dressed G...|\n",
      "|  2|301520|           Robocraft|  7/8/2014|3549730| 5344712|   56569900|             Freejam|             Freejam|\n",
      "|  3|227940|   Heroes & Generals| 7/11/2014|2779196| 4442318|   22875900|           Reto-Moto|           Reto-Moto|\n",
      "|  4|208090|             Loadout| 1/31/2014|1993110| 3312720|   17126300|     Edge of Reality|     Edge of Reality|\n",
      "|  5|222900|Dead Island: Epid...|11/20/2014|1713161| 3900679|    7806700|    Stunlock Studios|         Deep Silver|\n",
      "|  6|314060|Counter-Strike Ne...| 10/7/2014|1439637| 2674384|   12633200|               Nexon|Nexon Europe S.a.r.l|\n",
      "|  7|265930|      Goat Simulator|  4/1/2014|1383174| 1478519|    8526140|Coffee Stain Studios|Coffee Stain Studios|\n",
      "|  8|291480|             Warface|  7/1/2014|1365931| 2377193|   11710200|              Crytek|              Crytek|\n",
      "|  9|222880|          Insurgency| 1/22/2014|1191808| 1608012|   14349900|New World Interac...|New World Interac...|\n",
      "| 10|200110|             Nosgoth| 3/26/2014|1183018| 2121250|    6551330|             Psyonix|         Square Enix|\n",
      "| 11|242760|          The Forest| 5/30/2014|1126893| 1170846|    9611450|  Endnight Games Ltd|  Endnight Games Ltd|\n",
      "| 12|322330|Don't Starve Toge...|12/15/2014|1044058| 1190118|   11593600|  Klei Entertainment|  Klei Entertainment|\n",
      "| 13|227700|            Firefall| 7/29/2014| 958856| 1964033|   12948500|       Red 5 Studios|       Red 5 Studios|\n",
      "| 14|241930|Middle-earth™: Sh...| 9/30/2014| 916256|  977790|   20158100|Monolith Producti...|            WB Games|\n",
      "| 15|242920|            Banished| 2/18/2014| 891236|  958518|   20322200|Shining Rock Soft...|Shining Rock Soft...|\n",
      "| 16|282440|         Quake Live™| 9/17/2014| 891236| 1749338|    3631170|         id Software|  Bethesda Softworks|\n",
      "| 17|374320|      DARK SOULS™ II| 4/24/2014| 887517|  964266|   70448700|   FromSoftware, Inc|BANDAI NAMCO Game...|\n",
      "| 18|224600|            Defiance|  6/4/2014| 886165| 1844345|   20619000|  Trion Worlds, Inc.|  Trion Worlds, Inc.|\n",
      "| 19|302830|         BLOCKADE 3D|12/19/2014| 858440| 1207699|    4084370|     Shumkov Dmitriy|     Shumkov Dmitriy|\n",
      "+---+------+--------------------+----------+-------+--------+-----------+--------------------+--------------------+\n",
      "only showing top 20 rows\n",
      "\n"
     ]
    },
    {
     "data": {
      "text/plain": [
       "df: org.apache.spark.sql.DataFrame = [_c0: string, _c1: string ... 7 more fields]\n"
      ]
     },
     "execution_count": 12,
     "metadata": {},
     "output_type": "execute_result"
    }
   ],
   "source": [
    "val df = spark.read.csv(\"file:///home/neadex/steam-analysis/data/arstechnica/arstechnica_games_sales_1.csv\")\n",
    "df.show()"
   ]
  },
  {
   "cell_type": "code",
   "execution_count": 14,
   "metadata": {},
   "outputs": [
    {
     "name": "stdout",
     "output_type": "stream",
     "text": [
      "+-------+------------------+------------------+-----------------+---------+-----------------+-----------------+--------------------+--------------------+--------------+\n",
      "|summary|               _c0|               _c1|              _c2|      _c3|              _c4|              _c5|                 _c6|                 _c7|           _c8|\n",
      "+-------+------------------+------------------+-----------------+---------+-----------------+-----------------+--------------------+--------------------+--------------+\n",
      "|  count|               401|               399|              401|      401|              401|              401|                 401|                 397|           400|\n",
      "|   mean|             200.5|268040.82914572867|             null|     null|      218986.7575|        340564.79|   3046636.384999999|                null|          null|\n",
      "| stddev|115.61430130683084| 41828.02013698839|             null|     null|558920.8801458767|806677.0424598497|1.0297256049870118E7|                null|          null|\n",
      "|    min|                 #|             10270|100% Orange Juice|1/13/2014|           101092|           100416|           100073000|10th Art Studio, ...|11 bit studios|\n",
      "|    max|                99|             APPID|theHunter: Primal|  RELEASE|          PLAYERS|           OWNERS|         TOTAL HOURS|weltenbauer. Soft...|     tinyBuild|\n",
      "+-------+------------------+------------------+-----------------+---------+-----------------+-----------------+--------------------+--------------------+--------------+\n",
      "\n"
     ]
    }
   ],
   "source": [
    "df.describe().show()"
   ]
  },
  {
   "cell_type": "code",
   "execution_count": 22,
   "metadata": {},
   "outputs": [
    {
     "name": "stdout",
     "output_type": "stream",
     "text": [
      "Range 0 to 5\n"
     ]
    }
   ],
   "source": [
    "Seq(0 to 5).foreach(println(_))"
   ]
  }
 ],
 "metadata": {
  "kernelspec": {
   "display_name": "spylon-kernel",
   "language": "scala",
   "name": "spylon-kernel"
  },
  "language_info": {
   "codemirror_mode": "text/x-scala",
   "file_extension": ".scala",
   "help_links": [
    {
     "text": "MetaKernel Magics",
     "url": "https://metakernel.readthedocs.io/en/latest/source/README.html"
    }
   ],
   "mimetype": "text/x-scala",
   "name": "scala",
   "pygments_lexer": "scala",
   "version": "0.4.1"
  }
 },
 "nbformat": 4,
 "nbformat_minor": 4
}
