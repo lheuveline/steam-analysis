{
 "cells": [
  {
   "cell_type": "markdown",
   "metadata": {},
   "source": [
    "## Review scraping"
   ]
  },
  {
   "cell_type": "code",
   "execution_count": 1,
   "metadata": {},
   "outputs": [
    {
     "data": {
      "text/html": [
       "<style>.container { width:100% !important; }</style>"
      ],
      "text/plain": [
       "<IPython.core.display.HTML object>"
      ]
     },
     "metadata": {},
     "output_type": "display_data"
    }
   ],
   "source": [
    "# Just take all width for viz\n",
    "from IPython.core.display import display, HTML\n",
    "display(HTML(\"<style>.container { width:100% !important; }</style>\"))\n",
    "\n",
    "import findspark\n",
    "findspark.init()\n",
    "\n",
    "from pyspark.sql import SparkSession\n",
    "import pyspark.sql.functions as F\n",
    "from pyspark.sql.types import *\n",
    "from pyspark.sql.window import Window\n",
    "\n",
    "import plotly.graph_objects as go\n",
    "\n",
    "import os"
   ]
  },
  {
   "cell_type": "code",
   "execution_count": null,
   "metadata": {},
   "outputs": [],
   "source": [
    "spark = SparkSession \\\n",
    "    .builder \\\n",
    "    .master('local[*]') \\\n",
    "    .config(\"spark.driver.memory\", \"10g\") \\\n",
    "    .appName(\"steam-analysis-eda\") \\\n",
    "    .getOrCreate()"
   ]
  },
  {
   "cell_type": "code",
   "execution_count": null,
   "metadata": {},
   "outputs": [],
   "source": [
    "dataset_path = os.path.join(os.path.dirname(os.path.realpath(\"\")), \"data/\")\n",
    "\n",
    "base_df = spark.read.parquet(\"file://\" + dataset_path + \"extracts/steam-dataset_games_28-12_5\")\n",
    "\n",
    "base_df.printSchema()\n",
    "base_df.show()\n",
    "print('N rows =', base_df.count())"
   ]
  },
  {
   "cell_type": "code",
   "execution_count": null,
   "metadata": {},
   "outputs": [],
   "source": [
    "# Fetching reviews using API, not using pagination\n",
    "\n",
    "import json\n",
    "import requests\n",
    "from tqdm import tqdm_notebook\n",
    "\n",
    "def get_reviews(appid):\n",
    "    url = 'http://store.steampowered.com/appreviews/{appid}?json=1'\n",
    "    r = requests.get(url.format(appid = appid, ))\n",
    "    if r.status_code == 200:\n",
    "        return r.json()\n",
    "    else:\n",
    "        return {\"status\" : \"error\", \"msg\" : \"error while fetching API\"}\n",
    "\n",
    "distinct_appid = base_df \\\n",
    "    .select('appid') \\\n",
    "    .rdd.map(lambda x: x.appid).collect()\n",
    "\n",
    "res = []\n",
    "for appid in tqdm_notebook(distinct_appid):\n",
    "    data = get_reviews(appid)\n",
    "    data['appid'] = appid # attach appid for join\n",
    "    res.append(data)\n",
    "    \n",
    "with open(dataset_path + \"extracts/reviews.json\", 'w') as f:\n",
    "    json.dump(res, f, indent = 4)"
   ]
  },
  {
   "cell_type": "code",
   "execution_count": null,
   "metadata": {},
   "outputs": [],
   "source": [
    "# To delete after verification\n",
    "\n",
    "dataset_path = os.path.join(os.path.dirname(os.path.realpath(\"\")), \"data/\")\n",
    "\n",
    "rev_df = spark.read.json(\"file://\" + dataset_path + \"extracts/reviews.json\", multiLine=True)\n",
    "\n",
    "# Use window function to rank each row for each group (windowed on 'appid' values)\n",
    "window = Window.partitionBy(rev_df['appid']).orderBy(rev_df['query_summary.total_reviews'].desc())\n",
    "\n",
    "# Keep only queries with maximum reviews\n",
    "rev_df = rev_df \\\n",
    "    .select('*', F.rank().over(window).alias('rank')) \\\n",
    "    .filter(F.col('rank') == 1) \\\n",
    "    .dropDuplicates()\n",
    "\n",
    "# Drop duplicates based on total_reviews\n",
    "rev_df = rev_df \\\n",
    "    .select('*', 'query_summary.*') \\\n",
    "    .dropDuplicates(['total_reviews']) \\\n",
    "    .drop('query_summary') \\\n",
    "    .drop('rank')\n",
    "\n",
    "# Write cleaned reviews as parquet file\n",
    "rev_df \\\n",
    "    .write \\\n",
    "    .mode('overwrite') \\\n",
    "    .parquet(\"file://\" + dataset_path + \"extracts/steam-reviews.parquet\")\n",
    "\n",
    "print('DataFrame correctly saved to disk !')"
   ]
  },
  {
   "cell_type": "code",
   "execution_count": null,
   "metadata": {},
   "outputs": [],
   "source": [
    "# Example querying directly from json file\n",
    "\n",
    "spark \\\n",
    "    .sql('SELECT * FROM parquet.`{}` LIMIT 1' \\\n",
    "    .format(\"file://\" + dataset_path + \"extracts/steam-reviews.parquet\")) \\\n",
    "    .printSchema()\n",
    "\n",
    "revsum_df = spark \\\n",
    "    .sql(\n",
    "        \"\"\"SELECT\n",
    "        appid,\n",
    "        total_reviews\n",
    "        FROM parquet.`{}`\"\"\" \\\n",
    "    .format(\"file://\" + dataset_path + \"extracts/steam-reviews.parquet\"))\n",
    "\n",
    "revsum_df \\\n",
    "    .sort(F.col('total_reviews').desc()) \\\n",
    "    .show()"
   ]
  }
 ],
 "metadata": {
  "kernelspec": {
   "display_name": "steam-analysis",
   "language": "python",
   "name": "steam-analysis"
  },
  "language_info": {
   "codemirror_mode": {
    "name": "ipython",
    "version": 3
   },
   "file_extension": ".py",
   "mimetype": "text/x-python",
   "name": "python",
   "nbconvert_exporter": "python",
   "pygments_lexer": "ipython3",
   "version": "3.7.5"
  }
 },
 "nbformat": 4,
 "nbformat_minor": 4
}
