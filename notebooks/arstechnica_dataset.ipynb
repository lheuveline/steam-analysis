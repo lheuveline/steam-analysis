{
 "cells": [
  {
   "cell_type": "code",
   "execution_count": 2,
   "metadata": {},
   "outputs": [
    {
     "data": {
      "text/html": [
       "<style>.container { width:100% !important; }</style>"
      ],
      "text/plain": [
       "<IPython.core.display.HTML object>"
      ]
     },
     "metadata": {},
     "output_type": "display_data"
    }
   ],
   "source": [
    "# Just take all width for viz if you have a wide screen like me.\n",
    "from IPython.core.display import display, HTML\n",
    "display(HTML(\"<style>.container { width:100% !important; }</style>\"))\n",
    "\n",
    "# Use findspark to set Pyspark in sys.path\n",
    "import findspark\n",
    "findspark.init()\n",
    "\n",
    "# import pyspark dependencies\n",
    "from pyspark.sql import SparkSession\n",
    "import pyspark.sql.functions as F\n",
    "from pyspark.sql.types import *\n",
    "\n",
    "import os"
   ]
  },
  {
   "cell_type": "code",
   "execution_count": 3,
   "metadata": {},
   "outputs": [],
   "source": [
    "spark = SparkSession \\\n",
    "    .builder \\\n",
    "    .master('local[*]') \\\n",
    "    .config(\"spark.driver.memory\", \"10g\") \\\n",
    "    .appName(\"steam-analysis-eda\") \\\n",
    "    .getOrCreate()"
   ]
  },
  {
   "cell_type": "code",
   "execution_count": 9,
   "metadata": {},
   "outputs": [
    {
     "name": "stdout",
     "output_type": "stream",
     "text": [
      "+---+--------------------------------+----------+-------+--------+-----------+--------------------------+------------------------------+\n",
      "|#  |TITLE                           |RELEASE   |PLAYERS|OWNERS  |TOTAL HOURS|DEVELOPER                 |PUBLISHER                     |\n",
      "+---+--------------------------------+----------+-------+--------+-----------+--------------------------+------------------------------+\n",
      "|1  |Unturned                        |7/7/2014  |9099669|12226095|100073000  |Nelson Sexton             |Smartly Dressed Games         |\n",
      "|2  |Robocraft                       |7/8/2014  |3549730|5344712 |56569900   |Freejam                   |Freejam                       |\n",
      "|3  |Heroes & Generals               |7/11/2014 |2779196|4442318 |22875900   |Reto-Moto                 |Reto-Moto                     |\n",
      "|4  |Loadout                         |1/31/2014 |1993110|3312720 |17126300   |Edge of Reality           |Edge of Reality               |\n",
      "|5  |Dead Island: Epidemic           |11/20/2014|1713161|3900679 |7806700    |Stunlock Studios          |Deep Silver                   |\n",
      "|6  |Counter-Strike Nexon: Zombies   |10/7/2014 |1439637|2674384 |12633200   |Nexon                     |Nexon Europe S.a.r.l          |\n",
      "|7  |Goat Simulator                  |4/1/2014  |1383174|1478519 |8526140    |Coffee Stain Studios      |Coffee Stain Studios          |\n",
      "|8  |Warface                         |7/1/2014  |1365931|2377193 |11710200   |Crytek                    |Crytek                        |\n",
      "|9  |Insurgency                      |1/22/2014 |1191808|1608012 |14349900   |New World Interactive     |New World Interactive         |\n",
      "|10 |Nosgoth                         |3/26/2014 |1183018|2121250 |6551330    |Psyonix                   |Square Enix                   |\n",
      "|11 |The Forest                      |5/30/2014 |1126893|1170846 |9611450    |Endnight Games Ltd        |Endnight Games Ltd            |\n",
      "|12 |Don't Starve Together           |12/15/2014|1044058|1190118 |11593600   |Klei Entertainment        |Klei Entertainment            |\n",
      "|13 |Firefall                        |7/29/2014 |958856 |1964033 |12948500   |Red 5 Studios             |Red 5 Studios                 |\n",
      "|14 |Middle-earth™: Shadow of Mordor™|9/30/2014 |916256 |977790  |20158100   |Monolith Productions, Inc.|WB Games                      |\n",
      "|15 |Banished                        |2/18/2014 |891236 |958518  |20322200   |Shining Rock Software LLC |Shining Rock Software LLC     |\n",
      "|16 |Quake Live™                     |9/17/2014 |891236 |1749338 |3631170    |id Software               |Bethesda Softworks            |\n",
      "|17 |DARK SOULS™ II                  |4/24/2014 |887517 |964266  |70448700   |FromSoftware, Inc         |BANDAI NAMCO Games, FromSoftwa|\n",
      "|18 |Defiance                        |6/4/2014  |886165 |1844345 |20619000   |Trion Worlds, Inc.        |Trion Worlds, Inc.            |\n",
      "|19 |BLOCKADE 3D                     |12/19/2014|858440 |1207699 |4084370    |Shumkov Dmitriy           |Shumkov Dmitriy               |\n",
      "|20 |South Park™: The Stick of Truth™|3/3/2014  |855397 |929442  |14157000   |Obsidian Entertainment    |Ubisoft                       |\n",
      "+---+--------------------------------+----------+-------+--------+-----------+--------------------------+------------------------------+\n",
      "only showing top 20 rows\n",
      "\n"
     ]
    }
   ],
   "source": [
    "dataset_path = os.path.join(os.path.dirname(os.path.realpath(\"\")), \"data/\")\n",
    "\n",
    "df = spark.read.csv(\"file://\" + dataset_path + \"arstechnica/arstechnica_games_sales.csv\", header = True)\n",
    "\n",
    "df.show(truncate = False)"
   ]
  },
  {
   "cell_type": "code",
   "execution_count": null,
   "metadata": {},
   "outputs": [],
   "source": []
  }
 ],
 "metadata": {
  "kernelspec": {
   "display_name": "steam-analysis",
   "language": "python",
   "name": "steam-analysis"
  },
  "language_info": {
   "codemirror_mode": {
    "name": "ipython",
    "version": 3
   },
   "file_extension": ".py",
   "mimetype": "text/x-python",
   "name": "python",
   "nbconvert_exporter": "python",
   "pygments_lexer": "ipython3",
   "version": "3.7.5"
  }
 },
 "nbformat": 4,
 "nbformat_minor": 4
}
