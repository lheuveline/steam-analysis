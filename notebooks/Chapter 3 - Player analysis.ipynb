{
 "cells": [
  {
   "cell_type": "code",
   "execution_count": 2,
   "metadata": {},
   "outputs": [
    {
     "data": {
      "text/html": [
       "<style>.container { width:100% !important; }</style>"
      ],
      "text/plain": [
       "<IPython.core.display.HTML object>"
      ]
     },
     "metadata": {},
     "output_type": "display_data"
    }
   ],
   "source": [
    "# Just take all width for viz\n",
    "from IPython.core.display import display, HTML\n",
    "display(HTML(\"<style>.container { width:100% !important; }</style>\"))\n",
    "\n",
    "import findspark\n",
    "findspark.init()\n",
    "\n",
    "from pyspark.sql import SparkSession\n",
    "import pyspark.sql.functions as F\n",
    "from pyspark.sql.types import *\n",
    "\n",
    "import os"
   ]
  },
  {
   "cell_type": "code",
   "execution_count": null,
   "metadata": {},
   "outputs": [],
   "source": [
    "spark = SparkSession \\\n",
    "    .builder \\\n",
    "    .master('local[*]') \\\n",
    "    .config(\"spark.driver.memory\", \"10g\") \\\n",
    "    .appName(\"steam-analysis-eda\") \\\n",
    "    .getOrCreate()"
   ]
  },
  {
   "cell_type": "markdown",
   "metadata": {},
   "source": [
    "### Part 2 : Games Daily : usage du joueur\n",
    "\n",
    "- Game playing data for a select subset of users. Each user's data in the subset was requested repeatedly, every day for five days."
   ]
  },
  {
   "cell_type": "markdown",
   "metadata": {},
   "source": [
    "#### Combien de jeux un joueur possède-t-il ?\n",
    "\n",
    "Comme nous le verrons à l'étape de visualisation, la distribution du nombre de jeux possédés est complètement asymétrique. Il faudra donc utiliser une médiane.\n",
    "\n",
    "Le jeu de donnée qui suit n'a pas été filtré par éditeur / développeur ! Les types n'ont pas non plus été filtré. Il faudra appliquer à nouveaux les filtres."
   ]
  },
  {
   "cell_type": "code",
   "execution_count": null,
   "metadata": {},
   "outputs": [],
   "source": [
    "df = spark.read.parquet(\"file://\" + dataset_path + \"steam_analysis.Games_Daily\")\n",
    "\n",
    "df.printSchema()\n",
    "\n",
    "df = df \\\n",
    "    .groupBy('steamid') \\\n",
    "    .agg(F.collect_list('appid').alias('owned_appid')) \\\n",
    "    .withColumn('n_owned', F.size(F.col('owned_appid'))) \\\n",
    "    .sort(F.col('n_owned'))\n",
    "\n",
    "df.printSchema()\n",
    "\n",
    "n_owned_median = df \\\n",
    "    .approxQuantile('n_owned', [0.5], 0.01)[0]\n",
    "\n",
    "print('Number of owned app median :', n_owned_median)"
   ]
  },
  {
   "cell_type": "code",
   "execution_count": null,
   "metadata": {},
   "outputs": [],
   "source": [
    "import plotly.graph_objects as go\n",
    "\n",
    "fig = go.Figure()\n",
    "\n",
    "fig.add_trace(\n",
    "    go.Histogram(\n",
    "        x = df.toPandas().n_owned,\n",
    "        name = \"N Owned\"\n",
    "    )\n",
    ")\n",
    "\n",
    "fig.update_layout(\n",
    "    title = 'Number of owned apps histogram',\n",
    "    template = 'plotly_dark'\n",
    ")\n",
    "\n",
    "fig.show()"
   ]
  },
  {
   "cell_type": "code",
   "execution_count": null,
   "metadata": {},
   "outputs": [],
   "source": [
    "# Filter extreme n_owned values\n",
    "max_owned = 500\n",
    "\n",
    "filtered_df = df \\\n",
    "    .filter(F.col('n_owned') < max_owned) \\\n",
    "    .sort(F.col('n_owned').desc())\n",
    "\n",
    "# Display filtered results\n",
    "fig = go.Figure()\n",
    "\n",
    "fig.add_trace(\n",
    "    go.Histogram(\n",
    "        x = filtered_df.toPandas().n_owned,\n",
    "        name = \"N Owned\"\n",
    "    )\n",
    ")\n",
    "\n",
    "fig.update_layout(\n",
    "    title = 'Number of owned apps histogram',\n",
    "    template = 'plotly_dark'\n",
    ")\n",
    "\n",
    "fig.show()"
   ]
  },
  {
   "cell_type": "markdown",
   "metadata": {},
   "source": [
    "- D'après la forme très irrégulière de l'histograme même après filtrage des valeurs extrêmes, le dataset est probablement encore très bruité.\n",
    "- Comme indiqué, il faut appliquer les filtres utilisés plus haut (Type=\"game\" et Developer != \"Valve\") pour obtenir une bonne vue générale."
   ]
  },
  {
   "cell_type": "markdown",
   "metadata": {},
   "source": [
    "#### Filtrer les appid pour ne garder que les jeux non-Valve"
   ]
  },
  {
   "cell_type": "code",
   "execution_count": null,
   "metadata": {},
   "outputs": [],
   "source": [
    "df = spark.read.parquet(\"file://\" + dataset_path + \"steam_analysis.Games_Daily\")\n",
    "\n",
    "# Using previously cleaned dataset, without any Valve appid to implicitly remove appid with inner join\n",
    "# Previous dataset also filter non-game appid\n",
    "publishers = spark.sql(\n",
    "    'select appid from parquet.`{}`'.format(\"file://\" + output_dir + \"steam-dataset_games_28-12_3\")\n",
    ")\n",
    "\n",
    "df = df \\\n",
    "    .join(publishers, on = 'appid') \\\n",
    "    .dropna()\n",
    "\n",
    "df = df \\\n",
    "    .groupBy('steamid') \\\n",
    "    .agg(F.collect_set('appid').alias('owned_appid')) \\\n",
    "    .withColumn('n_owned', F.size(F.col('owned_appid'))) \\\n",
    "    .sort(F.col('n_owned').desc())\n",
    "\n",
    "df.show()"
   ]
  },
  {
   "cell_type": "code",
   "execution_count": null,
   "metadata": {},
   "outputs": [],
   "source": [
    "import plotly.graph_objects as go\n",
    "\n",
    "# Filter extreme n_owned values\n",
    "max_owned = 500\n",
    "\n",
    "filtered_df = df \\\n",
    "    .filter(F.col('n_owned') <= max_owned) \\\n",
    "    .sort(F.col('n_owned'))\n",
    "\n",
    "# Get some describe statistics\n",
    "filtered_df.describe('n_owned').show()\n",
    "\n",
    "# Display filtered results\n",
    "fig = go.Figure()\n",
    "\n",
    "fig.add_trace(\n",
    "    go.Histogram(\n",
    "        x = filtered_df.toPandas().n_owned,\n",
    "        name = \"N Owned\"\n",
    "    )\n",
    ")\n",
    "\n",
    "fig.update_layout(\n",
    "    title = 'Number of owned game histogram',\n",
    "    template = 'plotly_dark'\n",
    ")\n",
    "\n",
    "fig.show()"
   ]
  },
  {
   "cell_type": "markdown",
   "metadata": {},
   "source": [
    "#### Combinaisons de genres\n",
    "\n",
    "En regardant les possessions des joueurs, on peut s'attendre à retrouver des genres hybrides connus en triant les résultats par co-occurences."
   ]
  },
  {
   "cell_type": "markdown",
   "metadata": {},
   "source": [
    "- Chargement du dataset des genres et récupération de tous les genres distincts se retrouvant dans les appid possédées."
   ]
  },
  {
   "cell_type": "code",
   "execution_count": null,
   "metadata": {},
   "outputs": [],
   "source": [
    "genre_df = spark.read.parquet(\"file://\" + dataset_path + \"steam_analysis.Games_Genres\")\n",
    "genre_old_df = spark.read.parquet(\"file://\" + dataset_path + \"steam_analysis.Games_Genres_Old\")\n",
    "\n",
    "genre_df = genre_df.union(genre_old_df)\n",
    "\n",
    "df = df \\\n",
    "    .select('steamid', F.explode('owned_appid').alias('appid')) \\\n",
    "    .join(games_df, on = 'appid') \\\n",
    "    .join(genre_df, on = 'appid') \\\n",
    "    .groupBy('steamid') \\\n",
    "    .agg(F.collect_set('Genre').alias('game_genres')) \\\n",
    "    .join(df, on = 'steamid')\n",
    "\n",
    "df.show()"
   ]
  },
  {
   "cell_type": "markdown",
   "metadata": {},
   "source": [
    "#### Aggrégation\n",
    "\n",
    "Cette étape consiste à utiliser la colonne nouvellement crée pour compter les co-occurences de genres.\n",
    "\n",
    "Pour obtenir ces valeurs, la tâche sera découpée en deux partie qui illustrent parfaitement un job MapReduce simple :\n",
    "\n",
    "  - Map : combinaison (par 2) des différents genres possédés par un joueur. A cette étape, pour chaque joueur, un dict sera créé avec la forme {\"Genre1-Genre2\" : 1}\n",
    "  - Reduce : Une fois le mapping créé, on va effectuer une aggrgation sur les différents binômes de genres obtenus."
   ]
  },
  {
   "cell_type": "markdown",
   "metadata": {},
   "source": [
    "#### Création d'une User Defined Function pour l'étape de Map\n",
    "\n",
    "**NOTES** : Les jeux possédés sont crés par un SET, le count n'est pas nécessaire. Il suffit de faire correspondre \"1\" pour chaque key.\n",
    "\n",
    "- Amélioration : compter les multiples occurences d'un même genre hybride.\n",
    "    - example : Si 2 RPG-Action possédés => {\"RPG-Action\" : 2}\n",
    "\n",
    "\n",
    "- steps : \n",
    "    - Remplacer \"collect_set\" par \"collect_list\"\n",
    "    - Récupérer pour chaque joueur les combinaisons distinctes\n",
    "    - Pour chaque combinaison, compter le nombre d'occurence"
   ]
  },
  {
   "cell_type": "code",
   "execution_count": null,
   "metadata": {},
   "outputs": [],
   "source": [
    "from itertools import combinations\n",
    "from collections import Counter\n",
    "\n",
    "def comb_count(x):\n",
    "    count = Counter(list(combinations(x, 2)))\n",
    "    count = dict(zip([\"-\".join(x) for x in count.keys()], count.values()))\n",
    "    return count\n",
    "\n",
    "example = ['RPG', 'Massively Multiplayer', 'Action', 'Indie', 'Adventure']\n",
    "comb_count(example)"
   ]
  },
  {
   "cell_type": "code",
   "execution_count": null,
   "metadata": {},
   "outputs": [],
   "source": [
    "count_udf = F.udf(comb_count, MapType(StringType(), IntegerType()))\n",
    "\n",
    "mixed_genres_counts = df \\\n",
    "    .withColumn('cooccurrences', count_udf(df['game_genres'])) \\\n",
    "    .select(F.explode('cooccurrences')) \\\n",
    "    .groupBy('key') \\\n",
    "    .agg(F.sum('value').alias('mixed_genres_sum')) \\\n",
    "    .sort(F.col('mixed_genres_sum').desc())\n",
    "\n",
    "mixed_genres_counts.show(truncate = False)"
   ]
  },
  {
   "cell_type": "code",
   "execution_count": null,
   "metadata": {},
   "outputs": [],
   "source": [
    "mixed_genres_stats = mixed_genres_counts.select('mixed_genres_sum').describe()\n",
    "\n",
    "mixed_genres_stats.show()"
   ]
  },
  {
   "cell_type": "code",
   "execution_count": null,
   "metadata": {},
   "outputs": [],
   "source": [
    "# Display filtered results\n",
    "fig = go.Figure()\n",
    "\n",
    "pd_df = mixed_genres_counts \\\n",
    "    .toPandas()\n",
    "\n",
    "fig.add_trace(\n",
    "    go.Bar(\n",
    "        x = pd_df.key,\n",
    "        y = pd_df.mixed_genres_sum,\n",
    "        name = \"Mixed genres counts\"\n",
    "    )\n",
    ")\n",
    "\n",
    "fig.update_layout(\n",
    "    title = 'Mixed genre games counts',\n",
    "    template = 'plotly_dark'\n",
    ")\n",
    "fig.update_xaxes(tickangle = 45)\n",
    "\n",
    "fig.show()"
   ]
  },
  {
   "cell_type": "markdown",
   "metadata": {},
   "source": [
    "- Nettoyage du dataset pour une meilleure lisibilité directe\n",
    "    - Plutôt que d'utiliser un seuil en valeur absolue, nous allons calculer cette valeur à partir du dataset pour garantir la compatibilité du seuil avec le dataset, et assurer la généralisation de la démarche. Si le dataset change, la valeur accompagne les évolutions.\n",
    "    - Distribution très asymétrique : Utilisation de la médiane"
   ]
  },
  {
   "cell_type": "code",
   "execution_count": null,
   "metadata": {},
   "outputs": [],
   "source": [
    "# Set percentile threshold\n",
    "pop_threshold = 0.5\n",
    "\n",
    "threshold = mixed_genres_counts \\\n",
    "    .approxQuantile('mixed_genres_sum', [pop_threshold], 0.01)[0]\n",
    "    \n",
    "print('Threshold:', threshold)"
   ]
  },
  {
   "cell_type": "code",
   "execution_count": null,
   "metadata": {},
   "outputs": [],
   "source": [
    "# Display filtered results\n",
    "fig = go.Figure()\n",
    "\n",
    "pd_df = mixed_genres_counts \\\n",
    "    .filter(F.col('mixed_genres_sum') > threshold) \\\n",
    "    .toPandas()\n",
    "\n",
    "fig.add_trace(\n",
    "    go.Bar(\n",
    "        x = pd_df.key,\n",
    "        y = pd_df.mixed_genres_sum,\n",
    "        name = \"Mixed genres counts\"\n",
    "    )\n",
    ")\n",
    "\n",
    "fig.update_layout(\n",
    "    title = 'Mixed genre games counts',\n",
    "    template = 'plotly_dark'\n",
    ")\n",
    "\n",
    "fig.update_xaxes(tickangle = 45)\n",
    "\n",
    "fig.show()"
   ]
  },
  {
   "cell_type": "code",
   "execution_count": null,
   "metadata": {},
   "outputs": [],
   "source": [
    "fig = go.Figure()\n",
    "\n",
    "filtered_pd_df = pd_df \\\n",
    "    .loc[pd_df.key.str.contains('Free to Play') == False] \\\n",
    "    .loc[pd_df.key.str.contains('Early Access') == False]\n",
    "\n",
    "fig.add_trace(\n",
    "    go.Bar(\n",
    "        x = filtered_pd_df.key,\n",
    "        y = filtered_pd_df.mixed_genres_sum,\n",
    "        name = \"Mixed genres counts\"\n",
    "    )\n",
    ")\n",
    "\n",
    "fig.update_layout(\n",
    "    title = 'Mixed genre games counts',\n",
    "    template = 'plotly_dark'\n",
    ")\n",
    "\n",
    "fig.update_xaxes(tickangle = 45)\n",
    "\n",
    "fig.show()"
   ]
  },
  {
   "cell_type": "markdown",
   "metadata": {},
   "source": [
    "- distance entre RPG-Massively Multiplayer / Massively Multiplayer - Early Access\n",
    "- Trouver quel genre comporte le plus d'early access\n",
    "    - prédire l'évolution de l'early access par genre en fonction du temps\n",
    "- TO-DO : retirer \"Free to Play\" et \"Early Access\" avant visualisation ! Les valeurs doivent être retirées AVANT la création des combinaisons.\n",
    "\n",
    "Notes : quand fait avec Pandas, pas d'association \"Massively Multiplayer-RPG\""
   ]
  },
  {
   "cell_type": "code",
   "execution_count": null,
   "metadata": {},
   "outputs": [],
   "source": [
    "pd_df \\\n",
    "    .loc[pd_df.key.str.contains('Free to Play') == False] \\\n",
    "    .loc[pd_df.key.str.contains('Early Access') == False] \\\n",
    "    .loc[pd_df.key.str.contains('Massively Multiplayer')]"
   ]
  },
  {
   "cell_type": "markdown",
   "metadata": {},
   "source": [
    "**NOTES** :\n",
    "\n",
    "- Créer un network à partir des co-occurences avec col_0 = src, col_1 = dst, col_2 = weight\n",
    "- Visualisation du network\n",
    "- Visualiser les profils de joueurs ET les counts de genres hybrides en normalisant les deux scores entre 0 et 1 (TEST)\n",
    "- Déplacer l'analyse du profil du joueur dans un autre chapitre, et créer plus de visualisations sur les données consolidées dans la Part 1"
   ]
  }
 ],
 "metadata": {
  "kernelspec": {
   "display_name": "steam-analysis",
   "language": "python",
   "name": "steam-analysis"
  },
  "language_info": {
   "codemirror_mode": {
    "name": "ipython",
    "version": 3
   },
   "file_extension": ".py",
   "mimetype": "text/x-python",
   "name": "python",
   "nbconvert_exporter": "python",
   "pygments_lexer": "ipython3",
   "version": "3.7.5"
  }
 },
 "nbformat": 4,
 "nbformat_minor": 4
}
