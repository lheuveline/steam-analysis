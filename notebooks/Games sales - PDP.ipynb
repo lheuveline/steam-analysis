{
 "cells": [
  {
   "cell_type": "markdown",
   "metadata": {},
   "source": [
    "#### Notes:\n",
    "\n",
    "- n_players / reviews ratio too low : filter data before percentile filters"
   ]
  },
  {
   "cell_type": "code",
   "execution_count": 26,
   "metadata": {},
   "outputs": [
    {
     "data": {
      "text/html": [
       "<style>.container { width:100% !important; }</style>"
      ],
      "text/plain": [
       "<IPython.core.display.HTML object>"
      ]
     },
     "metadata": {},
     "output_type": "display_data"
    }
   ],
   "source": [
    "# Just take all width for viz\n",
    "from IPython.core.display import display, HTML\n",
    "display(HTML(\"<style>.container { width:100% !important; }</style>\"))\n",
    "\n",
    "import findspark\n",
    "findspark.init()\n",
    "\n",
    "from pyspark.sql import SparkSession\n",
    "import pyspark.sql.functions as F\n",
    "from pyspark.sql.types import *\n",
    "from pyspark.sql.window import Window\n",
    "\n",
    "import plotly.graph_objects as go\n",
    "\n",
    "import os"
   ]
  },
  {
   "cell_type": "code",
   "execution_count": 27,
   "metadata": {},
   "outputs": [],
   "source": [
    "spark = SparkSession \\\n",
    "    .builder \\\n",
    "    .master('local[*]') \\\n",
    "    .config(\"spark.driver.memory\", \"10g\") \\\n",
    "    .appName(\"steam-analysis-eda\") \\\n",
    "    .getOrCreate()"
   ]
  },
  {
   "cell_type": "code",
   "execution_count": 28,
   "metadata": {},
   "outputs": [],
   "source": [
    "dataset_path = os.path.join(os.path.dirname(os.path.realpath(\"\")), \"data/\")\n",
    "\n",
    "df = spark.read.parquet(\"file://\" + dataset_path + \"steam-dataset/steam_analysis.Games_Daily\")\n",
    "\n",
    "publishers = spark.sql(\n",
    "    'select appid from parquet.`{}`'.format(\"file://\" + dataset_path + \"extracts/steam-dataset_games_28-12_5\")\n",
    ")\n",
    "\n",
    "df = df \\\n",
    "    .join(publishers, on = 'appid') \\\n",
    "    .groupBy('appid') \\\n",
    "    .agg(F.size(F.collect_list('steamid')).alias('n_players')) \\\n",
    "    .sort(F.col('n_players').desc())\n",
    "\n",
    "revsum_df = spark \\\n",
    "    .sql(\n",
    "        \"\"\"SELECT\n",
    "        appid,\n",
    "        total_reviews\n",
    "        FROM parquet.`{}`\"\"\".format(\"file://\" + dataset_path + \"extracts/steam-reviews.parquet\"))\n",
    "\n",
    "genres_df = spark.sql(\n",
    "    'select appid, Explode(genres) AS genres from parquet.`{}`'.format(\"file://\" + dataset_path + \"extracts/steam-dataset_games_28-12_5\")\n",
    ")\n",
    "\n",
    "joined_df = genres_df.join(revsum_df, on = ['appid'])\n",
    "\n",
    "joined_df = joined_df \\\n",
    "    .groupBy('appid') \\\n",
    "    .agg(F.collect_set('total_reviews').alias('total_reviews')) \\\n",
    "    .select('appid', F.explode('total_reviews').alias('total_reviews')) \\\n",
    "    .join(genres_df, on = ['appid']) \\\n",
    "    .join(df, on = ['appid'])"
   ]
  },
  {
   "cell_type": "code",
   "execution_count": 29,
   "metadata": {},
   "outputs": [],
   "source": [
    "from pyspark.ml.feature import VectorAssembler, QuantileDiscretizer, StringIndexer, OneHotEncoder\n",
    "from pyspark.ml.stat import ChiSquareTest"
   ]
  },
  {
   "cell_type": "code",
   "execution_count": 30,
   "metadata": {
    "scrolled": true
   },
   "outputs": [
    {
     "name": "stdout",
     "output_type": "stream",
     "text": [
      "+------+-------------+----------+---------+--------------+------------------+----------+---------------+---------------+----------+\n",
      "| appid|total_reviews|    genres|n_players|n_players_bins|total_reviews_bins|genreIndex|     genres_vec|boxleiter_value|  features|\n",
      "+------+-------------+----------+---------+--------------+------------------+----------+---------------+---------------+----------+\n",
      "|301190|          267|    Casual|      880|           0.0|               1.0|       5.0| (16,[5],[1.0])|          13350| [5.0,1.0]|\n",
      "|301190|          267|     Indie|      880|           0.0|               1.0|       0.0| (16,[0],[1.0])|          13350| [0.0,1.0]|\n",
      "|301190|          267|    Action|      880|           0.0|               1.0|       1.0| (16,[1],[1.0])|          13350| [1.0,1.0]|\n",
      "|253470|           91|    Racing|     1466|           1.0|               0.0|       9.0| (16,[9],[1.0])|           4550| [9.0,0.0]|\n",
      "|253470|           91|     Indie|     1466|           1.0|               0.0|       0.0| (16,[0],[1.0])|           4550| (2,[],[])|\n",
      "|253470|           91|Simulation|     1466|           1.0|               0.0|       7.0| (16,[7],[1.0])|           4550| [7.0,0.0]|\n",
      "|214130|           96|     Indie|      802|           0.0|               0.0|       0.0| (16,[0],[1.0])|           4800| (2,[],[])|\n",
      "|214130|           96|Simulation|      802|           0.0|               0.0|       7.0| (16,[7],[1.0])|           4800| [7.0,0.0]|\n",
      "|204960|          207|    Casual|     1883|           1.0|               1.0|       5.0| (16,[5],[1.0])|          10350| [5.0,1.0]|\n",
      "|204960|          207|     Indie|     1883|           1.0|               1.0|       0.0| (16,[0],[1.0])|          10350| [0.0,1.0]|\n",
      "|235980|          110|    Casual|      573|           0.0|               0.0|       5.0| (16,[5],[1.0])|           5500| [5.0,0.0]|\n",
      "|235980|          110|     Indie|      573|           0.0|               0.0|       0.0| (16,[0],[1.0])|           5500| (2,[],[])|\n",
      "|296910|          350|    Casual|     2468|           1.0|               1.0|       5.0| (16,[5],[1.0])|          17500| [5.0,1.0]|\n",
      "|296910|          350|     Indie|     2468|           1.0|               1.0|       0.0| (16,[0],[1.0])|          17500| [0.0,1.0]|\n",
      "|296910|          350|    Action|     2468|           1.0|               1.0|       1.0| (16,[1],[1.0])|          17500| [1.0,1.0]|\n",
      "|212780|          119|     Indie|     2316|           1.0|               0.0|       0.0| (16,[0],[1.0])|           5950| (2,[],[])|\n",
      "|212780|          119|    Sports|     2316|           1.0|               0.0|      10.0|(16,[10],[1.0])|           5950|[10.0,0.0]|\n",
      "|212780|          119|Simulation|     2316|           1.0|               0.0|       7.0| (16,[7],[1.0])|           5950| [7.0,0.0]|\n",
      "|266230|          341|     Indie|     2075|           1.0|               1.0|       0.0| (16,[0],[1.0])|          17050| [0.0,1.0]|\n",
      "|266230|          341|       RPG|     2075|           1.0|               1.0|       4.0| (16,[4],[1.0])|          17050| [4.0,1.0]|\n",
      "+------+-------------+----------+---------+--------------+------------------+----------+---------------+---------------+----------+\n",
      "only showing top 20 rows\n",
      "\n",
      "+-------+------------------+------------------+--------------+------------------+------------------+------------------+------------------+-----------------+\n",
      "|summary|             appid|     total_reviews|        genres|         n_players|    n_players_bins|total_reviews_bins|        genreIndex|  boxleiter_value|\n",
      "+-------+------------------+------------------+--------------+------------------+------------------+------------------+------------------+-----------------+\n",
      "|  count|               246|               246|           246|               246|               246|               246|               246|              246|\n",
      "|   mean|249479.75609756098| 314.5081300813008|          null|1956.7967479674796|0.8658536585365854|0.9227642276422764|2.9878048780487805|15725.40650406504|\n",
      "| stddev| 45035.38225255944|144.36791836138434|          null|1257.7601436395403|0.7187664340104022|0.6244426750219628|3.0364879112621894|7218.395918069216|\n",
      "|    min|              9940|                87|        Action|               373|               0.0|               0.0|               0.0|             4350|\n",
      "|    max|            317510|               608|Web Publishing|              4915|               2.0|               2.0|              16.0|            30400|\n",
      "+-------+------------------+------------------+--------------+------------------+------------------+------------------+------------------+-----------------+\n",
      "\n",
      "\n",
      "root\n",
      " |-- appid: long (nullable = true)\n",
      " |-- Education: integer (nullable = false)\n",
      " |-- Massively Multiplayer: integer (nullable = false)\n",
      " |-- Adventure: integer (nullable = false)\n",
      " |-- Sports: integer (nullable = false)\n",
      " |-- Racing: integer (nullable = false)\n",
      " |-- Software Training: integer (nullable = false)\n",
      " |-- Web Publishing: integer (nullable = false)\n",
      " |-- Utilities: integer (nullable = false)\n",
      " |-- Early Access: integer (nullable = false)\n",
      " |-- Casual: integer (nullable = false)\n",
      " |-- Action: integer (nullable = false)\n",
      " |-- Strategy: integer (nullable = false)\n",
      " |-- Indie: integer (nullable = false)\n",
      " |-- Free to Play: integer (nullable = false)\n",
      " |-- RPG: integer (nullable = false)\n",
      " |-- Simulation: integer (nullable = false)\n",
      " |-- total_reviews: long (nullable = false)\n",
      " |-- genres: string (nullable = true)\n",
      " |-- n_players: integer (nullable = true)\n",
      " |-- n_players_bins: double (nullable = true)\n",
      " |-- total_reviews_bins: double (nullable = false)\n",
      " |-- genreIndex: double (nullable = false)\n",
      " |-- genres_vec: vector (nullable = true)\n",
      " |-- boxleiter_value: long (nullable = false)\n",
      " |-- features: vector (nullable = true)\n",
      "\n",
      "pValues: [2.671735280790344e-07,0.0]\n",
      "degreesOfFreedom: [30, 4]\n",
      "statistics: [85.94089269085426,120.96959376548776]\n"
     ]
    }
   ],
   "source": [
    "# Discretize n_players to get classification problem (actually ordinal classification)\n",
    "discretizer = QuantileDiscretizer(numBuckets=5, inputCol=\"n_players\", outputCol=\"n_players_bins\")\n",
    "result = discretizer.fit(joined_df).transform(joined_df)\n",
    "\n",
    "# Discretize total_reviews for chi² => TO-DO : replace by pearson corr\n",
    "discretizer = QuantileDiscretizer(numBuckets=5, inputCol=\"total_reviews\", outputCol=\"total_reviews_bins\")\n",
    "result = discretizer.fit(result).transform(result)\n",
    "\n",
    "# Encode genres to numerical type\n",
    "indexer = StringIndexer(inputCol=\"genres\", outputCol=\"genreIndex\")\n",
    "result = indexer.fit(result).transform(result)\n",
    "\n",
    "encoder = OneHotEncoder(\n",
    "    inputCols=[\"genreIndex\"],\n",
    "    outputCols=[\"genres_vec\"]\n",
    ")\n",
    "model = encoder.fit(result)\n",
    "result = model.transform(result)\n",
    "\n",
    "result = result.withColumn('boxleiter_value', F.col('total_reviews') * 50)\n",
    "\n",
    "# Create vectors for ml compat\n",
    "assembler = VectorAssembler(\n",
    "    inputCols=[\"genreIndex\", \"total_reviews_bins\"],\n",
    "    outputCol=\"features\"\n",
    ")\n",
    "result = assembler.transform(result)\n",
    "\n",
    "##############################################\n",
    "\n",
    "quantiles = result \\\n",
    "    .approxQuantile(['total_reviews', 'n_players'], [0.1, 0.5, 0.8], 0.01)\n",
    "\n",
    "result = result \\\n",
    "    .filter(F.col('total_reviews') > quantiles[0][0]).filter(F.col('total_reviews') < quantiles[0][1]) \\\n",
    "    .filter(F.col('n_players') > quantiles[1][0]).filter(F.col('n_players') < quantiles[1][1])\n",
    "\n",
    "result.show()\n",
    "result.describe().show()\n",
    "print()\n",
    "\n",
    "##############################################\n",
    "# Encode genreIndex as dummy\n",
    "distinct_genres = result.select('genres').distinct().rdd.map(lambda x: x.genres).collect()\n",
    "\n",
    "expr = [F.when(F.col(\"genres\") == genre, 1).otherwise(0).alias(genre) for i, genre in enumerate(distinct_genres)]\n",
    "\n",
    "df = result.select(\"appid\", *expr)\n",
    "result = df.join(result, on = ['appid'])\n",
    "result.printSchema()\n",
    "\n",
    "##############################################\n",
    "\n",
    "# Perform Chi-Square Test\n",
    "r = ChiSquareTest.test(result, \"features\", \"n_players_bins\").head()\n",
    "print(\"pValues: \" + str(r.pValues))\n",
    "print(\"degreesOfFreedom: \" + str(r.degreesOfFreedom))\n",
    "print(\"statistics: \" + str(r.statistics))"
   ]
  },
  {
   "cell_type": "markdown",
   "metadata": {},
   "source": [
    "#### Class weighting"
   ]
  },
  {
   "cell_type": "code",
   "execution_count": 31,
   "metadata": {},
   "outputs": [],
   "source": [
    "import numpy as np\n",
    "from itertools import chain\n",
    "\n",
    "distinct_labels = result.select('n_players_bins').groupBy('n_players_bins').count().collect()\n",
    "\n",
    "unique_y = [x[\"n_players_bins\"] for x in distinct_labels]\n",
    "total_y = sum([x[\"count\"] for x in distinct_labels])\n",
    "unique_y_count = len(distinct_labels)\n",
    "bin_count = [x[\"count\"] for x in distinct_labels]\n",
    "\n",
    "class_weights_spark = {i: ii for i, ii in zip(unique_y, total_y / (unique_y_count * np.array(bin_count)))}\n",
    "mapping_expr = F.create_map([F.lit(x) for x in chain(*class_weights_spark.items())])\n",
    "\n",
    "result = result.withColumn(\"weight\", mapping_expr[F.col(\"n_players_bins\")])"
   ]
  },
  {
   "cell_type": "markdown",
   "metadata": {},
   "source": [
    "#### Generic train function with grid search and cross-validation"
   ]
  },
  {
   "cell_type": "code",
   "execution_count": null,
   "metadata": {},
   "outputs": [],
   "source": [
    "from pyspark.ml.tuning import CrossValidator, ParamGridBuilder"
   ]
  },
  {
   "cell_type": "code",
   "execution_count": 22,
   "metadata": {},
   "outputs": [
    {
     "name": "stdout",
     "output_type": "stream",
     "text": [
      "rmse : 1251.8620652831128\n"
     ]
    }
   ],
   "source": [
    "def train_model(df, model, params_grid, labelCol = \"label\"):\n",
    "    train, test = df.randomSplit([0.66, 0.34])\n",
    "\n",
    "    evaluator = RegressionEvaluator(\n",
    "        predictionCol='prediction', \n",
    "        labelCol='n_players', \n",
    "        metricName='rmse'\n",
    "    )\n",
    "\n",
    "    cv = CrossValidator(\n",
    "            estimator=model, \n",
    "            estimatorParamMaps=params_grid, \n",
    "            evaluator=evaluator,\n",
    "            parallelism=2\n",
    "    )\n",
    "    cvModel = cv.fit(train)\n",
    "    print(evaluator.getMetricName(), ':', cvModel.avgMetrics[0])\n",
    "    return cvModel\n",
    "\n",
    "general_linear_model = train_model(result, model, grid, labelCol = \"n_players\")"
   ]
  },
  {
   "cell_type": "markdown",
   "metadata": {},
   "source": [
    "#### Linear regression"
   ]
  },
  {
   "cell_type": "code",
   "execution_count": 23,
   "metadata": {},
   "outputs": [],
   "source": [
    "from pyspark.ml.regression import LinearRegression\n",
    "from pyspark.ml.evaluation import RegressionEvaluator"
   ]
  },
  {
   "cell_type": "code",
   "execution_count": 25,
   "metadata": {},
   "outputs": [
    {
     "name": "stdout",
     "output_type": "stream",
     "text": [
      "Training model for genre = Education \n",
      "\n",
      "Not enough data ! (N = 4) \n",
      "\n",
      "Training model for genre = Massively Multiplayer \n",
      "\n",
      "Not enough data ! (N = 10) \n",
      "\n",
      "Training model for genre = Adventure \n",
      "\n",
      "rmse : 1403.7791074424806\n"
     ]
    },
    {
     "ename": "AttributeError",
     "evalue": "'LinearRegression' object has no attribute 'bestModel'",
     "output_type": "error",
     "traceback": [
      "\u001b[0;31m---------------------------------------------------------------------------\u001b[0m",
      "\u001b[0;31mAttributeError\u001b[0m                            Traceback (most recent call last)",
      "\u001b[0;32m<ipython-input-25-b7411a203240>\u001b[0m in \u001b[0;36m<module>\u001b[0;34m\u001b[0m\n\u001b[1;32m     31\u001b[0m         \u001b[0;31m# Train model\u001b[0m\u001b[0;34m\u001b[0m\u001b[0;34m\u001b[0m\u001b[0;34m\u001b[0m\u001b[0m\n\u001b[1;32m     32\u001b[0m         \u001b[0mcvModel\u001b[0m \u001b[0;34m=\u001b[0m \u001b[0mtrain_model\u001b[0m\u001b[0;34m(\u001b[0m\u001b[0mdf\u001b[0m\u001b[0;34m,\u001b[0m \u001b[0mmodel\u001b[0m\u001b[0;34m,\u001b[0m \u001b[0mgrid\u001b[0m\u001b[0;34m,\u001b[0m \u001b[0mlabelCol\u001b[0m \u001b[0;34m=\u001b[0m \u001b[0;34m\"n_players\"\u001b[0m\u001b[0;34m)\u001b[0m\u001b[0;34m\u001b[0m\u001b[0;34m\u001b[0m\u001b[0m\n\u001b[0;32m---> 33\u001b[0;31m         \u001b[0mcoef\u001b[0m\u001b[0;34m,\u001b[0m \u001b[0mintercept\u001b[0m \u001b[0;34m=\u001b[0m \u001b[0mmodel\u001b[0m\u001b[0;34m.\u001b[0m\u001b[0mbestModel\u001b[0m\u001b[0;34m.\u001b[0m\u001b[0mcoefficients\u001b[0m\u001b[0;34m,\u001b[0m \u001b[0mmodel\u001b[0m\u001b[0;34m.\u001b[0m\u001b[0mbestModel\u001b[0m\u001b[0;34m.\u001b[0m\u001b[0mintercept\u001b[0m\u001b[0;34m\u001b[0m\u001b[0;34m\u001b[0m\u001b[0m\n\u001b[0m\u001b[1;32m     34\u001b[0m         \u001b[0mprint\u001b[0m\u001b[0;34m(\u001b[0m\u001b[0mdict\u001b[0m\u001b[0;34m(\u001b[0m\u001b[0mzip\u001b[0m\u001b[0;34m(\u001b[0m\u001b[0;34m[\u001b[0m\u001b[0;34m\"total_reviews\"\u001b[0m\u001b[0;34m,\u001b[0m \u001b[0;34m\"genreIndex\"\u001b[0m\u001b[0;34m]\u001b[0m\u001b[0;34m,\u001b[0m \u001b[0mcoef\u001b[0m\u001b[0;34m)\u001b[0m\u001b[0;34m)\u001b[0m\u001b[0;34m)\u001b[0m\u001b[0;34m\u001b[0m\u001b[0;34m\u001b[0m\u001b[0m\n\u001b[1;32m     35\u001b[0m         \u001b[0mprint\u001b[0m\u001b[0;34m(\u001b[0m\u001b[0;34m'Intercept:'\u001b[0m\u001b[0;34m,\u001b[0m \u001b[0mintercept\u001b[0m\u001b[0;34m)\u001b[0m\u001b[0;34m\u001b[0m\u001b[0;34m\u001b[0m\u001b[0m\n",
      "\u001b[0;31mAttributeError\u001b[0m: 'LinearRegression' object has no attribute 'bestModel'"
     ]
    }
   ],
   "source": [
    "distinct_genres = result.select('genres').distinct().rdd.map(lambda x: x.genres).collect()\n",
    "\n",
    "# Define model and grid search params\n",
    "model = LinearRegression(\n",
    "    featuresCol= \"features\",\n",
    "    labelCol= \"n_players\",\n",
    "    weightCol = \"weight\"\n",
    ")\n",
    "grid = ParamGridBuilder().addGrid(model.maxIter, [1, 5, 10]).build()\n",
    "\n",
    "# Store fitted model for later comparison\n",
    "models = {}\n",
    "for genre in distinct_genres:\n",
    "    \n",
    "    print('Training model for genre = {} \\n'.format(genre))\n",
    "    # Filter data\n",
    "    df = result.filter(F.col('genres') == genre)\n",
    "    \n",
    "    # Check count for cross validation\n",
    "    count = df.count()\n",
    "    \n",
    "    if count > 20:\n",
    "        # get features\n",
    "        df = df.drop('features')\n",
    "        assembler = VectorAssembler(\n",
    "            inputCols=[\"total_reviews\", \"genreIndex\"],\n",
    "            outputCol=\"features\"\n",
    "        )\n",
    "        df = assembler.transform(df)\n",
    "\n",
    "        # Train model\n",
    "        cvModel = train_model(df, model, grid, labelCol = \"n_players\")\n",
    "        coef, intercept = cvModel.bestModel.coefficients, cvModel.bestModel.intercept\n",
    "        print(dict(zip([\"total_reviews\", \"genreIndex\"], coef)))\n",
    "        print('Intercept:', intercept)\n",
    "        print(\"\\n\")\n",
    "        \n",
    "        models[genre] = cvModel\n",
    "    else:\n",
    "        print('Not enough data ! (N = {}) \\n'.format(count))"
   ]
  },
  {
   "cell_type": "code",
   "execution_count": null,
   "metadata": {},
   "outputs": [],
   "source": [
    "# Looking at coefficients\n",
    "\n",
    "coefficients = []\n",
    "for genre, model in models.items() :\n",
    "    coef = model.bestModel.coefficients\n",
    "    intercept = model.bestModel.intercept\n",
    "\n",
    "    print('Genre: {}'.format(genre))\n",
    "    print(dict(zip([\"total_reviews\", \"genreIndex\"], coef)))\n",
    "    print('Intercept:', intercept)\n",
    "    \n",
    "    # Get total_reviews coefficients\n",
    "    # Genre is only != 0 if genre = early access\n",
    "    coefficients.append((genre, coef[0]))\n",
    "    \n",
    "coefficients = sorted(coefficients, key = lambda x: x[1], reverse = True)"
   ]
  },
  {
   "cell_type": "code",
   "execution_count": null,
   "metadata": {},
   "outputs": [],
   "source": [
    "fig = go.Figure()\n",
    "fig.add_trace(\n",
    "    go.Bar(\n",
    "        x=list(x[0] for x in coefficients), \n",
    "        y=list(x[1] for x in coefficients)\n",
    "    )\n",
    ")\n",
    "fig.show()"
   ]
  },
  {
   "cell_type": "markdown",
   "metadata": {},
   "source": [
    "#### Partial Dependency Plot"
   ]
  },
  {
   "cell_type": "code",
   "execution_count": null,
   "metadata": {},
   "outputs": [],
   "source": [
    "import numpy as np\n",
    "from itertools import chain\n",
    "\n",
    "import matplotlib.pyplot as plt\n",
    "# Disable SettingCopyWarning\n",
    "pd.options.mode.chained_assignment = None  # default='warn'\n",
    "\n",
    "from sklearn.ensemble import GradientBoostingRegressor\n",
    "from sklearn.inspection import plot_partial_dependence, partial_dependence"
   ]
  },
  {
   "cell_type": "code",
   "execution_count": null,
   "metadata": {},
   "outputs": [],
   "source": [
    "def plot_pdp(model, X, feature, target=False, return_pd=False, y_pct=True, figsize=(10,9), norm_hist=True, dec=.5, xticks = None):\n",
    "    # Get partial dependence\n",
    "    pardep = partial_dependence(model, X, [feature], method = 'brute', kind = 'average')\n",
    "    \n",
    "    # Get min & max values\n",
    "    xmin = pardep[\"values\"][0].min()\n",
    "    xmax = pardep[\"values\"][0].max()\n",
    "    ymin = pardep[\"average\"][0].min()\n",
    "    ymax = pardep[\"average\"][0].max()\n",
    "    \n",
    "    # Create figure\n",
    "    fig, ax1 = plt.subplots(figsize=figsize)\n",
    "    ax1.grid(alpha=.5, linewidth=1)\n",
    "    \n",
    "    # Plot partial dependence\n",
    "    color = 'tab:blue'\n",
    "    ax1.plot(pardep[\"values\"][0], pardep[\"average\"][0], color=color)\n",
    "    ax1.tick_params(axis='y', labelcolor=color)\n",
    "    if not xticks:\n",
    "        ax1.set_xlabel(feature, fontsize=14)\n",
    "    else:\n",
    "        plt.xticks(ticks = range(len(xticks)) , labels = xticks, rotation = 'vertical')\n",
    "    \n",
    "    tar_ylabel = ': {}'.format(target) if target else ''\n",
    "    ax1.set_ylabel('Partial Dependence{}'.format(tar_ylabel), color=color, fontsize=14)\n",
    "    \n",
    "    tar_title = target if target else 'Target Variable'\n",
    "    ax1.set_title('Relationship Between {} and {}'.format(feature, tar_title), fontsize=16)\n",
    "    \n",
    "    if y_pct and ymin>=0 and ymax<=1:\n",
    "        # Display yticks on ax1 as percentages\n",
    "        fig.canvas.draw()\n",
    "        labels = [item.get_text() for item in ax1.get_yticklabels()]\n",
    "        labels = [int(np.float(label)*100) for label in labels]\n",
    "        labels = ['{}%'.format(label) for label in labels]\n",
    "        ax1.set_yticklabels(labels)\n",
    "    \n",
    "    # Plot line for decision boundary\n",
    "    ax1.hlines(dec, xmin=xmin, xmax=xmax, color='black', linewidth=2, linestyle='--', label='Decision Boundary')\n",
    "    ax1.legend()\n",
    "\n",
    "    ax2 = ax1.twinx()\n",
    "    color = 'tab:red'\n",
    "    ax2.hist(X[feature], bins=80, range=(xmin, xmax), alpha=.25, color=color, density=norm_hist)\n",
    "    ax2.tick_params(axis='y', labelcolor=color)\n",
    "    ax2.set_ylabel('Distribution', color=color, fontsize=14)\n",
    "    \n",
    "    if y_pct and norm_hist:\n",
    "        # Display yticks on ax2 as percentages\n",
    "        fig.canvas.draw()\n",
    "        labels = [item.get_text() for item in ax2.get_yticklabels()]\n",
    "        labels = [int(np.float(label)*100) for label in labels]\n",
    "        labels = ['{}%'.format(label) for label in labels]\n",
    "        ax2.set_yticklabels(labels)\n",
    "\n",
    "    plt.show()\n",
    "    \n",
    "    if return_pd:\n",
    "        return pardep"
   ]
  },
  {
   "cell_type": "code",
   "execution_count": null,
   "metadata": {},
   "outputs": [],
   "source": [
    "xticks = pd_df['genres'].unique().tolist()\n",
    "plot_pdp(clf, X, 'genreIndex', target='n_players', xticks = xticks)"
   ]
  },
  {
   "cell_type": "code",
   "execution_count": null,
   "metadata": {},
   "outputs": [],
   "source": [
    "distinct_labels = result.select('n_players_bins').groupBy('n_players_bins').count().collect()\n",
    "\n",
    "unique_y = [x[\"n_players_bins\"] for x in distinct_labels]\n",
    "total_y = sum([x[\"count\"] for x in distinct_labels])\n",
    "unique_y_count = len(distinct_labels)\n",
    "bin_count = [x[\"count\"] for x in distinct_labels]\n",
    "\n",
    "class_weights_spark = {i: ii for i, ii in zip(unique_y, total_y / (unique_y_count * np.array(bin_count)))}\n",
    "mapping_expr = F.create_map([F.lit(x) for x in chain(*class_weights_spark.items())])\n",
    "\n",
    "result = result.withColumn(\"weight\", mapping_expr[F.col(\"n_players_bins\")])\n",
    "\n",
    "result.show()"
   ]
  },
  {
   "cell_type": "code",
   "execution_count": null,
   "metadata": {},
   "outputs": [],
   "source": [
    "pd_df = result \\\n",
    "    .select('genreIndex', 'genres', 'total_reviews', 'n_players') \\\n",
    "    .toPandas()"
   ]
  },
  {
   "cell_type": "code",
   "execution_count": null,
   "metadata": {},
   "outputs": [],
   "source": [
    "X, y = pd_df[['genreIndex', 'total_reviews']], pd_df['n_players']\n",
    "clf = GradientBoostingRegressor(n_estimators=100, learning_rate=1.0, max_depth=1, random_state=0).fit(X, y)\n",
    "features = [0, 1, (0, 1)]\n",
    "\n",
    "fig, ax = plt.subplots(figsize=(15, 5))\n",
    "plot_partial_dependence(clf, X, features, kind = 'average', ax = ax)\n",
    "plt.show()"
   ]
  },
  {
   "cell_type": "code",
   "execution_count": null,
   "metadata": {},
   "outputs": [],
   "source": [
    "# Checking pdp from one class VS the others\n",
    "\n",
    "distinct_genres = pd_df.genres.unique()\n",
    "\n",
    "for target_class in distinct_genres:\n",
    "\n",
    "    print('TARGET_CLASS:', target_class)\n",
    "    early_df = pd_df.loc[pd_df.genres == target_class]\n",
    "    early_df['genreIndex'] = 1\n",
    "    other_df = pd_df.loc[pd_df.genres != target_class]\n",
    "    other_df['genres'] = \"Other\"\n",
    "    other_df['genreIndex'] = 0\n",
    "\n",
    "    df = pd.concat([early_df, other_df])\n",
    "    X, y = df[['genreIndex', 'total_reviews']], df['n_players']\n",
    "\n",
    "    clf = GradientBoostingRegressor(n_estimators=100, learning_rate=1.0, max_depth=1, random_state=0).fit(X, y)\n",
    "\n",
    "    xticks = df['genres'].unique().tolist()\n",
    "    plot_pdp(clf, X, 'genreIndex', target='n_players', xticks = xticks)"
   ]
  },
  {
   "cell_type": "markdown",
   "metadata": {},
   "source": [
    "#### Kernel Density Estimation"
   ]
  },
  {
   "cell_type": "code",
   "execution_count": null,
   "metadata": {},
   "outputs": [],
   "source": [
    "result \\\n",
    "    .select('total_reviews', 'n_players') \\\n",
    "    .toPandas().plot.kde(figsize=(10,5))"
   ]
  },
  {
   "cell_type": "markdown",
   "metadata": {},
   "source": [
    "#### WIP"
   ]
  },
  {
   "cell_type": "code",
   "execution_count": 36,
   "metadata": {},
   "outputs": [],
   "source": [
    "pd_df = result \\\n",
    "    .withColumn('players_reviews_ratio', F.col('n_players') / F.col('total_reviews')) \\\n",
    "    .sort(F.col('players_reviews_ratio')) \\\n",
    "    .toPandas()"
   ]
  },
  {
   "cell_type": "code",
   "execution_count": 39,
   "metadata": {},
   "outputs": [
    {
     "data": {
      "text/plain": [
       "<AxesSubplot:>"
      ]
     },
     "execution_count": 39,
     "metadata": {},
     "output_type": "execute_result"
    },
    {
     "data": {
      "image/png": "[encoded data removed]",
      "text/plain": [
       "<Figure size 432x288 with 1 Axes>"
      ]
     },
     "metadata": {
      "needs_background": "light"
     },
     "output_type": "display_data"
    }
   ],
   "source": [
    "pd_df[['players_reviews_ratio']].sum"
   ]
  },
  {
   "cell_type": "code",
   "execution_count": 48,
   "metadata": {},
   "outputs": [
    {
     "data": {
      "text/html": [
       "<div>\n",
       "<style scoped>\n",
       "    .dataframe tbody tr th:only-of-type {\n",
       "        vertical-align: middle;\n",
       "    }\n",
       "\n",
       "    .dataframe tbody tr th {\n",
       "        vertical-align: top;\n",
       "    }\n",
       "\n",
       "    .dataframe thead th {\n",
       "        text-align: right;\n",
       "    }\n",
       "</style>\n",
       "<table border=\"1\" class=\"dataframe\">\n",
       "  <thead>\n",
       "    <tr style=\"text-align: right;\">\n",
       "      <th></th>\n",
       "      <th>players_reviews_ratio</th>\n",
       "    </tr>\n",
       "  </thead>\n",
       "  <tbody>\n",
       "    <tr>\n",
       "      <th>count</th>\n",
       "      <td>763.000000</td>\n",
       "    </tr>\n",
       "    <tr>\n",
       "      <th>mean</th>\n",
       "      <td>8.618075</td>\n",
       "    </tr>\n",
       "    <tr>\n",
       "      <th>std</th>\n",
       "      <td>9.391445</td>\n",
       "    </tr>\n",
       "    <tr>\n",
       "      <th>min</th>\n",
       "      <td>0.798403</td>\n",
       "    </tr>\n",
       "    <tr>\n",
       "      <th>25%</th>\n",
       "      <td>2.989950</td>\n",
       "    </tr>\n",
       "    <tr>\n",
       "      <th>50%</th>\n",
       "      <td>5.724638</td>\n",
       "    </tr>\n",
       "    <tr>\n",
       "      <th>75%</th>\n",
       "      <td>10.532738</td>\n",
       "    </tr>\n",
       "    <tr>\n",
       "      <th>max</th>\n",
       "      <td>48.321839</td>\n",
       "    </tr>\n",
       "  </tbody>\n",
       "</table>\n",
       "</div>"
      ],
      "text/plain": [
       "       players_reviews_ratio\n",
       "count             763.000000\n",
       "mean                8.618075\n",
       "std                 9.391445\n",
       "min                 0.798403\n",
       "25%                 2.989950\n",
       "50%                 5.724638\n",
       "75%                10.532738\n",
       "max                48.321839"
      ]
     },
     "execution_count": 48,
     "metadata": {},
     "output_type": "execute_result"
    }
   ],
   "source": [
    "exclude = [\"Free to Play\", \"Early Access\", 'Utilities', \n",
    "            'Software Training', 'Education', 'Web Publishing']\n",
    "\n",
    "pd_df \\\n",
    "    .loc[pd_df.genres.isin(exclude) == False] \\\n",
    "    [['players_reviews_ratio']].describe()"
   ]
  },
  {
   "cell_type": "code",
   "execution_count": 124,
   "metadata": {},
   "outputs": [],
   "source": [
    "dataset_path = os.path.join(os.path.dirname(os.path.realpath(\"\")), \"data/\")\n",
    "\n",
    "df = spark.read.parquet(\"file://\" + dataset_path + \"steam-dataset/steam_analysis.Games_Daily\")\n",
    "\n",
    "publishers = spark.sql(\n",
    "    'select appid, title from parquet.`{}`'.format(\"file://\" + dataset_path + \"extracts/steam-dataset_games_28-12_5\")\n",
    ")\n",
    "\n",
    "df = df \\\n",
    "    .join(publishers, on = 'appid') \\\n",
    "    .groupBy('appid') \\\n",
    "    .agg(F.size(F.collect_list('steamid')).alias('n_players')) \\\n",
    "    .join(publishers, on = \"appid\") \\\n",
    "    .sort(F.col('n_players').desc())\n",
    "\n",
    "revsum_df = spark \\\n",
    "    .sql(\n",
    "        \"\"\"SELECT\n",
    "        appid,\n",
    "        total_reviews\n",
    "        FROM parquet.`{}`\"\"\".format(\"file://\" + dataset_path + \"extracts/steam-reviews.parquet\"))\n",
    "\n",
    "genres_df = spark.sql(\n",
    "    'select appid, Explode(genres) AS genres from parquet.`{}`'.format(\"file://\" + dataset_path + \"extracts/steam-dataset_games_28-12_5\")\n",
    ")\n",
    "\n",
    "joined_df = genres_df.join(revsum_df, on = ['appid'])\n",
    "\n",
    "# joined_df = joined_df \\\n",
    "#     .groupBy('appid') \\\n",
    "#     .agg(F.collect_set('total_reviews').alias('total_reviews')) \\\n",
    "#     .select('appid', F.explode('total_reviews').alias('total_reviews')) \\\n",
    "#     .join(genres_df, on = ['appid']) \\\n",
    "#     .join(df, on = ['appid'])"
   ]
  },
  {
   "cell_type": "code",
   "execution_count": 138,
   "metadata": {},
   "outputs": [
    {
     "name": "stdout",
     "output_type": "stream",
     "text": [
      "+------+---------+--------------------------------------------------+-------------+\n",
      "|appid |n_players|title                                             |total_reviews|\n",
      "+------+---------+--------------------------------------------------+-------------+\n",
      "|8930  |591196   |Sid Meier's Civilization® V                       |63446        |\n",
      "|225600|284866   |Blade Symphony                                    |1931         |\n",
      "|8870  |232731   |BioShock Infinite                                 |35407        |\n",
      "|304930|229233   |Unturned                                          |2961         |\n",
      "|200710|211889   |Torchlight II                                     |14821        |\n",
      "|24240 |196121   |PAYDAY™ The Heist                                 |7215         |\n",
      "|20920 |194620   |The Witcher 2: Assassins of Kings Enhanced Edition|18325        |\n",
      "|200260|188638   |Batman: Arkham City - Game of the Year Edition    |10419        |\n",
      "|219640|162956   |Chivalry: Medieval Warfare                        |22166        |\n",
      "|214950|160918   |Total War™: ROME II - Emperor Edition             |19918        |\n",
      "|48000 |148672   |LIMBO                                             |7340         |\n",
      "|4920  |131590   |Natural Selection 2                               |4630         |\n",
      "|108710|127089   |Alan Wake                                         |8665         |\n",
      "|230410|126954   |Warframe                                          |1140         |\n",
      "|104900|111964   |ORION: Prelude                                    |11752        |\n",
      "|102600|110238   |Orcs Must Die!                                    |2700         |\n",
      "|238960|105823   |Path of Exile                                     |595          |\n",
      "|26800 |100180   |Braid                                             |2673         |\n",
      "|110800|94286    |L.A. Noire                                        |8483         |\n",
      "|224760|91247    |FEZ                                               |4846         |\n",
      "+------+---------+--------------------------------------------------+-------------+\n",
      "only showing top 20 rows\n",
      "\n"
     ]
    }
   ],
   "source": [
    "# revsum_df.describe().show()\n",
    "\n",
    "# revsum_df \\\n",
    "#     .join(publishers, on = \"appid\") \\\n",
    "#     .sort(F.col('total_reviews').desc()) \\\n",
    "#     .show()\n",
    "\n",
    "\n",
    "df = spark.read.parquet(\"file://\" + dataset_path + \"steam-dataset/steam_analysis.Games_Daily\")\n",
    "df = df \\\n",
    "    .join(publishers, on = 'appid') \\\n",
    "    .groupBy('appid') \\\n",
    "    .agg(F.size(F.collect_list('steamid')).alias('n_players')) \\\n",
    "    .join(publishers, on = \"appid\") \\\n",
    "    .join(revsum_df, on = 'appid') \\\n",
    "    .sort(F.col('n_players').desc())\n",
    "\n",
    "df.show(truncate = False)"
   ]
  },
  {
   "cell_type": "code",
   "execution_count": 154,
   "metadata": {},
   "outputs": [
    {
     "name": "stdout",
     "output_type": "stream",
     "text": [
      "+------+---------+--------+-------------+\n",
      "| appid|n_players|   title|total_reviews|\n",
      "+------+---------+--------+-------------+\n",
      "|242920|    63508|Banished|        20537|\n",
      "+------+---------+--------+-------------+\n",
      "\n"
     ]
    }
   ],
   "source": [
    "df.filter(F.col('title').contains(\"Banished\")).show()"
   ]
  },
  {
   "cell_type": "code",
   "execution_count": 69,
   "metadata": {},
   "outputs": [
    {
     "name": "stdout",
     "output_type": "stream",
     "text": [
      "+-------+-----------------+-----------------+--------------+-----------------+\n",
      "|summary|            appid|    total_reviews|        genres|        n_players|\n",
      "+-------+-----------------+-----------------+--------------+-----------------+\n",
      "|  count|             1255|             1255|          1255|             1255|\n",
      "|   mean|222260.8207171315|2562.813545816733|          null|18053.09402390438|\n",
      "| stddev|72176.84989198872|5407.391126020802|          null|38465.12477615768|\n",
      "|    min|             1530|                0|        Action|                7|\n",
      "|    max|           326840|            63446|Web Publishing|           591196|\n",
      "+-------+-----------------+-----------------+--------------+-----------------+\n",
      "\n",
      "+-------+-----------------+-----------------+------------+-----------------+\n",
      "|summary|            appid|    total_reviews|      genres|        n_players|\n",
      "+-------+-----------------+-----------------+------------+-----------------+\n",
      "|  count|               80|               80|          80|               80|\n",
      "|   mean|       260879.875|         2980.725|        null|       11786.1375|\n",
      "| stddev|32921.55007708246|4878.282661027964|        null|41367.63380257435|\n",
      "|    min|           116100|               23|Early Access|                7|\n",
      "|    max|           326840|            25208|Early Access|           284866|\n",
      "+-------+-----------------+-----------------+------------+-----------------+\n",
      "\n",
      "+-------+------------------+------------------+---------+-----------------+\n",
      "|summary|             appid|     total_reviews|   genres|        n_players|\n",
      "+-------+------------------+------------------+---------+-----------------+\n",
      "|  count|               135|               135|      135|              135|\n",
      "|   mean|231528.88888888888|3026.9185185185183|     null|21948.08148148148|\n",
      "| stddev| 61446.57231088012| 5158.984497510148|     null| 39869.0191715606|\n",
      "|    min|              9940|                16|Adventure|               26|\n",
      "|    max|            326840|             25208|Adventure|           229233|\n",
      "+-------+------------------+------------------+---------+-----------------+\n",
      "\n",
      "+--------------------+-----+\n",
      "|              genres|count|\n",
      "+--------------------+-----+\n",
      "|           Education|    2|\n",
      "|Massively Multipl...|   11|\n",
      "|           Adventure|  135|\n",
      "|              Sports|   19|\n",
      "|Animation & Modeling|    1|\n",
      "|              Racing|   20|\n",
      "|   Software Training|    2|\n",
      "|      Web Publishing|    1|\n",
      "|           Utilities|    4|\n",
      "|        Early Access|   80|\n",
      "|              Casual|   84|\n",
      "|              Action|  249|\n",
      "|            Strategy|  126|\n",
      "|               Indie|  334|\n",
      "|        Free to Play|   20|\n",
      "|                 RPG|   94|\n",
      "|          Simulation|   73|\n",
      "+--------------------+-----+\n",
      "\n"
     ]
    }
   ],
   "source": [
    "joined_df \\\n",
    "    .describe() \\\n",
    "    .show()\n",
    "\n",
    "joined_df \\\n",
    "    .filter(F.col('genres') == \"Early Access\") \\\n",
    "    .describe() \\\n",
    "    .show()\n",
    "\n",
    "joined_df \\\n",
    "    .filter(F.col('genres') == \"Adventure\") \\\n",
    "    .describe() \\\n",
    "    .show()\n",
    "\n",
    "count_df = joined_df \\\n",
    "    .groupby('genres') \\\n",
    "    .count()\n",
    "count_df.show()"
   ]
  },
  {
   "cell_type": "code",
   "execution_count": 71,
   "metadata": {},
   "outputs": [
    {
     "data": {
      "text/plain": [
       "<AxesSubplot:>"
      ]
     },
     "execution_count": 71,
     "metadata": {},
     "output_type": "execute_result"
    },
    {
     "data": {
      "image/png": "[encoded data removed]",
      "text/plain": [
       "<Figure size 432x288 with 1 Axes>"
      ]
     },
     "metadata": {
      "needs_background": "light"
     },
     "output_type": "display_data"
    }
   ],
   "source": [
    "count_df \\\n",
    "    .sort(F.col('count')) \\\n",
    "    .toPandas() \\\n",
    "    .plot.bar()"
   ]
  },
  {
   "cell_type": "code",
   "execution_count": 77,
   "metadata": {
    "scrolled": true
   },
   "outputs": [
    {
     "data": {
      "text/plain": [
       "<AxesSubplot:>"
      ]
     },
     "execution_count": 77,
     "metadata": {},
     "output_type": "execute_result"
    },
    {
     "data": {
      "image/png": "[encoded data removed]",
      "text/plain": [
       "<Figure size 432x288 with 1 Axes>"
      ]
     },
     "metadata": {
      "needs_background": "light"
     },
     "output_type": "display_data"
    }
   ],
   "source": [
    "n_player_sum = joined_df \\\n",
    "    .groupby('genres') \\\n",
    "    .agg(F.sum('n_players').alias('n_players')) \\\n",
    "    .sort(F.col('n_players')) \\\n",
    "    .toPandas()\n",
    "\n",
    "n_player_sum.plot.bar()"
   ]
  },
  {
   "cell_type": "code",
   "execution_count": 81,
   "metadata": {},
   "outputs": [
    {
     "data": {
      "text/html": [
       "<div>\n",
       "<style scoped>\n",
       "    .dataframe tbody tr th:only-of-type {\n",
       "        vertical-align: middle;\n",
       "    }\n",
       "\n",
       "    .dataframe tbody tr th {\n",
       "        vertical-align: top;\n",
       "    }\n",
       "\n",
       "    .dataframe thead th {\n",
       "        text-align: right;\n",
       "    }\n",
       "</style>\n",
       "<table border=\"1\" class=\"dataframe\">\n",
       "  <thead>\n",
       "    <tr style=\"text-align: right;\">\n",
       "      <th></th>\n",
       "      <th>genres</th>\n",
       "      <th>n_players</th>\n",
       "    </tr>\n",
       "  </thead>\n",
       "  <tbody>\n",
       "    <tr>\n",
       "      <th>0</th>\n",
       "      <td>Animation &amp; Modeling</td>\n",
       "      <td>299</td>\n",
       "    </tr>\n",
       "    <tr>\n",
       "      <th>1</th>\n",
       "      <td>Web Publishing</td>\n",
       "      <td>446</td>\n",
       "    </tr>\n",
       "    <tr>\n",
       "      <th>2</th>\n",
       "      <td>Education</td>\n",
       "      <td>745</td>\n",
       "    </tr>\n",
       "    <tr>\n",
       "      <th>3</th>\n",
       "      <td>Software Training</td>\n",
       "      <td>745</td>\n",
       "    </tr>\n",
       "    <tr>\n",
       "      <th>4</th>\n",
       "      <td>Utilities</td>\n",
       "      <td>13060</td>\n",
       "    </tr>\n",
       "    <tr>\n",
       "      <th>5</th>\n",
       "      <td>Sports</td>\n",
       "      <td>132684</td>\n",
       "    </tr>\n",
       "    <tr>\n",
       "      <th>6</th>\n",
       "      <td>Racing</td>\n",
       "      <td>161569</td>\n",
       "    </tr>\n",
       "    <tr>\n",
       "      <th>7</th>\n",
       "      <td>Massively Multiplayer</td>\n",
       "      <td>246223</td>\n",
       "    </tr>\n",
       "    <tr>\n",
       "      <th>8</th>\n",
       "      <td>Simulation</td>\n",
       "      <td>744742</td>\n",
       "    </tr>\n",
       "    <tr>\n",
       "      <th>9</th>\n",
       "      <td>Free to Play</td>\n",
       "      <td>814257</td>\n",
       "    </tr>\n",
       "    <tr>\n",
       "      <th>10</th>\n",
       "      <td>Early Access</td>\n",
       "      <td>942891</td>\n",
       "    </tr>\n",
       "    <tr>\n",
       "      <th>11</th>\n",
       "      <td>Casual</td>\n",
       "      <td>1221056</td>\n",
       "    </tr>\n",
       "    <tr>\n",
       "      <th>12</th>\n",
       "      <td>RPG</td>\n",
       "      <td>1614068</td>\n",
       "    </tr>\n",
       "    <tr>\n",
       "      <th>13</th>\n",
       "      <td>Strategy</td>\n",
       "      <td>2618203</td>\n",
       "    </tr>\n",
       "    <tr>\n",
       "      <th>14</th>\n",
       "      <td>Adventure</td>\n",
       "      <td>2962991</td>\n",
       "    </tr>\n",
       "    <tr>\n",
       "      <th>15</th>\n",
       "      <td>Action</td>\n",
       "      <td>5249740</td>\n",
       "    </tr>\n",
       "    <tr>\n",
       "      <th>16</th>\n",
       "      <td>Indie</td>\n",
       "      <td>5932914</td>\n",
       "    </tr>\n",
       "  </tbody>\n",
       "</table>\n",
       "</div>"
      ],
      "text/plain": [
       "                   genres  n_players\n",
       "0    Animation & Modeling        299\n",
       "1          Web Publishing        446\n",
       "2               Education        745\n",
       "3       Software Training        745\n",
       "4               Utilities      13060\n",
       "5                  Sports     132684\n",
       "6                  Racing     161569\n",
       "7   Massively Multiplayer     246223\n",
       "8              Simulation     744742\n",
       "9            Free to Play     814257\n",
       "10           Early Access     942891\n",
       "11                 Casual    1221056\n",
       "12                    RPG    1614068\n",
       "13               Strategy    2618203\n",
       "14              Adventure    2962991\n",
       "15                 Action    5249740\n",
       "16                  Indie    5932914"
      ]
     },
     "execution_count": 81,
     "metadata": {},
     "output_type": "execute_result"
    },
    {
     "data": {
      "image/png": "[encoded data removed]",
      "text/plain": [
       "<Figure size 432x288 with 1 Axes>"
      ]
     },
     "metadata": {
      "needs_background": "light"
     },
     "output_type": "display_data"
    }
   ],
   "source": [
    "n_player_sum.plot.bar(x = \"genres\", y = \"n_players\")\n",
    "\n",
    "n_player_sum"
   ]
  },
  {
   "cell_type": "code",
   "execution_count": 84,
   "metadata": {},
   "outputs": [
    {
     "name": "stdout",
     "output_type": "stream",
     "text": [
      "+-----+-------------+------+---------+\n",
      "|appid|total_reviews|genres|n_players|\n",
      "+-----+-------------+------+---------+\n",
      "| 1530|          241| Indie|    36656|\n",
      "| 4920|         4630| Indie|   131590|\n",
      "|13000|           36| Indie|     2043|\n",
      "|15400|           80| Indie|     4871|\n",
      "|16500|            8| Indie|      401|\n",
      "|16600|          146| Indie|    11737|\n",
      "|17570|           53| Indie|    24817|\n",
      "|18300|          222| Indie|     4058|\n",
      "|18500|         2578| Indie|    54380|\n",
      "|18600|           10| Indie|      709|\n",
      "|18820|          172| Indie|     5956|\n",
      "|19320|            3| Indie|      818|\n",
      "|20820|          364| Indie|    37946|\n",
      "|22000|         1730| Indie|    82039|\n",
      "|22230|         1483| Indie|    30762|\n",
      "|24420|          360| Indie|    31560|\n",
      "|26800|         2673| Indie|   100180|\n",
      "|33680|          706| Indie|     3695|\n",
      "|35460|          447| Indie|    24000|\n",
      "|41300|          469| Indie|    18403|\n",
      "+-----+-------------+------+---------+\n",
      "only showing top 20 rows\n",
      "\n"
     ]
    }
   ],
   "source": [
    "joined_df \\\n",
    "    .filter(F.col('genres') == \"Indie\") \\\n",
    "    .sort(F.col('appid')) \\\n",
    "    .show()"
   ]
  },
  {
   "cell_type": "code",
   "execution_count": 101,
   "metadata": {},
   "outputs": [],
   "source": [
    "df = joined_df \\\n",
    "    .filter(F.col('genres').isin(exclude) == False) \\\n",
    "    .filter(F.col('n_players') > 1000) \\\n",
    "    .filter(F.col('total_reviews') > 10) \\\n",
    "    .withColumn('ratio', F.col('n_players') / F.col('total_reviews')) \\\n",
    "    .toPandas()"
   ]
  },
  {
   "cell_type": "code",
   "execution_count": 112,
   "metadata": {},
   "outputs": [
    {
     "data": {
      "text/plain": [
       "<AxesSubplot:>"
      ]
     },
     "execution_count": 112,
     "metadata": {},
     "output_type": "execute_result"
    },
    {
     "data": {
      "image/png": "[encoded data removed]",
      "text/plain": [
       "<Figure size 1440x720 with 1 Axes>"
      ]
     },
     "metadata": {
      "needs_background": "light"
     },
     "output_type": "display_data"
    }
   ],
   "source": [
    "df.loc[df.ratio > df.ratio.quantile(0.5)].ratio.hist(bins = 100, figsize = (20 , 10))"
   ]
  },
  {
   "cell_type": "code",
   "execution_count": null,
   "metadata": {},
   "outputs": [],
   "source": []
  }
 ],
 "metadata": {
  "kernelspec": {
   "display_name": "steam-analysis",
   "language": "python",
   "name": "steam-analysis"
  },
  "language_info": {
   "codemirror_mode": {
    "name": "ipython",
    "version": 3
   },
   "file_extension": ".py",
   "mimetype": "text/x-python",
   "name": "python",
   "nbconvert_exporter": "python",
   "pygments_lexer": "ipython3",
   "version": "3.7.5"
  }
 },
 "nbformat": 4,
 "nbformat_minor": 4
}
